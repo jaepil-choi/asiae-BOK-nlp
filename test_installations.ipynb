{
 "cells": [
  {
   "cell_type": "code",
   "execution_count": 26,
   "metadata": {},
   "outputs": [],
   "source": [
    "import MeCab\n",
    "import konlpy"
   ]
  },
  {
   "cell_type": "code",
   "execution_count": 3,
   "metadata": {},
   "outputs": [
    {
     "name": "stdout",
     "output_type": "stream",
     "text": [
      "MeCab\tSL,*,*,*,*,*,*,*\n",
      "이\tJKS,*,F,이,*,*,*,*\n",
      "잘\tMAG,*,T,잘,*,*,*,*\n",
      "설치\tNNG,행위,F,설치,*,*,*,*\n",
      "되\tXSV,*,F,되,*,*,*,*\n",
      "었\tEP,*,T,었,*,*,*,*\n",
      "는지\tEC,*,F,는지,*,*,*,*\n",
      "확인\tNNG,행위,T,확인,*,*,*,*\n",
      "중\tNNB,*,T,중,*,*,*,*\n",
      "입니다\tVCP+EF,*,F,입니다,Inflect,VCP,EF,이/VCP/*+ᄇ니다/EF/*\n",
      ".\tSF,*,*,*,*,*,*,*\n",
      "EOS\n",
      "\n"
     ]
    }
   ],
   "source": [
    "m = MeCab.Tagger()\n",
    "out = m.parse(\"MeCab이 잘 설치되었는지 확인 중입니다.\")\n",
    "print(out)"
   ]
  },
  {
   "cell_type": "code",
   "execution_count": 2,
   "metadata": {},
   "outputs": [
    {
     "name": "stdout",
     "output_type": "stream",
     "text": [
      "['한국어', '형태소', '분석기', '설치', '확인']\n"
     ]
    }
   ],
   "source": [
    "from konlpy.tag import Kkma\n",
    "\n",
    "Kkma_pos = Kkma()\n",
    "K_nouns = Kkma_pos.nouns(\"한국어 형태소 분석기 설치를 확인해보자.\")\n",
    "print(K_nouns)"
   ]
  },
  {
   "cell_type": "code",
   "execution_count": 20,
   "metadata": {},
   "outputs": [],
   "source": [
    "from konlpy.tag import Mecab\n",
    "\n",
    "mecab = Mecab('C:\\MECAB\\mecab-ko-dic')\n",
    "# mecab = Mecab()"
   ]
  },
  {
   "cell_type": "code",
   "execution_count": 2,
   "metadata": {},
   "outputs": [
    {
     "data": {
      "text/plain": [
       "[('금통위', 'NNG'),\n",
       " ('는', 'JX'),\n",
       " ('따라서', 'MAJ'),\n",
       " ('물가', 'NNG'),\n",
       " ('안정', 'NNG'),\n",
       " ('과', 'JC'),\n",
       " ('병행', 'NNG'),\n",
       " (',', 'SC'),\n",
       " ('경기', 'NNG'),\n",
       " ('상황', 'NNG'),\n",
       " ('에', 'JKB'),\n",
       " ('유의', 'NNG'),\n",
       " ('하', 'XSV'),\n",
       " ('는', 'ETM'),\n",
       " ('금리', 'NNG'),\n",
       " ('정책', 'NNG'),\n",
       " ('을', 'JKO'),\n",
       " ('펼쳐', 'VV'),\n",
       " ('나가', 'VX'),\n",
       " ('기', 'ETN'),\n",
       " ('로', 'JKB'),\n",
       " ('했', 'VV'),\n",
       " ('다고', 'EC'),\n",
       " ('밝혔', 'VV'),\n",
       " ('다', 'EF'),\n",
       " ('.', 'SF')]"
      ]
     },
     "execution_count": 2,
     "metadata": {},
     "output_type": "execute_result"
    }
   ],
   "source": [
    "from ekonlpy.tag import Mecab\n",
    "\n",
    "# mecab = Mecab('C:\\MECAB\\mecab-ko-dic')\n",
    "mecab = Mecab()\n",
    "# mecab = Mecab()\n",
    "mecab.pos(\"금통위는 따라서 물가안정과 병행, 경기상황에 유의하는 금리정책을 펼쳐나가기로 했다고 밝혔다.\")"
   ]
  },
  {
   "cell_type": "code",
   "execution_count": null,
   "metadata": {},
   "outputs": [],
   "source": []
  }
 ],
 "metadata": {
  "kernelspec": {
   "display_name": "Python 3",
   "language": "python",
   "name": "python3"
  },
  "language_info": {
   "codemirror_mode": {
    "name": "ipython",
    "version": 3
   },
   "file_extension": ".py",
   "mimetype": "text/x-python",
   "name": "python",
   "nbconvert_exporter": "python",
   "pygments_lexer": "ipython3",
   "version": "3.7.6"
  }
 },
 "nbformat": 4,
 "nbformat_minor": 4
}

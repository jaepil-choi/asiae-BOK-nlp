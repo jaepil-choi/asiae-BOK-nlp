{
 "cells": [
  {
   "cell_type": "markdown",
   "metadata": {},
   "source": [
    "# 한국은행 의사록 어조 분석\n",
    "\n",
    "이제 극성사전이 완성되었으므로, 이를 이용해 한국은행 의사록의 어조(tone)을 측정하도록 한다. \n",
    "\n",
    "우선 각 일자의 한국은행 의사록을 `sentences`로 분리한 뒤, 각 `sentences`를 다시 `ngrams`로 분리한다. \n",
    "\n",
    "문장별로 추출한 `ngrams`를 바탕으로 각 문장의 `tone_sentence`를 계산한다. \n",
    "\n",
    "문장별 `tone_sentence`가 계산됐으면, 문장을 다시 합쳐 문서(의사록)의 `tone_doc`을 구한다. \n",
    "\n",
    "한 날짜에는 한 문서가 있고, 따라서 한 `tone_doc`이 있으므로, 이제 이 데이터를 바탕으로 한국은행 기준금리 데이터와의 상관관계와 그래프를 확인한다. "
   ]
  },
  {
   "cell_type": "code",
   "execution_count": 115,
   "metadata": {},
   "outputs": [],
   "source": [
    "# -*- coding: utf-8 -*-\n",
    "\n",
    "import pandas as pd\n",
    "import numpy as np\n",
    "import matplotlib.pyplot as plt\n",
    "\n",
    "import multiprocessing as mp\n",
    "\n",
    "import preprocessing_mp_worker as worker"
   ]
  },
  {
   "cell_type": "markdown",
   "metadata": {},
   "source": [
    "## 의사록 데이터를 불러온다. "
   ]
  },
  {
   "cell_type": "markdown",
   "metadata": {},
   "source": [
    "김현진T 코드를 기반으로 minutes_ngram df를 만들 때 문장을 @@@로 split하였다. 따라서 의사록 섹션 2,3을 문장으로 나눌 때 @@@로 split해주면 충분하다. "
   ]
  },
  {
   "cell_type": "code",
   "execution_count": 150,
   "metadata": {
    "collapsed": true,
    "jupyter": {
     "outputs_hidden": true
    }
   },
   "outputs": [
    {
     "data": {
      "text/html": [
       "<div>\n",
       "<style scoped>\n",
       "    .dataframe tbody tr th:only-of-type {\n",
       "        vertical-align: middle;\n",
       "    }\n",
       "\n",
       "    .dataframe tbody tr th {\n",
       "        vertical-align: top;\n",
       "    }\n",
       "\n",
       "    .dataframe thead th {\n",
       "        text-align: right;\n",
       "    }\n",
       "</style>\n",
       "<table border=\"1\" class=\"dataframe\">\n",
       "  <thead>\n",
       "    <tr style=\"text-align: right;\">\n",
       "      <th></th>\n",
       "      <th>date</th>\n",
       "      <th>minutes</th>\n",
       "      <th>Foreign Currency</th>\n",
       "      <th>Financial Markets</th>\n",
       "      <th>ngrams</th>\n",
       "      <th>sections</th>\n",
       "    </tr>\n",
       "  </thead>\n",
       "  <tbody>\n",
       "    <tr>\n",
       "      <th>0</th>\n",
       "      <td>2005-06-09</td>\n",
       "      <td>\\n\\n\\n\\n\\n\\n\\n\\n\\n\\n\\n\\n\\n\\n\\n\\n\\n\\n\\n\\n\\n\\n\\n...</td>\n",
       "      <td>일부 위원은 우리나라 경제가 일본경제  에 비해 더 나아질 특별한 요인이 없음에도 ...</td>\n",
       "      <td>일부 위원은 M1이 실물경제와 어느 정도의   시차를 두고 밀접한 연관성을 지니는지...</td>\n",
       "      <td>[경제/NNG, 경제/NNG, 비해/VV, 특별/NNG, 요인/NNG, 불구/NNG...</td>\n",
       "      <td>일부 위원은 우리나라 경제가 일본경제  에 비해 더 나아질 특별한 요인이 없음에도 ...</td>\n",
       "    </tr>\n",
       "    <tr>\n",
       "      <th>1</th>\n",
       "      <td>2005-06-23</td>\n",
       "      <td>\\n\\n\\n\\n\\n\\n\\n\\n\\n\\n\\n\\n\\n\\n\\n\\n\\n\\n\\n\\n\\n\\n\\n...</td>\n",
       "      <td></td>\n",
       "      <td></td>\n",
       "      <td>[]</td>\n",
       "      <td></td>\n",
       "    </tr>\n",
       "    <tr>\n",
       "      <th>2</th>\n",
       "      <td>2005-07-07</td>\n",
       "      <td>\\n\\n\\n\\n\\n\\n\\n\\n\\n\\n\\n\\n\\n\\n\\n\\n\\n\\n\\n\\n\\n\\n\\n...</td>\n",
       "      <td>일부 위원은 6월 들어 국제유가가 크게   오르고 원화와 엔화간 동조화 현상이 뚜렷...</td>\n",
       "      <td>일부 위원은 단기적으로 대출이 급격히 증가  한 후에는 반드시 조정이 이어지고 민간...</td>\n",
       "      <td>[국제/NNG, 유가/NNG, 오르/VV, 원화/NNG, 화간/NNG, 동조/NNG...</td>\n",
       "      <td>일부 위원은 6월 들어 국제유가가 크게   오르고 원화와 엔화간 동조화 현상이 뚜렷...</td>\n",
       "    </tr>\n",
       "    <tr>\n",
       "      <th>3</th>\n",
       "      <td>2005-08-11</td>\n",
       "      <td>\\n\\n\\n\\n\\n\\n\\n\\n\\n\\n\\n\\n\\n\\n\\n\\n\\n\\n\\n\\n\\n\\n\\n...</td>\n",
       "      <td>일부 위원은 위안화 절상 이후 아시아   통화중 우리나라 원화의 절상폭이 가장 컸다...</td>\n",
       "      <td>일부 위원은 최근 장기시장금리 상승에도 불  구하고 기업 자금조달은 오히려 확대되고...</td>\n",
       "      <td>[위안/NNG, 절상/NNG, 원화/NNG, 절상/NNG, 가장/MAG, 추가/NN...</td>\n",
       "      <td>일부 위원은 위안화 절상 이후 아시아   통화중 우리나라 원화의 절상폭이 가장 컸다...</td>\n",
       "    </tr>\n",
       "    <tr>\n",
       "      <th>4</th>\n",
       "      <td>2005-09-08</td>\n",
       "      <td>\\n\\n\\n\\n\\n\\n\\n\\n\\n\\n\\n\\n\\n\\n\\n\\n\\n\\n\\n\\n\\n\\n\\n...</td>\n",
       "      <td>일부 위원은 최근 인도네시아 금융불안   사태가 발생한 가운데 국제 환투기세력이 인...</td>\n",
       "      <td>일부 위원은 시장이 제대로 작동한다면 비우    - 5 -  량등급의 회사채 가산금...</td>\n",
       "      <td>[금융/NNG, 불안사태/NNG, 발생/NNG, 가운데/NNG, 국제/NNG, 환투...</td>\n",
       "      <td>일부 위원은 최근 인도네시아 금융불안   사태가 발생한 가운데 국제 환투기세력이 인...</td>\n",
       "    </tr>\n",
       "  </tbody>\n",
       "</table>\n",
       "</div>"
      ],
      "text/plain": [
       "         date                                            minutes  \\\n",
       "0  2005-06-09  \\n\\n\\n\\n\\n\\n\\n\\n\\n\\n\\n\\n\\n\\n\\n\\n\\n\\n\\n\\n\\n\\n\\n...   \n",
       "1  2005-06-23  \\n\\n\\n\\n\\n\\n\\n\\n\\n\\n\\n\\n\\n\\n\\n\\n\\n\\n\\n\\n\\n\\n\\n...   \n",
       "2  2005-07-07  \\n\\n\\n\\n\\n\\n\\n\\n\\n\\n\\n\\n\\n\\n\\n\\n\\n\\n\\n\\n\\n\\n\\n...   \n",
       "3  2005-08-11  \\n\\n\\n\\n\\n\\n\\n\\n\\n\\n\\n\\n\\n\\n\\n\\n\\n\\n\\n\\n\\n\\n\\n...   \n",
       "4  2005-09-08  \\n\\n\\n\\n\\n\\n\\n\\n\\n\\n\\n\\n\\n\\n\\n\\n\\n\\n\\n\\n\\n\\n\\n...   \n",
       "\n",
       "                                    Foreign Currency  \\\n",
       "0  일부 위원은 우리나라 경제가 일본경제  에 비해 더 나아질 특별한 요인이 없음에도 ...   \n",
       "1                                                      \n",
       "2  일부 위원은 6월 들어 국제유가가 크게   오르고 원화와 엔화간 동조화 현상이 뚜렷...   \n",
       "3  일부 위원은 위안화 절상 이후 아시아   통화중 우리나라 원화의 절상폭이 가장 컸다...   \n",
       "4  일부 위원은 최근 인도네시아 금융불안   사태가 발생한 가운데 국제 환투기세력이 인...   \n",
       "\n",
       "                                   Financial Markets  \\\n",
       "0  일부 위원은 M1이 실물경제와 어느 정도의   시차를 두고 밀접한 연관성을 지니는지...   \n",
       "1                                                      \n",
       "2  일부 위원은 단기적으로 대출이 급격히 증가  한 후에는 반드시 조정이 이어지고 민간...   \n",
       "3  일부 위원은 최근 장기시장금리 상승에도 불  구하고 기업 자금조달은 오히려 확대되고...   \n",
       "4  일부 위원은 시장이 제대로 작동한다면 비우    - 5 -  량등급의 회사채 가산금...   \n",
       "\n",
       "                                              ngrams  \\\n",
       "0  [경제/NNG, 경제/NNG, 비해/VV, 특별/NNG, 요인/NNG, 불구/NNG...   \n",
       "1                                                 []   \n",
       "2  [국제/NNG, 유가/NNG, 오르/VV, 원화/NNG, 화간/NNG, 동조/NNG...   \n",
       "3  [위안/NNG, 절상/NNG, 원화/NNG, 절상/NNG, 가장/MAG, 추가/NN...   \n",
       "4  [금융/NNG, 불안사태/NNG, 발생/NNG, 가운데/NNG, 국제/NNG, 환투...   \n",
       "\n",
       "                                            sections  \n",
       "0  일부 위원은 우리나라 경제가 일본경제  에 비해 더 나아질 특별한 요인이 없음에도 ...  \n",
       "1                                                     \n",
       "2  일부 위원은 6월 들어 국제유가가 크게   오르고 원화와 엔화간 동조화 현상이 뚜렷...  \n",
       "3  일부 위원은 위안화 절상 이후 아시아   통화중 우리나라 원화의 절상폭이 가장 컸다...  \n",
       "4  일부 위원은 최근 인도네시아 금융불안   사태가 발생한 가운데 국제 환투기세력이 인...  "
      ]
     },
     "execution_count": 150,
     "metadata": {},
     "output_type": "execute_result"
    }
   ],
   "source": [
    "minutes_df = pd.read_pickle('./data_files/BOK_minutes/pkl/minutes_ngram.pkl')\n",
    "# minutes_df = minutes_df[['date', 'minutes']]\n",
    "minutes_df.loc[:, 'sections'] = minutes_df['Foreign Currency'] + minutes_df['Financial Markets']\n",
    "# minutes_df = minutes_df[['date', 'sections']]\n",
    "minutes_df.head()"
   ]
  },
  {
   "cell_type": "code",
   "execution_count": 151,
   "metadata": {},
   "outputs": [
    {
     "data": {
      "text/html": [
       "<div>\n",
       "<style scoped>\n",
       "    .dataframe tbody tr th:only-of-type {\n",
       "        vertical-align: middle;\n",
       "    }\n",
       "\n",
       "    .dataframe tbody tr th {\n",
       "        vertical-align: top;\n",
       "    }\n",
       "\n",
       "    .dataframe thead th {\n",
       "        text-align: right;\n",
       "    }\n",
       "</style>\n",
       "<table border=\"1\" class=\"dataframe\">\n",
       "  <thead>\n",
       "    <tr style=\"text-align: right;\">\n",
       "      <th></th>\n",
       "      <th>date</th>\n",
       "      <th>minutes</th>\n",
       "      <th>Foreign Currency</th>\n",
       "      <th>Financial Markets</th>\n",
       "      <th>ngrams</th>\n",
       "      <th>sections</th>\n",
       "    </tr>\n",
       "  </thead>\n",
       "  <tbody>\n",
       "    <tr>\n",
       "      <th>53</th>\n",
       "      <td>2008-01-04</td>\n",
       "      <td>\\n\\n\\n\\n\\n\\n\\n\\n\\n\\n\\n\\n\\n\\n\\n\\n\\n\\n\\n\\n\\n\\n\\n...</td>\n",
       "      <td></td>\n",
       "      <td></td>\n",
       "      <td>[]</td>\n",
       "      <td></td>\n",
       "    </tr>\n",
       "    <tr>\n",
       "      <th>54</th>\n",
       "      <td>2008-01-10</td>\n",
       "      <td>\\n\\n\\n\\n\\n\\n\\n\\n\\n\\n\\n\\n\\n\\n\\n\\n\\n\\n\\n\\n\\n\\n\\n...</td>\n",
       "      <td>일부 위원은 최근 크게 확대된 해외증  권투자에 대해 일각에서는 투자자금에 대한 환...</td>\n",
       "      <td>일부 위원은 은행들이 주식시장으로 자금이   이동하는 상황에서 대출을 축소하기보다는...</td>\n",
       "      <td>[확대/NNG, 외증/NNG, 투자/NNG, 대해/VV, 일각/NNG, 투자자금/N...</td>\n",
       "      <td>일부 위원은 최근 크게 확대된 해외증  권투자에 대해 일각에서는 투자자금에 대한 환...</td>\n",
       "    </tr>\n",
       "    <tr>\n",
       "      <th>55</th>\n",
       "      <td>2008-01-24</td>\n",
       "      <td>\\n\\n\\n\\n\\n\\n\\n\\n\\n\\n\\n\\n\\n\\n\\n\\n\\n\\n\\n\\n\\n\\n\\n...</td>\n",
       "      <td></td>\n",
       "      <td></td>\n",
       "      <td>[]</td>\n",
       "      <td></td>\n",
       "    </tr>\n",
       "    <tr>\n",
       "      <th>56</th>\n",
       "      <td>2008-02-13</td>\n",
       "      <td>\\n\\n\\n\\n\\n\\n\\n\\n\\n\\n\\n\\n\\n\\n\\n\\n\\n\\n\\n\\n\\n\\n\\n...</td>\n",
       "      <td></td>\n",
       "      <td></td>\n",
       "      <td>[]</td>\n",
       "      <td></td>\n",
       "    </tr>\n",
       "    <tr>\n",
       "      <th>57</th>\n",
       "      <td>2008-03-07</td>\n",
       "      <td>\\n\\n\\n\\n\\n\\n\\n\\n\\n\\n\\n\\n\\n\\n\\n\\n\\n\\n\\n\\n\\n\\n\\n...</td>\n",
       "      <td></td>\n",
       "      <td></td>\n",
       "      <td>[]</td>\n",
       "      <td></td>\n",
       "    </tr>\n",
       "    <tr>\n",
       "      <th>...</th>\n",
       "      <td>...</td>\n",
       "      <td>...</td>\n",
       "      <td>...</td>\n",
       "      <td>...</td>\n",
       "      <td>...</td>\n",
       "      <td>...</td>\n",
       "    </tr>\n",
       "    <tr>\n",
       "      <th>139</th>\n",
       "      <td>2011-11-24</td>\n",
       "      <td>\\n\\n\\n\\n\\n\\n\\n\\n\\n\\n\\n\\n\\n\\n\\n\\n\\n\\n\\n\\n\\n\\n\\n...</td>\n",
       "      <td></td>\n",
       "      <td></td>\n",
       "      <td>[]</td>\n",
       "      <td></td>\n",
       "    </tr>\n",
       "    <tr>\n",
       "      <th>140</th>\n",
       "      <td>2011-12-08</td>\n",
       "      <td>\\n\\n\\n\\n\\n\\n\\n\\n\\n\\n\\n\\n\\n\\n\\n\\n\\n\\n\\n\\n\\n\\n\\n...</td>\n",
       "      <td></td>\n",
       "      <td></td>\n",
       "      <td>[]</td>\n",
       "      <td></td>\n",
       "    </tr>\n",
       "    <tr>\n",
       "      <th>141</th>\n",
       "      <td>2011-12-16</td>\n",
       "      <td>\\n\\n\\n\\n\\n\\n\\n\\n\\n\\n\\n\\n\\n\\n\\n\\n\\n\\n\\n\\n\\n\\n\\n...</td>\n",
       "      <td></td>\n",
       "      <td></td>\n",
       "      <td>[]</td>\n",
       "      <td></td>\n",
       "    </tr>\n",
       "    <tr>\n",
       "      <th>142</th>\n",
       "      <td>2011-12-22</td>\n",
       "      <td>\\n\\n\\n\\n\\n\\n\\n\\n\\n\\n\\n\\n\\n\\n\\n\\n\\n\\n\\n\\n\\n\\n\\n...</td>\n",
       "      <td></td>\n",
       "      <td></td>\n",
       "      <td>[]</td>\n",
       "      <td></td>\n",
       "    </tr>\n",
       "    <tr>\n",
       "      <th>143</th>\n",
       "      <td>2011-12-29</td>\n",
       "      <td>\\n\\n\\n\\n\\n\\n\\n\\n\\n\\n\\n\\n\\n\\n\\n\\n\\n\\n\\n\\n\\n\\n\\n...</td>\n",
       "      <td></td>\n",
       "      <td></td>\n",
       "      <td>[]</td>\n",
       "      <td></td>\n",
       "    </tr>\n",
       "  </tbody>\n",
       "</table>\n",
       "<p>91 rows × 6 columns</p>\n",
       "</div>"
      ],
      "text/plain": [
       "          date                                            minutes  \\\n",
       "53  2008-01-04  \\n\\n\\n\\n\\n\\n\\n\\n\\n\\n\\n\\n\\n\\n\\n\\n\\n\\n\\n\\n\\n\\n\\n...   \n",
       "54  2008-01-10  \\n\\n\\n\\n\\n\\n\\n\\n\\n\\n\\n\\n\\n\\n\\n\\n\\n\\n\\n\\n\\n\\n\\n...   \n",
       "55  2008-01-24  \\n\\n\\n\\n\\n\\n\\n\\n\\n\\n\\n\\n\\n\\n\\n\\n\\n\\n\\n\\n\\n\\n\\n...   \n",
       "56  2008-02-13  \\n\\n\\n\\n\\n\\n\\n\\n\\n\\n\\n\\n\\n\\n\\n\\n\\n\\n\\n\\n\\n\\n\\n...   \n",
       "57  2008-03-07  \\n\\n\\n\\n\\n\\n\\n\\n\\n\\n\\n\\n\\n\\n\\n\\n\\n\\n\\n\\n\\n\\n\\n...   \n",
       "..         ...                                                ...   \n",
       "139 2011-11-24  \\n\\n\\n\\n\\n\\n\\n\\n\\n\\n\\n\\n\\n\\n\\n\\n\\n\\n\\n\\n\\n\\n\\n...   \n",
       "140 2011-12-08  \\n\\n\\n\\n\\n\\n\\n\\n\\n\\n\\n\\n\\n\\n\\n\\n\\n\\n\\n\\n\\n\\n\\n...   \n",
       "141 2011-12-16  \\n\\n\\n\\n\\n\\n\\n\\n\\n\\n\\n\\n\\n\\n\\n\\n\\n\\n\\n\\n\\n\\n\\n...   \n",
       "142 2011-12-22  \\n\\n\\n\\n\\n\\n\\n\\n\\n\\n\\n\\n\\n\\n\\n\\n\\n\\n\\n\\n\\n\\n\\n...   \n",
       "143 2011-12-29  \\n\\n\\n\\n\\n\\n\\n\\n\\n\\n\\n\\n\\n\\n\\n\\n\\n\\n\\n\\n\\n\\n\\n...   \n",
       "\n",
       "                                      Foreign Currency  \\\n",
       "53                                                       \n",
       "54   일부 위원은 최근 크게 확대된 해외증  권투자에 대해 일각에서는 투자자금에 대한 환...   \n",
       "55                                                       \n",
       "56                                                       \n",
       "57                                                       \n",
       "..                                                 ...   \n",
       "139                                                      \n",
       "140                                                      \n",
       "141                                                      \n",
       "142                                                      \n",
       "143                                                      \n",
       "\n",
       "                                     Financial Markets  \\\n",
       "53                                                       \n",
       "54   일부 위원은 은행들이 주식시장으로 자금이   이동하는 상황에서 대출을 축소하기보다는...   \n",
       "55                                                       \n",
       "56                                                       \n",
       "57                                                       \n",
       "..                                                 ...   \n",
       "139                                                      \n",
       "140                                                      \n",
       "141                                                      \n",
       "142                                                      \n",
       "143                                                      \n",
       "\n",
       "                                                ngrams  \\\n",
       "53                                                  []   \n",
       "54   [확대/NNG, 외증/NNG, 투자/NNG, 대해/VV, 일각/NNG, 투자자금/N...   \n",
       "55                                                  []   \n",
       "56                                                  []   \n",
       "57                                                  []   \n",
       "..                                                 ...   \n",
       "139                                                 []   \n",
       "140                                                 []   \n",
       "141                                                 []   \n",
       "142                                                 []   \n",
       "143                                                 []   \n",
       "\n",
       "                                              sections  \n",
       "53                                                      \n",
       "54   일부 위원은 최근 크게 확대된 해외증  권투자에 대해 일각에서는 투자자금에 대한 환...  \n",
       "55                                                      \n",
       "56                                                      \n",
       "57                                                      \n",
       "..                                                 ...  \n",
       "139                                                     \n",
       "140                                                     \n",
       "141                                                     \n",
       "142                                                     \n",
       "143                                                     \n",
       "\n",
       "[91 rows x 6 columns]"
      ]
     },
     "execution_count": 151,
     "metadata": {},
     "output_type": "execute_result"
    }
   ],
   "source": [
    "minutes_df.date = pd.to_datetime(minutes_df.date)\n",
    "minutes_df[(minutes_df.date > pd.to_datetime('2008-01-01')) & (minutes_df.date < pd.to_datetime('2011-12-31'))]"
   ]
  },
  {
   "cell_type": "markdown",
   "metadata": {},
   "source": [
    "## 의사록 섹션 2, 3(`sections`)를 문장(`sentences`)들로 분리한다. "
   ]
  },
  {
   "cell_type": "code",
   "execution_count": 117,
   "metadata": {},
   "outputs": [],
   "source": [
    "def split_by_at_sign(text):\n",
    "    return text.split('@@@')"
   ]
  },
  {
   "cell_type": "code",
   "execution_count": 118,
   "metadata": {},
   "outputs": [
    {
     "name": "stdout",
     "output_type": "stream",
     "text": [
      "Wall time: 14.6 ms\n"
     ]
    }
   ],
   "source": [
    "%%time\n",
    "\n",
    "# minutes_df.loc[:, 'sentences'] = minutes_df.minutes.map(lambda x: worker.tidy_sentences(x)[0])\n",
    "minutes_df.loc[:, 'sentences'] = minutes_df.sections.map(split_by_at_sign)"
   ]
  },
  {
   "cell_type": "code",
   "execution_count": 119,
   "metadata": {},
   "outputs": [
    {
     "data": {
      "text/html": [
       "<div>\n",
       "<style scoped>\n",
       "    .dataframe tbody tr th:only-of-type {\n",
       "        vertical-align: middle;\n",
       "    }\n",
       "\n",
       "    .dataframe tbody tr th {\n",
       "        vertical-align: top;\n",
       "    }\n",
       "\n",
       "    .dataframe thead th {\n",
       "        text-align: right;\n",
       "    }\n",
       "</style>\n",
       "<table border=\"1\" class=\"dataframe\">\n",
       "  <thead>\n",
       "    <tr style=\"text-align: right;\">\n",
       "      <th></th>\n",
       "      <th>date</th>\n",
       "      <th>sections</th>\n",
       "      <th>sentences</th>\n",
       "    </tr>\n",
       "  </thead>\n",
       "  <tbody>\n",
       "    <tr>\n",
       "      <th>0</th>\n",
       "      <td>2005-06-09</td>\n",
       "      <td>일부 위원은 우리나라 경제가 일본경제  에 비해 더 나아질 특별한 요인이 없음에도 ...</td>\n",
       "      <td>일부 위원은 우리나라 경제가 일본경제  에 비해 더 나아질 특별한 요인이 없음에도 ...</td>\n",
       "    </tr>\n",
       "    <tr>\n",
       "      <th>0</th>\n",
       "      <td>2005-06-09</td>\n",
       "      <td>일부 위원은 우리나라 경제가 일본경제  에 비해 더 나아질 특별한 요인이 없음에도 ...</td>\n",
       "      <td>- 6 -     동 위원은 환율이 중장기적으로 각국의 기초경제여건(fundamen...</td>\n",
       "    </tr>\n",
       "    <tr>\n",
       "      <th>0</th>\n",
       "      <td>2005-06-09</td>\n",
       "      <td>일부 위원은 우리나라 경제가 일본경제  에 비해 더 나아질 특별한 요인이 없음에도 ...</td>\n",
       "      <td>다른 일부 위원은 최근 유로지역의 경제성장 실적이 예상보다 저조한 가운  데 일각에...</td>\n",
       "    </tr>\n",
       "    <tr>\n",
       "      <th>0</th>\n",
       "      <td>2005-06-09</td>\n",
       "      <td>일부 위원은 우리나라 경제가 일본경제  에 비해 더 나아질 특별한 요인이 없음에도 ...</td>\n",
       "      <td>동 위원은 국내 금리가 현 수준에서 유지되고 미국 금리가 상승하는 가운  데 달러화...</td>\n",
       "    </tr>\n",
       "    <tr>\n",
       "      <th>0</th>\n",
       "      <td>2005-06-09</td>\n",
       "      <td>일부 위원은 우리나라 경제가 일본경제  에 비해 더 나아질 특별한 요인이 없음에도 ...</td>\n",
       "      <td>다른 일부 위원은 최근 가계대출의 월평균 증가액이 2003년과 지난해 실적  을 크...</td>\n",
       "    </tr>\n",
       "  </tbody>\n",
       "</table>\n",
       "</div>"
      ],
      "text/plain": [
       "         date                                           sections  \\\n",
       "0  2005-06-09  일부 위원은 우리나라 경제가 일본경제  에 비해 더 나아질 특별한 요인이 없음에도 ...   \n",
       "0  2005-06-09  일부 위원은 우리나라 경제가 일본경제  에 비해 더 나아질 특별한 요인이 없음에도 ...   \n",
       "0  2005-06-09  일부 위원은 우리나라 경제가 일본경제  에 비해 더 나아질 특별한 요인이 없음에도 ...   \n",
       "0  2005-06-09  일부 위원은 우리나라 경제가 일본경제  에 비해 더 나아질 특별한 요인이 없음에도 ...   \n",
       "0  2005-06-09  일부 위원은 우리나라 경제가 일본경제  에 비해 더 나아질 특별한 요인이 없음에도 ...   \n",
       "\n",
       "                                           sentences  \n",
       "0  일부 위원은 우리나라 경제가 일본경제  에 비해 더 나아질 특별한 요인이 없음에도 ...  \n",
       "0  - 6 -     동 위원은 환율이 중장기적으로 각국의 기초경제여건(fundamen...  \n",
       "0  다른 일부 위원은 최근 유로지역의 경제성장 실적이 예상보다 저조한 가운  데 일각에...  \n",
       "0  동 위원은 국내 금리가 현 수준에서 유지되고 미국 금리가 상승하는 가운  데 달러화...  \n",
       "0  다른 일부 위원은 최근 가계대출의 월평균 증가액이 2003년과 지난해 실적  을 크...  "
      ]
     },
     "execution_count": 119,
     "metadata": {},
     "output_type": "execute_result"
    }
   ],
   "source": [
    "minutes_df = minutes_df.explode('sentences')\n",
    "minutes_df.head()"
   ]
  },
  {
   "cell_type": "code",
   "execution_count": 120,
   "metadata": {},
   "outputs": [],
   "source": [
    "minutes_df.dropna(inplace=True) # sentences가 np.nan이라서 float으로 들어가 오류나는 경우 존재한다. \n",
    "minutes_df.date = pd.to_datetime(minutes_df.date)\n",
    "minutes_df.reset_index(drop=True, inplace=True)"
   ]
  },
  {
   "cell_type": "code",
   "execution_count": 121,
   "metadata": {},
   "outputs": [
    {
     "data": {
      "text/plain": [
       "11502"
      ]
     },
     "execution_count": 121,
     "metadata": {},
     "output_type": "execute_result"
    }
   ],
   "source": [
    "len(minutes_df)"
   ]
  },
  {
   "cell_type": "code",
   "execution_count": 122,
   "metadata": {},
   "outputs": [
    {
     "data": {
      "text/html": [
       "<div>\n",
       "<style scoped>\n",
       "    .dataframe tbody tr th:only-of-type {\n",
       "        vertical-align: middle;\n",
       "    }\n",
       "\n",
       "    .dataframe tbody tr th {\n",
       "        vertical-align: top;\n",
       "    }\n",
       "\n",
       "    .dataframe thead th {\n",
       "        text-align: right;\n",
       "    }\n",
       "</style>\n",
       "<table border=\"1\" class=\"dataframe\">\n",
       "  <thead>\n",
       "    <tr style=\"text-align: right;\">\n",
       "      <th></th>\n",
       "      <th>date</th>\n",
       "      <th>sections</th>\n",
       "      <th>sentences</th>\n",
       "    </tr>\n",
       "  </thead>\n",
       "  <tbody>\n",
       "    <tr>\n",
       "      <th>count</th>\n",
       "      <td>11502</td>\n",
       "      <td>11502</td>\n",
       "      <td>11502</td>\n",
       "    </tr>\n",
       "    <tr>\n",
       "      <th>unique</th>\n",
       "      <td>301</td>\n",
       "      <td>117</td>\n",
       "      <td>11051</td>\n",
       "    </tr>\n",
       "    <tr>\n",
       "      <th>top</th>\n",
       "      <td>2012-04-13 00:00:00</td>\n",
       "      <td>일부 위원은 최근 일부 기업의 해외  현지법인이 해외채권을 외평채 보다도 낮은 금리...</td>\n",
       "      <td></td>\n",
       "    </tr>\n",
       "    <tr>\n",
       "      <th>freq</th>\n",
       "      <td>324</td>\n",
       "      <td>324</td>\n",
       "      <td>185</td>\n",
       "    </tr>\n",
       "    <tr>\n",
       "      <th>first</th>\n",
       "      <td>2005-06-09 00:00:00</td>\n",
       "      <td>NaN</td>\n",
       "      <td>NaN</td>\n",
       "    </tr>\n",
       "    <tr>\n",
       "      <th>last</th>\n",
       "      <td>2020-01-17 00:00:00</td>\n",
       "      <td>NaN</td>\n",
       "      <td>NaN</td>\n",
       "    </tr>\n",
       "  </tbody>\n",
       "</table>\n",
       "</div>"
      ],
      "text/plain": [
       "                       date  \\\n",
       "count                 11502   \n",
       "unique                  301   \n",
       "top     2012-04-13 00:00:00   \n",
       "freq                    324   \n",
       "first   2005-06-09 00:00:00   \n",
       "last    2020-01-17 00:00:00   \n",
       "\n",
       "                                                 sections sentences  \n",
       "count                                               11502     11502  \n",
       "unique                                                117     11051  \n",
       "top     일부 위원은 최근 일부 기업의 해외  현지법인이 해외채권을 외평채 보다도 낮은 금리...            \n",
       "freq                                                  324       185  \n",
       "first                                                 NaN       NaN  \n",
       "last                                                  NaN       NaN  "
      ]
     },
     "execution_count": 122,
     "metadata": {},
     "output_type": "execute_result"
    }
   ],
   "source": [
    "minutes_df.describe()"
   ]
  },
  {
   "cell_type": "code",
   "execution_count": 123,
   "metadata": {},
   "outputs": [
    {
     "data": {
      "text/html": [
       "<div>\n",
       "<style scoped>\n",
       "    .dataframe tbody tr th:only-of-type {\n",
       "        vertical-align: middle;\n",
       "    }\n",
       "\n",
       "    .dataframe tbody tr th {\n",
       "        vertical-align: top;\n",
       "    }\n",
       "\n",
       "    .dataframe thead th {\n",
       "        text-align: right;\n",
       "    }\n",
       "</style>\n",
       "<table border=\"1\" class=\"dataframe\">\n",
       "  <thead>\n",
       "    <tr style=\"text-align: right;\">\n",
       "      <th></th>\n",
       "      <th>date</th>\n",
       "      <th>sections</th>\n",
       "      <th>sentences</th>\n",
       "    </tr>\n",
       "  </thead>\n",
       "  <tbody>\n",
       "    <tr>\n",
       "      <th>0</th>\n",
       "      <td>2005-06-09</td>\n",
       "      <td>일부 위원은 우리나라 경제가 일본경제  에 비해 더 나아질 특별한 요인이 없음에도 ...</td>\n",
       "      <td>일부 위원은 우리나라 경제가 일본경제  에 비해 더 나아질 특별한 요인이 없음에도 ...</td>\n",
       "    </tr>\n",
       "    <tr>\n",
       "      <th>1</th>\n",
       "      <td>2005-06-09</td>\n",
       "      <td>일부 위원은 우리나라 경제가 일본경제  에 비해 더 나아질 특별한 요인이 없음에도 ...</td>\n",
       "      <td>- 6 -     동 위원은 환율이 중장기적으로 각국의 기초경제여건(fundamen...</td>\n",
       "    </tr>\n",
       "    <tr>\n",
       "      <th>2</th>\n",
       "      <td>2005-06-09</td>\n",
       "      <td>일부 위원은 우리나라 경제가 일본경제  에 비해 더 나아질 특별한 요인이 없음에도 ...</td>\n",
       "      <td>다른 일부 위원은 최근 유로지역의 경제성장 실적이 예상보다 저조한 가운  데 일각에...</td>\n",
       "    </tr>\n",
       "    <tr>\n",
       "      <th>3</th>\n",
       "      <td>2005-06-09</td>\n",
       "      <td>일부 위원은 우리나라 경제가 일본경제  에 비해 더 나아질 특별한 요인이 없음에도 ...</td>\n",
       "      <td>동 위원은 국내 금리가 현 수준에서 유지되고 미국 금리가 상승하는 가운  데 달러화...</td>\n",
       "    </tr>\n",
       "    <tr>\n",
       "      <th>4</th>\n",
       "      <td>2005-06-09</td>\n",
       "      <td>일부 위원은 우리나라 경제가 일본경제  에 비해 더 나아질 특별한 요인이 없음에도 ...</td>\n",
       "      <td>다른 일부 위원은 최근 가계대출의 월평균 증가액이 2003년과 지난해 실적  을 크...</td>\n",
       "    </tr>\n",
       "  </tbody>\n",
       "</table>\n",
       "</div>"
      ],
      "text/plain": [
       "        date                                           sections  \\\n",
       "0 2005-06-09  일부 위원은 우리나라 경제가 일본경제  에 비해 더 나아질 특별한 요인이 없음에도 ...   \n",
       "1 2005-06-09  일부 위원은 우리나라 경제가 일본경제  에 비해 더 나아질 특별한 요인이 없음에도 ...   \n",
       "2 2005-06-09  일부 위원은 우리나라 경제가 일본경제  에 비해 더 나아질 특별한 요인이 없음에도 ...   \n",
       "3 2005-06-09  일부 위원은 우리나라 경제가 일본경제  에 비해 더 나아질 특별한 요인이 없음에도 ...   \n",
       "4 2005-06-09  일부 위원은 우리나라 경제가 일본경제  에 비해 더 나아질 특별한 요인이 없음에도 ...   \n",
       "\n",
       "                                           sentences  \n",
       "0  일부 위원은 우리나라 경제가 일본경제  에 비해 더 나아질 특별한 요인이 없음에도 ...  \n",
       "1  - 6 -     동 위원은 환율이 중장기적으로 각국의 기초경제여건(fundamen...  \n",
       "2  다른 일부 위원은 최근 유로지역의 경제성장 실적이 예상보다 저조한 가운  데 일각에...  \n",
       "3  동 위원은 국내 금리가 현 수준에서 유지되고 미국 금리가 상승하는 가운  데 달러화...  \n",
       "4  다른 일부 위원은 최근 가계대출의 월평균 증가액이 2003년과 지난해 실적  을 크...  "
      ]
     },
     "execution_count": 123,
     "metadata": {},
     "output_type": "execute_result"
    }
   ],
   "source": [
    "minutes_df.head()"
   ]
  },
  {
   "cell_type": "markdown",
   "metadata": {},
   "source": [
    "## 각 문장을 `ngrams`로 분리한다. "
   ]
  },
  {
   "cell_type": "code",
   "execution_count": 13,
   "metadata": {},
   "outputs": [
    {
     "name": "stdout",
     "output_type": "stream",
     "text": [
      "Wall time: 10min 46s\n"
     ]
    }
   ],
   "source": [
    "%%time \n",
    "# Wall time: 42min 39s\n",
    "\n",
    "with mp.Pool(processes=6) as p:\n",
    "    minutes_sentences_ngrams = p.map(worker.text2ngram, minutes_df.sentences)"
   ]
  },
  {
   "cell_type": "code",
   "execution_count": 124,
   "metadata": {},
   "outputs": [
    {
     "data": {
      "text/plain": [
       "11502"
      ]
     },
     "execution_count": 124,
     "metadata": {},
     "output_type": "execute_result"
    }
   ],
   "source": [
    "len(minutes_sentences_ngrams)"
   ]
  },
  {
   "cell_type": "markdown",
   "metadata": {},
   "source": [
    "## Polarity Dictionary를 불러온다. \n",
    "\n",
    "그리고 hawkish_dictionary와 dovish_dictionary로 나눈다. "
   ]
  },
  {
   "cell_type": "code",
   "execution_count": 125,
   "metadata": {},
   "outputs": [
    {
     "data": {
      "text/html": [
       "<div>\n",
       "<style scoped>\n",
       "    .dataframe tbody tr th:only-of-type {\n",
       "        vertical-align: middle;\n",
       "    }\n",
       "\n",
       "    .dataframe tbody tr th {\n",
       "        vertical-align: top;\n",
       "    }\n",
       "\n",
       "    .dataframe thead th {\n",
       "        text-align: right;\n",
       "    }\n",
       "</style>\n",
       "<table border=\"1\" class=\"dataframe\">\n",
       "  <thead>\n",
       "    <tr style=\"text-align: right;\">\n",
       "      <th></th>\n",
       "      <th>hawkish</th>\n",
       "      <th>dovish</th>\n",
       "      <th>total</th>\n",
       "      <th>prob_feature_given_hawkish</th>\n",
       "      <th>prob_feature_given_dovish</th>\n",
       "      <th>polarity_score</th>\n",
       "    </tr>\n",
       "  </thead>\n",
       "  <tbody>\n",
       "    <tr>\n",
       "      <th>이변/NNG</th>\n",
       "      <td>9</td>\n",
       "      <td>7</td>\n",
       "      <td>16</td>\n",
       "      <td>0.000008</td>\n",
       "      <td>0.000005</td>\n",
       "      <td>1.556266</td>\n",
       "    </tr>\n",
       "    <tr>\n",
       "      <th>지신/NNG</th>\n",
       "      <td>12</td>\n",
       "      <td>8</td>\n",
       "      <td>20</td>\n",
       "      <td>0.000010</td>\n",
       "      <td>0.000006</td>\n",
       "      <td>1.815644</td>\n",
       "    </tr>\n",
       "    <tr>\n",
       "      <th>그렉시트/NNG</th>\n",
       "      <td>17</td>\n",
       "      <td>34</td>\n",
       "      <td>51</td>\n",
       "      <td>0.000014</td>\n",
       "      <td>0.000024</td>\n",
       "      <td>0.605215</td>\n",
       "    </tr>\n",
       "    <tr>\n",
       "      <th>실험/NNG</th>\n",
       "      <td>19</td>\n",
       "      <td>9</td>\n",
       "      <td>28</td>\n",
       "      <td>0.000016</td>\n",
       "      <td>0.000006</td>\n",
       "      <td>2.555350</td>\n",
       "    </tr>\n",
       "    <tr>\n",
       "      <th>자산배분전략/NNG</th>\n",
       "      <td>10</td>\n",
       "      <td>102</td>\n",
       "      <td>112</td>\n",
       "      <td>0.000008</td>\n",
       "      <td>0.000071</td>\n",
       "      <td>0.118670</td>\n",
       "    </tr>\n",
       "  </tbody>\n",
       "</table>\n",
       "</div>"
      ],
      "text/plain": [
       "            hawkish  dovish  total  prob_feature_given_hawkish  \\\n",
       "이변/NNG            9       7     16                    0.000008   \n",
       "지신/NNG           12       8     20                    0.000010   \n",
       "그렉시트/NNG         17      34     51                    0.000014   \n",
       "실험/NNG           19       9     28                    0.000016   \n",
       "자산배분전략/NNG       10     102    112                    0.000008   \n",
       "\n",
       "            prob_feature_given_dovish  polarity_score  \n",
       "이변/NNG                       0.000005        1.556266  \n",
       "지신/NNG                       0.000006        1.815644  \n",
       "그렉시트/NNG                     0.000024        0.605215  \n",
       "실험/NNG                       0.000006        2.555350  \n",
       "자산배분전략/NNG                   0.000071        0.118670  "
      ]
     },
     "execution_count": 125,
     "metadata": {},
     "output_type": "execute_result"
    }
   ],
   "source": [
    "polarity_dictionary = pd.read_pickle('./data_files/results/polarity_dictionary_1.3threshold.pkl')\n",
    "polarity_dictionary.head()"
   ]
  },
  {
   "cell_type": "code",
   "execution_count": 29,
   "metadata": {},
   "outputs": [],
   "source": [
    "intensity_threshold = 1.3\n",
    "\n",
    "hawkish_dictionary = polarity_dictionary[polarity_dictionary.polarity_score >= intensity_threshold]\n",
    "hawkish_dictionary = hawkish_dictionary.index\n",
    "\n",
    "dovish_dictionary = polarity_dictionary[polarity_dictionary.polarity_score <= 1/intensity_threshold]\n",
    "dovish_dictionary = dovish_dictionary.index"
   ]
  },
  {
   "cell_type": "code",
   "execution_count": 30,
   "metadata": {},
   "outputs": [
    {
     "name": "stdout",
     "output_type": "stream",
     "text": [
      "hawkish dictionary 크기:  1743\n",
      "dovish dictionary 크기:  1990\n"
     ]
    }
   ],
   "source": [
    "print(\"hawkish dictionary 크기: \", len(hawkish_dictionary))\n",
    "print(\"dovish dictionary 크기: \", len(dovish_dictionary))"
   ]
  },
  {
   "cell_type": "markdown",
   "metadata": {},
   "source": [
    "뉴스 ngram 추출을 하지 않아 사전크기가 너무 작으므로, 김현진T에게 받은 뉴스데이터의 ngram까지 추가된 hawkish/dovish dictionary를 받아 결과를 확인해보겠다. "
   ]
  },
  {
   "cell_type": "code",
   "execution_count": 126,
   "metadata": {},
   "outputs": [
    {
     "data": {
      "text/plain": [
       "Index(['인상/NNG', '종합/NNG', '배포/NNG', '전재/NNG', '기사/NNG', '뉴스/NNG', '무단/NNG',\n",
       "       '긴축/NNG', '금지/NNG', '이용/NNG',\n",
       "       ...\n",
       "       '예상/NNG;분위기/NNG;강하/VA', '경기순환/NNG;회복/NNG', '꼬인다/VV',\n",
       "       '강력/NNG;경제/NNG;회복/NNG', '산업활동/NNG;둔화/NNG',\n",
       "       'ecb/NNG;국채/NNG;매입/NNG;확대/NNG', '가격/NNG;하락/NNG;오르/VV',\n",
       "       '인상/NNG;불확실성/NNG;해소/NNG', '심리/NNG;위축/NNG;하락/NNG', '면세품/NNG'],\n",
       "      dtype='object', name='Unnamed: 0', length=11863)"
      ]
     },
     "execution_count": 126,
     "metadata": {},
     "output_type": "execute_result"
    }
   ],
   "source": [
    "alter_hawkish_dictionary = pd.read_csv('./data_files/results/close_hawkish_dic.csv')\n",
    "alter_hawkish_dictionary.set_index('Unnamed: 0', inplace=True)\n",
    "alter_hawkish_dictionary = alter_hawkish_dictionary.index\n",
    "alter_hawkish_dictionary"
   ]
  },
  {
   "cell_type": "code",
   "execution_count": 127,
   "metadata": {},
   "outputs": [
    {
     "data": {
      "text/plain": [
       "Index(['인하/NNG', '양적완화/NNG', '대책/NNG', '금융위기/NNG', '부양/NNG', '부양책/NNG',\n",
       "       '저작권자/NNG', '실물/NNG', '마이너스/NNG', '금리/NNG;인하/NNG',\n",
       "       ...\n",
       "       '경기/NNG;둔화/NNG;피하/VV', '경기민감물가/NNG', '까맣/VA',\n",
       "       '범위/NNG국채/NNG;수익률/NNG;상승/NNG', '림프종/NNG', '인플레이션/NNG;지표/NNG;악화/NNG',\n",
       "       'gdp/NNG;악화/NNG', '금리/NNG;인하/NNG;무산/NNG', '전망/NNG;상향/NNG;전망/NNG;하향/NNG',\n",
       "       '국채입찰/NNG;견조/NNG'],\n",
       "      dtype='object', name='Unnamed: 0', length=13171)"
      ]
     },
     "execution_count": 127,
     "metadata": {},
     "output_type": "execute_result"
    }
   ],
   "source": [
    "alter_dovish_dictionary = pd.read_csv('./data_files/results/close_dovish_dic.csv')\n",
    "alter_dovish_dictionary.set_index('Unnamed: 0', inplace=True)\n",
    "alter_dovish_dictionary = alter_dovish_dictionary.index\n",
    "alter_dovish_dictionary"
   ]
  },
  {
   "cell_type": "code",
   "execution_count": 128,
   "metadata": {},
   "outputs": [
    {
     "data": {
      "text/plain": [
       "True"
      ]
     },
     "execution_count": 128,
     "metadata": {},
     "output_type": "execute_result"
    }
   ],
   "source": [
    "'인상/NNG' in alter_hawkish_dictionary"
   ]
  },
  {
   "cell_type": "markdown",
   "metadata": {},
   "source": [
    "## 각 문장의 tone을 구한다. "
   ]
  },
  {
   "cell_type": "code",
   "execution_count": 129,
   "metadata": {},
   "outputs": [],
   "source": [
    "def sentence_tone(sentence_ngram_list):\n",
    "    hawkish_count = 0\n",
    "    dovish_count = 0\n",
    "    \n",
    "    for ngram in sentence_ngram_list:\n",
    "        if ngram in alter_hawkish_dictionary:\n",
    "            hawkish_count += 1\n",
    "        elif ngram in alter_dovish_dictionary:\n",
    "            dovish_count += 1\n",
    "        else:\n",
    "            continue\n",
    "    \n",
    "    if (hawkish_count + dovish_count) == 0:\n",
    "        return np.nan\n",
    "    \n",
    "    sentence_tone = (hawkish_count - dovish_count) / (hawkish_count + dovish_count)\n",
    "    \n",
    "    return sentence_tone"
   ]
  },
  {
   "cell_type": "code",
   "execution_count": 130,
   "metadata": {},
   "outputs": [
    {
     "data": {
      "text/plain": [
       "11502"
      ]
     },
     "execution_count": 130,
     "metadata": {},
     "output_type": "execute_result"
    }
   ],
   "source": [
    "sentence_tone_list = [sentence_tone(ngram_list) for ngram_list in minutes_sentences_ngrams]\n",
    "len(sentence_tone_list)"
   ]
  },
  {
   "cell_type": "code",
   "execution_count": 137,
   "metadata": {},
   "outputs": [],
   "source": [
    "sentence_tone_df = pd.DataFrame(sentence_tone_list, columns=['sentence_tone'])\n",
    "minutes_df_tone = pd.concat([minutes_df, sentence_tone_df], axis=1)"
   ]
  },
  {
   "cell_type": "code",
   "execution_count": 141,
   "metadata": {},
   "outputs": [
    {
     "data": {
      "text/html": [
       "<div>\n",
       "<style scoped>\n",
       "    .dataframe tbody tr th:only-of-type {\n",
       "        vertical-align: middle;\n",
       "    }\n",
       "\n",
       "    .dataframe tbody tr th {\n",
       "        vertical-align: top;\n",
       "    }\n",
       "\n",
       "    .dataframe thead th {\n",
       "        text-align: right;\n",
       "    }\n",
       "</style>\n",
       "<table border=\"1\" class=\"dataframe\">\n",
       "  <thead>\n",
       "    <tr style=\"text-align: right;\">\n",
       "      <th></th>\n",
       "      <th>date</th>\n",
       "      <th>sections</th>\n",
       "      <th>sentences</th>\n",
       "      <th>sentence_tone</th>\n",
       "    </tr>\n",
       "  </thead>\n",
       "  <tbody>\n",
       "    <tr>\n",
       "      <th>0</th>\n",
       "      <td>2005-06-09</td>\n",
       "      <td>일부 위원은 우리나라 경제가 일본경제  에 비해 더 나아질 특별한 요인이 없음에도 ...</td>\n",
       "      <td>일부 위원은 우리나라 경제가 일본경제  에 비해 더 나아질 특별한 요인이 없음에도 ...</td>\n",
       "      <td>1.000000</td>\n",
       "    </tr>\n",
       "    <tr>\n",
       "      <th>1</th>\n",
       "      <td>2005-06-09</td>\n",
       "      <td>일부 위원은 우리나라 경제가 일본경제  에 비해 더 나아질 특별한 요인이 없음에도 ...</td>\n",
       "      <td>- 6 -     동 위원은 환율이 중장기적으로 각국의 기초경제여건(fundamen...</td>\n",
       "      <td>-0.333333</td>\n",
       "    </tr>\n",
       "    <tr>\n",
       "      <th>2</th>\n",
       "      <td>2005-06-09</td>\n",
       "      <td>일부 위원은 우리나라 경제가 일본경제  에 비해 더 나아질 특별한 요인이 없음에도 ...</td>\n",
       "      <td>다른 일부 위원은 최근 유로지역의 경제성장 실적이 예상보다 저조한 가운  데 일각에...</td>\n",
       "      <td>0.200000</td>\n",
       "    </tr>\n",
       "    <tr>\n",
       "      <th>3</th>\n",
       "      <td>2005-06-09</td>\n",
       "      <td>일부 위원은 우리나라 경제가 일본경제  에 비해 더 나아질 특별한 요인이 없음에도 ...</td>\n",
       "      <td>동 위원은 국내 금리가 현 수준에서 유지되고 미국 금리가 상승하는 가운  데 달러화...</td>\n",
       "      <td>0.000000</td>\n",
       "    </tr>\n",
       "    <tr>\n",
       "      <th>4</th>\n",
       "      <td>2005-06-09</td>\n",
       "      <td>일부 위원은 우리나라 경제가 일본경제  에 비해 더 나아질 특별한 요인이 없음에도 ...</td>\n",
       "      <td>다른 일부 위원은 최근 가계대출의 월평균 증가액이 2003년과 지난해 실적  을 크...</td>\n",
       "      <td>0.000000</td>\n",
       "    </tr>\n",
       "    <tr>\n",
       "      <th>...</th>\n",
       "      <td>...</td>\n",
       "      <td>...</td>\n",
       "      <td>...</td>\n",
       "      <td>...</td>\n",
       "    </tr>\n",
       "    <tr>\n",
       "      <th>11497</th>\n",
       "      <td>2020-01-17</td>\n",
       "      <td>일부 위원은 최근 글로벌 펀드자금의 유출입 동향을 살펴보면 유럽지역 MMF  로 상...</td>\n",
       "      <td>또한 동 위원은 최근 시중 유동성이 확대되는 상황에서 도소매업과 숙박음식  점업의 ...</td>\n",
       "      <td>-1.000000</td>\n",
       "    </tr>\n",
       "    <tr>\n",
       "      <th>11498</th>\n",
       "      <td>2020-01-17</td>\n",
       "      <td>일부 위원은 최근 글로벌 펀드자금의 유출입 동향을 살펴보면 유럽지역 MMF  로 상...</td>\n",
       "      <td>이 있다는 관련부서의 분석과 관련하여, 지난해 고용지표에는 각종 정책적 요인  에 ...</td>\n",
       "      <td>NaN</td>\n",
       "    </tr>\n",
       "    <tr>\n",
       "      <th>11499</th>\n",
       "      <td>2020-01-17</td>\n",
       "      <td>일부 위원은 최근 글로벌 펀드자금의 유출입 동향을 살펴보면 유럽지역 MMF  로 상...</td>\n",
       "      <td>또한 도소매업 등의 업황 개선 정도를 정확히 가늠하기 위해서는 법인기업  외에 영세...</td>\n",
       "      <td>-1.000000</td>\n",
       "    </tr>\n",
       "    <tr>\n",
       "      <th>11500</th>\n",
       "      <td>2020-01-17</td>\n",
       "      <td>일부 위원은 최근 글로벌 펀드자금의 유출입 동향을 살펴보면 유럽지역 MMF  로 상...</td>\n",
       "      <td>이에 관련부서에서는 위원이 언급한 대로 지난해 두 업종의 취업자수 개선에  기저효과...</td>\n",
       "      <td>0.000000</td>\n",
       "    </tr>\n",
       "    <tr>\n",
       "      <th>11501</th>\n",
       "      <td>2020-01-17</td>\n",
       "      <td>일부 위원은 최근 글로벌 펀드자금의 유출입 동향을 살펴보면 유럽지역 MMF  로 상...</td>\n",
       "      <td>또한 도소매업과 숙박음식  점업에 종사하는 영세자영업자의 업황과 이들에 대한 신용공...</td>\n",
       "      <td>-1.000000</td>\n",
       "    </tr>\n",
       "  </tbody>\n",
       "</table>\n",
       "<p>11502 rows × 4 columns</p>\n",
       "</div>"
      ],
      "text/plain": [
       "            date                                           sections  \\\n",
       "0     2005-06-09  일부 위원은 우리나라 경제가 일본경제  에 비해 더 나아질 특별한 요인이 없음에도 ...   \n",
       "1     2005-06-09  일부 위원은 우리나라 경제가 일본경제  에 비해 더 나아질 특별한 요인이 없음에도 ...   \n",
       "2     2005-06-09  일부 위원은 우리나라 경제가 일본경제  에 비해 더 나아질 특별한 요인이 없음에도 ...   \n",
       "3     2005-06-09  일부 위원은 우리나라 경제가 일본경제  에 비해 더 나아질 특별한 요인이 없음에도 ...   \n",
       "4     2005-06-09  일부 위원은 우리나라 경제가 일본경제  에 비해 더 나아질 특별한 요인이 없음에도 ...   \n",
       "...          ...                                                ...   \n",
       "11497 2020-01-17  일부 위원은 최근 글로벌 펀드자금의 유출입 동향을 살펴보면 유럽지역 MMF  로 상...   \n",
       "11498 2020-01-17  일부 위원은 최근 글로벌 펀드자금의 유출입 동향을 살펴보면 유럽지역 MMF  로 상...   \n",
       "11499 2020-01-17  일부 위원은 최근 글로벌 펀드자금의 유출입 동향을 살펴보면 유럽지역 MMF  로 상...   \n",
       "11500 2020-01-17  일부 위원은 최근 글로벌 펀드자금의 유출입 동향을 살펴보면 유럽지역 MMF  로 상...   \n",
       "11501 2020-01-17  일부 위원은 최근 글로벌 펀드자금의 유출입 동향을 살펴보면 유럽지역 MMF  로 상...   \n",
       "\n",
       "                                               sentences  sentence_tone  \n",
       "0      일부 위원은 우리나라 경제가 일본경제  에 비해 더 나아질 특별한 요인이 없음에도 ...       1.000000  \n",
       "1      - 6 -     동 위원은 환율이 중장기적으로 각국의 기초경제여건(fundamen...      -0.333333  \n",
       "2      다른 일부 위원은 최근 유로지역의 경제성장 실적이 예상보다 저조한 가운  데 일각에...       0.200000  \n",
       "3      동 위원은 국내 금리가 현 수준에서 유지되고 미국 금리가 상승하는 가운  데 달러화...       0.000000  \n",
       "4      다른 일부 위원은 최근 가계대출의 월평균 증가액이 2003년과 지난해 실적  을 크...       0.000000  \n",
       "...                                                  ...            ...  \n",
       "11497  또한 동 위원은 최근 시중 유동성이 확대되는 상황에서 도소매업과 숙박음식  점업의 ...      -1.000000  \n",
       "11498  이 있다는 관련부서의 분석과 관련하여, 지난해 고용지표에는 각종 정책적 요인  에 ...            NaN  \n",
       "11499  또한 도소매업 등의 업황 개선 정도를 정확히 가늠하기 위해서는 법인기업  외에 영세...      -1.000000  \n",
       "11500  이에 관련부서에서는 위원이 언급한 대로 지난해 두 업종의 취업자수 개선에  기저효과...       0.000000  \n",
       "11501  또한 도소매업과 숙박음식  점업에 종사하는 영세자영업자의 업황과 이들에 대한 신용공...      -1.000000  \n",
       "\n",
       "[11502 rows x 4 columns]"
      ]
     },
     "execution_count": 141,
     "metadata": {},
     "output_type": "execute_result"
    }
   ],
   "source": [
    "# minutes_df_tone.dropna(inplace=True) # If drop, unique dates go from 301 to 116\n",
    "minutes_df_tone"
   ]
  },
  {
   "cell_type": "code",
   "execution_count": 144,
   "metadata": {},
   "outputs": [
    {
     "data": {
      "text/plain": [
       "count                   11502\n",
       "unique                    301\n",
       "top       2012-04-13 00:00:00\n",
       "freq                      324\n",
       "first     2005-06-09 00:00:00\n",
       "last      2020-01-17 00:00:00\n",
       "Name: date, dtype: object"
      ]
     },
     "execution_count": 144,
     "metadata": {},
     "output_type": "execute_result"
    }
   ],
   "source": [
    "minutes_df_tone.date.describe()"
   ]
  },
  {
   "cell_type": "code",
   "execution_count": 143,
   "metadata": {},
   "outputs": [
    {
     "data": {
      "text/plain": [
       "<matplotlib.axes._subplots.AxesSubplot at 0x1dfed072588>"
      ]
     },
     "execution_count": 143,
     "metadata": {},
     "output_type": "execute_result"
    },
    {
     "data": {
      "image/png": "[encoded data removed]",
      "text/plain": [
       "<Figure size 432x288 with 1 Axes>"
      ]
     },
     "metadata": {
      "needs_background": "light"
     },
     "output_type": "display_data"
    }
   ],
   "source": [
    "minutes_df_tone[['date', 'sentence_tone']].plot(x='date', y='sentence_tone')"
   ]
  },
  {
   "cell_type": "code",
   "execution_count": 22,
   "metadata": {},
   "outputs": [],
   "source": [
    "minutes_df_tone.to_pickle('./data_files/results/alter_minutes_df_sentence_tone.pkl')"
   ]
  },
  {
   "cell_type": "markdown",
   "metadata": {},
   "source": [
    "## 문서의 tone을 구한다. \n",
    "\n",
    "`.groupby('date')`를 했다. 한 날짜에 의사록이 하나 올라온다 가정. "
   ]
  },
  {
   "cell_type": "code",
   "execution_count": 23,
   "metadata": {},
   "outputs": [],
   "source": [
    "def doc_tone(sentence_tone_series):\n",
    "    hawkish_count = 0\n",
    "    dovish_count = 0\n",
    "    \n",
    "    hawkish_count = sentence_tone_series[sentence_tone_series > 0].count()\n",
    "    dovish_count = sentence_tone_series[sentence_tone_series < 0].count()\n",
    "    \n",
    "    if (hawkish_count + dovish_count) == 0:\n",
    "        return np.nan\n",
    "    \n",
    "    doc_tone = (hawkish_count - dovish_count) / (hawkish_count + dovish_count)\n",
    "    \n",
    "    return doc_tone"
   ]
  },
  {
   "cell_type": "code",
   "execution_count": 66,
   "metadata": {},
   "outputs": [
    {
     "data": {
      "text/html": [
       "<div>\n",
       "<style scoped>\n",
       "    .dataframe tbody tr th:only-of-type {\n",
       "        vertical-align: middle;\n",
       "    }\n",
       "\n",
       "    .dataframe tbody tr th {\n",
       "        vertical-align: top;\n",
       "    }\n",
       "\n",
       "    .dataframe thead th {\n",
       "        text-align: right;\n",
       "    }\n",
       "</style>\n",
       "<table border=\"1\" class=\"dataframe\">\n",
       "  <thead>\n",
       "    <tr style=\"text-align: right;\">\n",
       "      <th></th>\n",
       "      <th>doc_tone</th>\n",
       "    </tr>\n",
       "    <tr>\n",
       "      <th>date</th>\n",
       "      <th></th>\n",
       "    </tr>\n",
       "  </thead>\n",
       "  <tbody>\n",
       "    <tr>\n",
       "      <th>2019-07-18</th>\n",
       "      <td>-0.473684</td>\n",
       "    </tr>\n",
       "    <tr>\n",
       "      <th>2019-08-30</th>\n",
       "      <td>-0.666667</td>\n",
       "    </tr>\n",
       "    <tr>\n",
       "      <th>2019-10-16</th>\n",
       "      <td>-0.400000</td>\n",
       "    </tr>\n",
       "    <tr>\n",
       "      <th>2019-11-29</th>\n",
       "      <td>-0.696970</td>\n",
       "    </tr>\n",
       "    <tr>\n",
       "      <th>2020-01-17</th>\n",
       "      <td>-0.520000</td>\n",
       "    </tr>\n",
       "  </tbody>\n",
       "</table>\n",
       "</div>"
      ],
      "text/plain": [
       "            doc_tone\n",
       "date                \n",
       "2019-07-18 -0.473684\n",
       "2019-08-30 -0.666667\n",
       "2019-10-16 -0.400000\n",
       "2019-11-29 -0.696970\n",
       "2020-01-17 -0.520000"
      ]
     },
     "execution_count": 66,
     "metadata": {},
     "output_type": "execute_result"
    }
   ],
   "source": [
    "minutes_df_tone_by_date = minutes_df_tone.groupby('date')['sentence_tone'].apply(doc_tone)\n",
    "minutes_df_tone_by_date = pd.DataFrame({'doc_tone': minutes_df_tone_by_date.values}, index=minutes_df_tone_by_date.index)\n",
    "minutes_df_tone_by_date.dropna(inplace=True)\n",
    "minutes_df_tone_by_date.tail()"
   ]
  },
  {
   "cell_type": "code",
   "execution_count": 67,
   "metadata": {},
   "outputs": [
    {
     "data": {
      "text/plain": [
       "116"
      ]
     },
     "execution_count": 67,
     "metadata": {},
     "output_type": "execute_result"
    }
   ],
   "source": [
    "len(minutes_df_tone_by_date)"
   ]
  },
  {
   "cell_type": "code",
   "execution_count": 64,
   "metadata": {},
   "outputs": [
    {
     "data": {
      "text/plain": [
       "115"
      ]
     },
     "execution_count": 64,
     "metadata": {},
     "output_type": "execute_result"
    }
   ],
   "source": [
    "minutes_df_tone_by_date = minutes_df_tone_by_date[(minutes_df_tone_by_date.doc_tone != 1) & (minutes_df_tone_by_date.doc_tone != -1)]\n",
    "len(minutes_df_tone_by_date)"
   ]
  },
  {
   "cell_type": "code",
   "execution_count": 68,
   "metadata": {},
   "outputs": [],
   "source": [
    "minutes_df_tone_by_date.to_pickle('./data_files/results/alter_minutes_df_document_tone.pkl')"
   ]
  },
  {
   "cell_type": "markdown",
   "metadata": {},
   "source": [
    "## 한국은행 기준금리 데이터를 불러와 합친다. "
   ]
  },
  {
   "cell_type": "code",
   "execution_count": 69,
   "metadata": {},
   "outputs": [
    {
     "data": {
      "text/html": [
       "<div>\n",
       "<style scoped>\n",
       "    .dataframe tbody tr th:only-of-type {\n",
       "        vertical-align: middle;\n",
       "    }\n",
       "\n",
       "    .dataframe tbody tr th {\n",
       "        vertical-align: top;\n",
       "    }\n",
       "\n",
       "    .dataframe thead th {\n",
       "        text-align: right;\n",
       "    }\n",
       "</style>\n",
       "<table border=\"1\" class=\"dataframe\">\n",
       "  <thead>\n",
       "    <tr style=\"text-align: right;\">\n",
       "      <th></th>\n",
       "      <th>doc_tone</th>\n",
       "    </tr>\n",
       "    <tr>\n",
       "      <th>date</th>\n",
       "      <th></th>\n",
       "    </tr>\n",
       "  </thead>\n",
       "  <tbody>\n",
       "    <tr>\n",
       "      <th>2005-06-09</th>\n",
       "      <td>0.340206</td>\n",
       "    </tr>\n",
       "    <tr>\n",
       "      <th>2005-07-07</th>\n",
       "      <td>0.259259</td>\n",
       "    </tr>\n",
       "    <tr>\n",
       "      <th>2005-08-11</th>\n",
       "      <td>0.440000</td>\n",
       "    </tr>\n",
       "    <tr>\n",
       "      <th>2005-09-08</th>\n",
       "      <td>0.287129</td>\n",
       "    </tr>\n",
       "    <tr>\n",
       "      <th>2005-10-11</th>\n",
       "      <td>0.615385</td>\n",
       "    </tr>\n",
       "  </tbody>\n",
       "</table>\n",
       "</div>"
      ],
      "text/plain": [
       "            doc_tone\n",
       "date                \n",
       "2005-06-09  0.340206\n",
       "2005-07-07  0.259259\n",
       "2005-08-11  0.440000\n",
       "2005-09-08  0.287129\n",
       "2005-10-11  0.615385"
      ]
     },
     "execution_count": 69,
     "metadata": {},
     "output_type": "execute_result"
    }
   ],
   "source": [
    "minutes_df_tone_by_date = pd.read_pickle('./data_files/results/alter_minutes_df_document_tone.pkl')\n",
    "minutes_df_tone_by_date.head()"
   ]
  },
  {
   "cell_type": "code",
   "execution_count": 80,
   "metadata": {},
   "outputs": [
    {
     "data": {
      "text/html": [
       "<div>\n",
       "<style scoped>\n",
       "    .dataframe tbody tr th:only-of-type {\n",
       "        vertical-align: middle;\n",
       "    }\n",
       "\n",
       "    .dataframe tbody tr th {\n",
       "        vertical-align: top;\n",
       "    }\n",
       "\n",
       "    .dataframe thead th {\n",
       "        text-align: right;\n",
       "    }\n",
       "</style>\n",
       "<table border=\"1\" class=\"dataframe\">\n",
       "  <thead>\n",
       "    <tr style=\"text-align: right;\">\n",
       "      <th></th>\n",
       "      <th>base_rate</th>\n",
       "    </tr>\n",
       "    <tr>\n",
       "      <th>date</th>\n",
       "      <th></th>\n",
       "    </tr>\n",
       "  </thead>\n",
       "  <tbody>\n",
       "    <tr>\n",
       "      <th>2004-01-01</th>\n",
       "      <td>3.75</td>\n",
       "    </tr>\n",
       "    <tr>\n",
       "      <th>2004-01-02</th>\n",
       "      <td>3.75</td>\n",
       "    </tr>\n",
       "    <tr>\n",
       "      <th>2004-01-03</th>\n",
       "      <td>3.75</td>\n",
       "    </tr>\n",
       "    <tr>\n",
       "      <th>2004-01-04</th>\n",
       "      <td>3.75</td>\n",
       "    </tr>\n",
       "    <tr>\n",
       "      <th>2004-01-05</th>\n",
       "      <td>3.75</td>\n",
       "    </tr>\n",
       "  </tbody>\n",
       "</table>\n",
       "</div>"
      ],
      "text/plain": [
       "            base_rate\n",
       "date                 \n",
       "2004-01-01       3.75\n",
       "2004-01-02       3.75\n",
       "2004-01-03       3.75\n",
       "2004-01-04       3.75\n",
       "2004-01-05       3.75"
      ]
     },
     "execution_count": 80,
     "metadata": {},
     "output_type": "execute_result"
    }
   ],
   "source": [
    "bok_policy_rate = pd.read_csv('./data_files/BOK_2.6._base_rate.csv')\n",
    "bok_policy_rate.date = pd.to_datetime(bok_policy_rate.date)\n",
    "bok_policy_rate.set_index('date', inplace=True)\n",
    "bok_policy_rate.head()"
   ]
  },
  {
   "cell_type": "code",
   "execution_count": 93,
   "metadata": {},
   "outputs": [
    {
     "data": {
      "text/html": [
       "<div>\n",
       "<style scoped>\n",
       "    .dataframe tbody tr th:only-of-type {\n",
       "        vertical-align: middle;\n",
       "    }\n",
       "\n",
       "    .dataframe tbody tr th {\n",
       "        vertical-align: top;\n",
       "    }\n",
       "\n",
       "    .dataframe thead th {\n",
       "        text-align: right;\n",
       "    }\n",
       "</style>\n",
       "<table border=\"1\" class=\"dataframe\">\n",
       "  <thead>\n",
       "    <tr style=\"text-align: right;\">\n",
       "      <th></th>\n",
       "      <th>doc_tone</th>\n",
       "      <th>base_rate</th>\n",
       "    </tr>\n",
       "    <tr>\n",
       "      <th>date</th>\n",
       "      <th></th>\n",
       "      <th></th>\n",
       "    </tr>\n",
       "  </thead>\n",
       "  <tbody>\n",
       "    <tr>\n",
       "      <th>2005-06-09</th>\n",
       "      <td>0.340206</td>\n",
       "      <td>3.25</td>\n",
       "    </tr>\n",
       "    <tr>\n",
       "      <th>2005-07-07</th>\n",
       "      <td>0.259259</td>\n",
       "      <td>3.25</td>\n",
       "    </tr>\n",
       "    <tr>\n",
       "      <th>2005-08-11</th>\n",
       "      <td>0.440000</td>\n",
       "      <td>3.25</td>\n",
       "    </tr>\n",
       "    <tr>\n",
       "      <th>2005-09-08</th>\n",
       "      <td>0.287129</td>\n",
       "      <td>3.25</td>\n",
       "    </tr>\n",
       "    <tr>\n",
       "      <th>2005-10-11</th>\n",
       "      <td>0.615385</td>\n",
       "      <td>3.50</td>\n",
       "    </tr>\n",
       "  </tbody>\n",
       "</table>\n",
       "</div>"
      ],
      "text/plain": [
       "            doc_tone  base_rate\n",
       "date                           \n",
       "2005-06-09  0.340206       3.25\n",
       "2005-07-07  0.259259       3.25\n",
       "2005-08-11  0.440000       3.25\n",
       "2005-09-08  0.287129       3.25\n",
       "2005-10-11  0.615385       3.50"
      ]
     },
     "execution_count": 93,
     "metadata": {},
     "output_type": "execute_result"
    }
   ],
   "source": [
    "tone_and_policy_rate_df = minutes_df_tone_by_date.merge(bok_policy_rate, how='inner', left_index=True, right_index=True)\n",
    "# tone_and_policy_rate_df = bok_policy_rate.merge(minutes_df_tone_by_date, how='left', left_index=True, right_index=True)\n",
    "tone_and_policy_rate_df.head()"
   ]
  },
  {
   "cell_type": "code",
   "execution_count": 94,
   "metadata": {},
   "outputs": [],
   "source": [
    "tone_and_policy_rate_df.to_pickle('./data_files/results/alter_tone_and_policy_rate_df.pkl')"
   ]
  },
  {
   "cell_type": "markdown",
   "metadata": {},
   "source": [
    "## 상관관계 계산 및 그래프 plot"
   ]
  },
  {
   "cell_type": "code",
   "execution_count": 95,
   "metadata": {},
   "outputs": [
    {
     "data": {
      "text/html": [
       "<div>\n",
       "<style scoped>\n",
       "    .dataframe tbody tr th:only-of-type {\n",
       "        vertical-align: middle;\n",
       "    }\n",
       "\n",
       "    .dataframe tbody tr th {\n",
       "        vertical-align: top;\n",
       "    }\n",
       "\n",
       "    .dataframe thead th {\n",
       "        text-align: right;\n",
       "    }\n",
       "</style>\n",
       "<table border=\"1\" class=\"dataframe\">\n",
       "  <thead>\n",
       "    <tr style=\"text-align: right;\">\n",
       "      <th></th>\n",
       "      <th>doc_tone</th>\n",
       "      <th>base_rate</th>\n",
       "    </tr>\n",
       "  </thead>\n",
       "  <tbody>\n",
       "    <tr>\n",
       "      <th>doc_tone</th>\n",
       "      <td>1.0000</td>\n",
       "      <td>0.7738</td>\n",
       "    </tr>\n",
       "    <tr>\n",
       "      <th>base_rate</th>\n",
       "      <td>0.7738</td>\n",
       "      <td>1.0000</td>\n",
       "    </tr>\n",
       "  </tbody>\n",
       "</table>\n",
       "</div>"
      ],
      "text/plain": [
       "           doc_tone  base_rate\n",
       "doc_tone     1.0000     0.7738\n",
       "base_rate    0.7738     1.0000"
      ]
     },
     "execution_count": 95,
     "metadata": {},
     "output_type": "execute_result"
    }
   ],
   "source": [
    "tone_and_policy_rate_df.corr(method='pearson')"
   ]
  },
  {
   "cell_type": "code",
   "execution_count": 96,
   "metadata": {},
   "outputs": [
    {
     "data": {
      "image/png": "[encoded data removed]",
      "text/plain": [
       "<Figure size 1080x720 with 2 Axes>"
      ]
     },
     "metadata": {
      "needs_background": "light"
     },
     "output_type": "display_data"
    }
   ],
   "source": [
    "plt.figure(figsize=(15,10))\n",
    "\n",
    "ax1 = tone_and_policy_rate_df.doc_tone.plot(color='blue', grid=True, label='금통위 의사록 어조')\n",
    "ax2 = tone_and_policy_rate_df.base_rate.plot(color='red', grid=True, secondary_y=True, label='기준금리')\n",
    "\n",
    "plt.show()"
   ]
  },
  {
   "cell_type": "code",
   "execution_count": null,
   "metadata": {},
   "outputs": [],
   "source": []
  }
 ],
 "metadata": {
  "kernelspec": {
   "display_name": "Python 3",
   "language": "python",
   "name": "python3"
  },
  "language_info": {
   "codemirror_mode": {
    "name": "ipython",
    "version": 3
   },
   "file_extension": ".py",
   "mimetype": "text/x-python",
   "name": "python",
   "nbconvert_exporter": "python",
   "pygments_lexer": "ipython3",
   "version": "3.7.6"
  }
 },
 "nbformat": 4,
 "nbformat_minor": 4
}

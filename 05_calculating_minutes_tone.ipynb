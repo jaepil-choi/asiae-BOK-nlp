{
 "cells": [
  {
   "cell_type": "markdown",
   "metadata": {},
   "source": [
    "# 한국은행 의사록 어조 분석\n",
    "\n",
    "이제 극성사전이 완성되었으므로, 이를 이용해 한국은행 의사록의 어조(tone)을 측정하도록 한다. \n",
    "\n",
    "우선 각 일자의 한국은행 의사록을 `sentences`로 분리한 뒤, 각 `sentences`를 다시 `ngrams`로 분리한다. \n",
    "\n",
    "문장별로 추출한 `ngrams`를 바탕으로 각 문장의 `tone_sentence`를 계산한다. \n",
    "\n",
    "문장별 `tone_sentence`가 계산됐으면, 문장을 다시 합쳐 문서(의사록)의 `tone_doc`을 구한다. \n",
    "\n",
    "한 날짜에는 한 문서가 있고, 따라서 한 `tone_doc`이 있으므로, 이제 이 데이터를 바탕으로 한국은행 기준금리 데이터와의 상관관계와 그래프를 확인한다. "
   ]
  },
  {
   "cell_type": "code",
   "execution_count": 1,
   "metadata": {},
   "outputs": [],
   "source": [
    "# -*- coding: utf-8 -*-\n",
    "\n",
    "import pandas as pd\n",
    "import numpy as np\n",
    "import matplotlib.pyplot as plt\n",
    "\n",
    "import multiprocessing as mp\n",
    "\n",
    "import preprocessing_mp_worker as worker"
   ]
  },
  {
   "cell_type": "markdown",
   "metadata": {},
   "source": [
    "## 의사록 데이터를 불러온다. "
   ]
  },
  {
   "cell_type": "markdown",
   "metadata": {},
   "source": [
    "김현진T 코드를 기반으로 minutes_ngram df를 만들 때 문장을 @@@로 split하였다. 따라서 의사록 섹션 2,3을 문장으로 나눌 때 @@@로 split해주면 충분하다. "
   ]
  },
  {
   "cell_type": "code",
   "execution_count": 2,
   "metadata": {},
   "outputs": [
    {
     "data": {
      "text/html": [
       "<div>\n",
       "<style scoped>\n",
       "    .dataframe tbody tr th:only-of-type {\n",
       "        vertical-align: middle;\n",
       "    }\n",
       "\n",
       "    .dataframe tbody tr th {\n",
       "        vertical-align: top;\n",
       "    }\n",
       "\n",
       "    .dataframe thead th {\n",
       "        text-align: right;\n",
       "    }\n",
       "</style>\n",
       "<table border=\"1\" class=\"dataframe\">\n",
       "  <thead>\n",
       "    <tr style=\"text-align: right;\">\n",
       "      <th></th>\n",
       "      <th>date</th>\n",
       "      <th>sections</th>\n",
       "    </tr>\n",
       "  </thead>\n",
       "  <tbody>\n",
       "    <tr>\n",
       "      <th>0</th>\n",
       "      <td>2005-06-09</td>\n",
       "      <td>일부 위원은 우리나라 경제가 일본경제  에 비해 더 나아질 특별한 요인이 없음에도 ...</td>\n",
       "    </tr>\n",
       "    <tr>\n",
       "      <th>1</th>\n",
       "      <td>2005-06-23</td>\n",
       "      <td></td>\n",
       "    </tr>\n",
       "    <tr>\n",
       "      <th>2</th>\n",
       "      <td>2005-07-07</td>\n",
       "      <td>일부 위원은 6월 들어 국제유가가 크게   오르고 원화와 엔화간 동조화 현상이 뚜렷...</td>\n",
       "    </tr>\n",
       "    <tr>\n",
       "      <th>3</th>\n",
       "      <td>2005-08-11</td>\n",
       "      <td>일부 위원은 위안화 절상 이후 아시아   통화중 우리나라 원화의 절상폭이 가장 컸다...</td>\n",
       "    </tr>\n",
       "    <tr>\n",
       "      <th>4</th>\n",
       "      <td>2005-09-08</td>\n",
       "      <td>일부 위원은 최근 인도네시아 금융불안   사태가 발생한 가운데 국제 환투기세력이 인...</td>\n",
       "    </tr>\n",
       "  </tbody>\n",
       "</table>\n",
       "</div>"
      ],
      "text/plain": [
       "         date                                           sections\n",
       "0  2005-06-09  일부 위원은 우리나라 경제가 일본경제  에 비해 더 나아질 특별한 요인이 없음에도 ...\n",
       "1  2005-06-23                                                   \n",
       "2  2005-07-07  일부 위원은 6월 들어 국제유가가 크게   오르고 원화와 엔화간 동조화 현상이 뚜렷...\n",
       "3  2005-08-11  일부 위원은 위안화 절상 이후 아시아   통화중 우리나라 원화의 절상폭이 가장 컸다...\n",
       "4  2005-09-08  일부 위원은 최근 인도네시아 금융불안   사태가 발생한 가운데 국제 환투기세력이 인..."
      ]
     },
     "execution_count": 2,
     "metadata": {},
     "output_type": "execute_result"
    }
   ],
   "source": [
    "minutes_df = pd.read_pickle('./data_files/BOK_minutes/pkl/minutes_ngram.pkl')\n",
    "# minutes_df = minutes_df[['date', 'minutes']]\n",
    "minutes_df.loc[:, 'sections'] = minutes_df['Foreign Currency'] + minutes_df['Financial Markets']\n",
    "minutes_df = minutes_df[['date', 'sections']]\n",
    "minutes_df.head()"
   ]
  },
  {
   "cell_type": "markdown",
   "metadata": {},
   "source": [
    "## 의사록 섹션 2, 3(`sections`)를 문장(`sentences`)들로 분리한다. "
   ]
  },
  {
   "cell_type": "code",
   "execution_count": 3,
   "metadata": {},
   "outputs": [],
   "source": [
    "def split_by_at_sign(text):\n",
    "    return text.split('@@@')"
   ]
  },
  {
   "cell_type": "code",
   "execution_count": 4,
   "metadata": {},
   "outputs": [
    {
     "name": "stdout",
     "output_type": "stream",
     "text": [
      "Wall time: 13.8 ms\n"
     ]
    }
   ],
   "source": [
    "%%time\n",
    "\n",
    "# minutes_df.loc[:, 'sentences'] = minutes_df.minutes.map(lambda x: worker.tidy_sentences(x)[0])\n",
    "minutes_df.loc[:, 'sentences'] = minutes_df.sections.map(split_by_at_sign)"
   ]
  },
  {
   "cell_type": "code",
   "execution_count": 6,
   "metadata": {},
   "outputs": [
    {
     "data": {
      "text/html": [
       "<div>\n",
       "<style scoped>\n",
       "    .dataframe tbody tr th:only-of-type {\n",
       "        vertical-align: middle;\n",
       "    }\n",
       "\n",
       "    .dataframe tbody tr th {\n",
       "        vertical-align: top;\n",
       "    }\n",
       "\n",
       "    .dataframe thead th {\n",
       "        text-align: right;\n",
       "    }\n",
       "</style>\n",
       "<table border=\"1\" class=\"dataframe\">\n",
       "  <thead>\n",
       "    <tr style=\"text-align: right;\">\n",
       "      <th></th>\n",
       "      <th>date</th>\n",
       "      <th>sections</th>\n",
       "      <th>sentences</th>\n",
       "    </tr>\n",
       "  </thead>\n",
       "  <tbody>\n",
       "    <tr>\n",
       "      <th>0</th>\n",
       "      <td>2005-06-09</td>\n",
       "      <td>일부 위원은 우리나라 경제가 일본경제  에 비해 더 나아질 특별한 요인이 없음에도 ...</td>\n",
       "      <td>일부 위원은 우리나라 경제가 일본경제  에 비해 더 나아질 특별한 요인이 없음에도 ...</td>\n",
       "    </tr>\n",
       "    <tr>\n",
       "      <th>0</th>\n",
       "      <td>2005-06-09</td>\n",
       "      <td>일부 위원은 우리나라 경제가 일본경제  에 비해 더 나아질 특별한 요인이 없음에도 ...</td>\n",
       "      <td>- 6 -     동 위원은 환율이 중장기적으로 각국의 기초경제여건(fundamen...</td>\n",
       "    </tr>\n",
       "    <tr>\n",
       "      <th>0</th>\n",
       "      <td>2005-06-09</td>\n",
       "      <td>일부 위원은 우리나라 경제가 일본경제  에 비해 더 나아질 특별한 요인이 없음에도 ...</td>\n",
       "      <td>다른 일부 위원은 최근 유로지역의 경제성장 실적이 예상보다 저조한 가운  데 일각에...</td>\n",
       "    </tr>\n",
       "    <tr>\n",
       "      <th>0</th>\n",
       "      <td>2005-06-09</td>\n",
       "      <td>일부 위원은 우리나라 경제가 일본경제  에 비해 더 나아질 특별한 요인이 없음에도 ...</td>\n",
       "      <td>동 위원은 국내 금리가 현 수준에서 유지되고 미국 금리가 상승하는 가운  데 달러화...</td>\n",
       "    </tr>\n",
       "    <tr>\n",
       "      <th>0</th>\n",
       "      <td>2005-06-09</td>\n",
       "      <td>일부 위원은 우리나라 경제가 일본경제  에 비해 더 나아질 특별한 요인이 없음에도 ...</td>\n",
       "      <td>다른 일부 위원은 최근 가계대출의 월평균 증가액이 2003년과 지난해 실적  을 크...</td>\n",
       "    </tr>\n",
       "  </tbody>\n",
       "</table>\n",
       "</div>"
      ],
      "text/plain": [
       "         date                                           sections  \\\n",
       "0  2005-06-09  일부 위원은 우리나라 경제가 일본경제  에 비해 더 나아질 특별한 요인이 없음에도 ...   \n",
       "0  2005-06-09  일부 위원은 우리나라 경제가 일본경제  에 비해 더 나아질 특별한 요인이 없음에도 ...   \n",
       "0  2005-06-09  일부 위원은 우리나라 경제가 일본경제  에 비해 더 나아질 특별한 요인이 없음에도 ...   \n",
       "0  2005-06-09  일부 위원은 우리나라 경제가 일본경제  에 비해 더 나아질 특별한 요인이 없음에도 ...   \n",
       "0  2005-06-09  일부 위원은 우리나라 경제가 일본경제  에 비해 더 나아질 특별한 요인이 없음에도 ...   \n",
       "\n",
       "                                           sentences  \n",
       "0  일부 위원은 우리나라 경제가 일본경제  에 비해 더 나아질 특별한 요인이 없음에도 ...  \n",
       "0  - 6 -     동 위원은 환율이 중장기적으로 각국의 기초경제여건(fundamen...  \n",
       "0  다른 일부 위원은 최근 유로지역의 경제성장 실적이 예상보다 저조한 가운  데 일각에...  \n",
       "0  동 위원은 국내 금리가 현 수준에서 유지되고 미국 금리가 상승하는 가운  데 달러화...  \n",
       "0  다른 일부 위원은 최근 가계대출의 월평균 증가액이 2003년과 지난해 실적  을 크...  "
      ]
     },
     "execution_count": 6,
     "metadata": {},
     "output_type": "execute_result"
    }
   ],
   "source": [
    "minutes_df = minutes_df.explode('sentences')\n",
    "minutes_df.head()"
   ]
  },
  {
   "cell_type": "code",
   "execution_count": 9,
   "metadata": {},
   "outputs": [],
   "source": [
    "minutes_df.dropna(inplace=True) # sentences가 np.nan이라서 float으로 들어가 오류나는 경우 존재한다. \n",
    "minutes_df.date = pd.to_datetime(minutes_df.date)\n",
    "minutes_df.reset_index(drop=True, inplace=True)"
   ]
  },
  {
   "cell_type": "code",
   "execution_count": 10,
   "metadata": {},
   "outputs": [
    {
     "data": {
      "text/plain": [
       "11502"
      ]
     },
     "execution_count": 10,
     "metadata": {},
     "output_type": "execute_result"
    }
   ],
   "source": [
    "len(minutes_df)"
   ]
  },
  {
   "cell_type": "code",
   "execution_count": 11,
   "metadata": {},
   "outputs": [
    {
     "data": {
      "text/html": [
       "<div>\n",
       "<style scoped>\n",
       "    .dataframe tbody tr th:only-of-type {\n",
       "        vertical-align: middle;\n",
       "    }\n",
       "\n",
       "    .dataframe tbody tr th {\n",
       "        vertical-align: top;\n",
       "    }\n",
       "\n",
       "    .dataframe thead th {\n",
       "        text-align: right;\n",
       "    }\n",
       "</style>\n",
       "<table border=\"1\" class=\"dataframe\">\n",
       "  <thead>\n",
       "    <tr style=\"text-align: right;\">\n",
       "      <th></th>\n",
       "      <th>date</th>\n",
       "      <th>sections</th>\n",
       "      <th>sentences</th>\n",
       "    </tr>\n",
       "  </thead>\n",
       "  <tbody>\n",
       "    <tr>\n",
       "      <th>count</th>\n",
       "      <td>11502</td>\n",
       "      <td>11502</td>\n",
       "      <td>11502</td>\n",
       "    </tr>\n",
       "    <tr>\n",
       "      <th>unique</th>\n",
       "      <td>301</td>\n",
       "      <td>117</td>\n",
       "      <td>11051</td>\n",
       "    </tr>\n",
       "    <tr>\n",
       "      <th>top</th>\n",
       "      <td>2012-04-13 00:00:00</td>\n",
       "      <td>일부 위원은 최근 일부 기업의 해외  현지법인이 해외채권을 외평채 보다도 낮은 금리...</td>\n",
       "      <td></td>\n",
       "    </tr>\n",
       "    <tr>\n",
       "      <th>freq</th>\n",
       "      <td>324</td>\n",
       "      <td>324</td>\n",
       "      <td>185</td>\n",
       "    </tr>\n",
       "    <tr>\n",
       "      <th>first</th>\n",
       "      <td>2005-06-09 00:00:00</td>\n",
       "      <td>NaN</td>\n",
       "      <td>NaN</td>\n",
       "    </tr>\n",
       "    <tr>\n",
       "      <th>last</th>\n",
       "      <td>2020-01-17 00:00:00</td>\n",
       "      <td>NaN</td>\n",
       "      <td>NaN</td>\n",
       "    </tr>\n",
       "  </tbody>\n",
       "</table>\n",
       "</div>"
      ],
      "text/plain": [
       "                       date  \\\n",
       "count                 11502   \n",
       "unique                  301   \n",
       "top     2012-04-13 00:00:00   \n",
       "freq                    324   \n",
       "first   2005-06-09 00:00:00   \n",
       "last    2020-01-17 00:00:00   \n",
       "\n",
       "                                                 sections sentences  \n",
       "count                                               11502     11502  \n",
       "unique                                                117     11051  \n",
       "top     일부 위원은 최근 일부 기업의 해외  현지법인이 해외채권을 외평채 보다도 낮은 금리...            \n",
       "freq                                                  324       185  \n",
       "first                                                 NaN       NaN  \n",
       "last                                                  NaN       NaN  "
      ]
     },
     "execution_count": 11,
     "metadata": {},
     "output_type": "execute_result"
    }
   ],
   "source": [
    "minutes_df.describe()"
   ]
  },
  {
   "cell_type": "code",
   "execution_count": 12,
   "metadata": {},
   "outputs": [
    {
     "data": {
      "text/html": [
       "<div>\n",
       "<style scoped>\n",
       "    .dataframe tbody tr th:only-of-type {\n",
       "        vertical-align: middle;\n",
       "    }\n",
       "\n",
       "    .dataframe tbody tr th {\n",
       "        vertical-align: top;\n",
       "    }\n",
       "\n",
       "    .dataframe thead th {\n",
       "        text-align: right;\n",
       "    }\n",
       "</style>\n",
       "<table border=\"1\" class=\"dataframe\">\n",
       "  <thead>\n",
       "    <tr style=\"text-align: right;\">\n",
       "      <th></th>\n",
       "      <th>date</th>\n",
       "      <th>sections</th>\n",
       "      <th>sentences</th>\n",
       "    </tr>\n",
       "  </thead>\n",
       "  <tbody>\n",
       "    <tr>\n",
       "      <th>0</th>\n",
       "      <td>2005-06-09</td>\n",
       "      <td>일부 위원은 우리나라 경제가 일본경제  에 비해 더 나아질 특별한 요인이 없음에도 ...</td>\n",
       "      <td>일부 위원은 우리나라 경제가 일본경제  에 비해 더 나아질 특별한 요인이 없음에도 ...</td>\n",
       "    </tr>\n",
       "    <tr>\n",
       "      <th>1</th>\n",
       "      <td>2005-06-09</td>\n",
       "      <td>일부 위원은 우리나라 경제가 일본경제  에 비해 더 나아질 특별한 요인이 없음에도 ...</td>\n",
       "      <td>- 6 -     동 위원은 환율이 중장기적으로 각국의 기초경제여건(fundamen...</td>\n",
       "    </tr>\n",
       "    <tr>\n",
       "      <th>2</th>\n",
       "      <td>2005-06-09</td>\n",
       "      <td>일부 위원은 우리나라 경제가 일본경제  에 비해 더 나아질 특별한 요인이 없음에도 ...</td>\n",
       "      <td>다른 일부 위원은 최근 유로지역의 경제성장 실적이 예상보다 저조한 가운  데 일각에...</td>\n",
       "    </tr>\n",
       "    <tr>\n",
       "      <th>3</th>\n",
       "      <td>2005-06-09</td>\n",
       "      <td>일부 위원은 우리나라 경제가 일본경제  에 비해 더 나아질 특별한 요인이 없음에도 ...</td>\n",
       "      <td>동 위원은 국내 금리가 현 수준에서 유지되고 미국 금리가 상승하는 가운  데 달러화...</td>\n",
       "    </tr>\n",
       "    <tr>\n",
       "      <th>4</th>\n",
       "      <td>2005-06-09</td>\n",
       "      <td>일부 위원은 우리나라 경제가 일본경제  에 비해 더 나아질 특별한 요인이 없음에도 ...</td>\n",
       "      <td>다른 일부 위원은 최근 가계대출의 월평균 증가액이 2003년과 지난해 실적  을 크...</td>\n",
       "    </tr>\n",
       "  </tbody>\n",
       "</table>\n",
       "</div>"
      ],
      "text/plain": [
       "        date                                           sections  \\\n",
       "0 2005-06-09  일부 위원은 우리나라 경제가 일본경제  에 비해 더 나아질 특별한 요인이 없음에도 ...   \n",
       "1 2005-06-09  일부 위원은 우리나라 경제가 일본경제  에 비해 더 나아질 특별한 요인이 없음에도 ...   \n",
       "2 2005-06-09  일부 위원은 우리나라 경제가 일본경제  에 비해 더 나아질 특별한 요인이 없음에도 ...   \n",
       "3 2005-06-09  일부 위원은 우리나라 경제가 일본경제  에 비해 더 나아질 특별한 요인이 없음에도 ...   \n",
       "4 2005-06-09  일부 위원은 우리나라 경제가 일본경제  에 비해 더 나아질 특별한 요인이 없음에도 ...   \n",
       "\n",
       "                                           sentences  \n",
       "0  일부 위원은 우리나라 경제가 일본경제  에 비해 더 나아질 특별한 요인이 없음에도 ...  \n",
       "1  - 6 -     동 위원은 환율이 중장기적으로 각국의 기초경제여건(fundamen...  \n",
       "2  다른 일부 위원은 최근 유로지역의 경제성장 실적이 예상보다 저조한 가운  데 일각에...  \n",
       "3  동 위원은 국내 금리가 현 수준에서 유지되고 미국 금리가 상승하는 가운  데 달러화...  \n",
       "4  다른 일부 위원은 최근 가계대출의 월평균 증가액이 2003년과 지난해 실적  을 크...  "
      ]
     },
     "execution_count": 12,
     "metadata": {},
     "output_type": "execute_result"
    }
   ],
   "source": [
    "minutes_df.head()"
   ]
  },
  {
   "cell_type": "markdown",
   "metadata": {},
   "source": [
    "## 각 문장을 `ngrams`로 분리한다. "
   ]
  },
  {
   "cell_type": "code",
   "execution_count": 13,
   "metadata": {},
   "outputs": [
    {
     "name": "stdout",
     "output_type": "stream",
     "text": [
      "Wall time: 10min 46s\n"
     ]
    }
   ],
   "source": [
    "%%time \n",
    "# Wall time: 42min 39s\n",
    "\n",
    "with mp.Pool(processes=6) as p:\n",
    "    minutes_sentences_ngrams = p.map(worker.text2ngram, minutes_df.sentences)"
   ]
  },
  {
   "cell_type": "code",
   "execution_count": 14,
   "metadata": {},
   "outputs": [
    {
     "data": {
      "text/plain": [
       "11502"
      ]
     },
     "execution_count": 14,
     "metadata": {},
     "output_type": "execute_result"
    }
   ],
   "source": [
    "len(minutes_sentences_ngrams)"
   ]
  },
  {
   "cell_type": "markdown",
   "metadata": {},
   "source": [
    "## Polarity Dictionary를 불러온다. \n",
    "\n",
    "그리고 hawkish_dictionary와 dovish_dictionary로 나눈다. "
   ]
  },
  {
   "cell_type": "code",
   "execution_count": 28,
   "metadata": {},
   "outputs": [
    {
     "data": {
      "text/html": [
       "<div>\n",
       "<style scoped>\n",
       "    .dataframe tbody tr th:only-of-type {\n",
       "        vertical-align: middle;\n",
       "    }\n",
       "\n",
       "    .dataframe tbody tr th {\n",
       "        vertical-align: top;\n",
       "    }\n",
       "\n",
       "    .dataframe thead th {\n",
       "        text-align: right;\n",
       "    }\n",
       "</style>\n",
       "<table border=\"1\" class=\"dataframe\">\n",
       "  <thead>\n",
       "    <tr style=\"text-align: right;\">\n",
       "      <th></th>\n",
       "      <th>hawkish</th>\n",
       "      <th>dovish</th>\n",
       "      <th>total</th>\n",
       "      <th>prob_feature_given_hawkish</th>\n",
       "      <th>prob_feature_given_dovish</th>\n",
       "      <th>polarity_score</th>\n",
       "    </tr>\n",
       "  </thead>\n",
       "  <tbody>\n",
       "    <tr>\n",
       "      <th>이변/NNG</th>\n",
       "      <td>9</td>\n",
       "      <td>7</td>\n",
       "      <td>16</td>\n",
       "      <td>0.000008</td>\n",
       "      <td>0.000005</td>\n",
       "      <td>1.556266</td>\n",
       "    </tr>\n",
       "    <tr>\n",
       "      <th>지신/NNG</th>\n",
       "      <td>12</td>\n",
       "      <td>8</td>\n",
       "      <td>20</td>\n",
       "      <td>0.000010</td>\n",
       "      <td>0.000006</td>\n",
       "      <td>1.815644</td>\n",
       "    </tr>\n",
       "    <tr>\n",
       "      <th>그렉시트/NNG</th>\n",
       "      <td>17</td>\n",
       "      <td>34</td>\n",
       "      <td>51</td>\n",
       "      <td>0.000014</td>\n",
       "      <td>0.000024</td>\n",
       "      <td>0.605215</td>\n",
       "    </tr>\n",
       "    <tr>\n",
       "      <th>실험/NNG</th>\n",
       "      <td>19</td>\n",
       "      <td>9</td>\n",
       "      <td>28</td>\n",
       "      <td>0.000016</td>\n",
       "      <td>0.000006</td>\n",
       "      <td>2.555350</td>\n",
       "    </tr>\n",
       "    <tr>\n",
       "      <th>자산배분전략/NNG</th>\n",
       "      <td>10</td>\n",
       "      <td>102</td>\n",
       "      <td>112</td>\n",
       "      <td>0.000008</td>\n",
       "      <td>0.000071</td>\n",
       "      <td>0.118670</td>\n",
       "    </tr>\n",
       "  </tbody>\n",
       "</table>\n",
       "</div>"
      ],
      "text/plain": [
       "            hawkish  dovish  total  prob_feature_given_hawkish  \\\n",
       "이변/NNG            9       7     16                    0.000008   \n",
       "지신/NNG           12       8     20                    0.000010   \n",
       "그렉시트/NNG         17      34     51                    0.000014   \n",
       "실험/NNG           19       9     28                    0.000016   \n",
       "자산배분전략/NNG       10     102    112                    0.000008   \n",
       "\n",
       "            prob_feature_given_dovish  polarity_score  \n",
       "이변/NNG                       0.000005        1.556266  \n",
       "지신/NNG                       0.000006        1.815644  \n",
       "그렉시트/NNG                     0.000024        0.605215  \n",
       "실험/NNG                       0.000006        2.555350  \n",
       "자산배분전략/NNG                   0.000071        0.118670  "
      ]
     },
     "execution_count": 28,
     "metadata": {},
     "output_type": "execute_result"
    }
   ],
   "source": [
    "polarity_dictionary = pd.read_pickle('./data_files/results/polarity_dictionary_1.3threshold.pkl')\n",
    "polarity_dictionary.head()"
   ]
  },
  {
   "cell_type": "code",
   "execution_count": 29,
   "metadata": {},
   "outputs": [],
   "source": [
    "intensity_threshold = 1.3\n",
    "\n",
    "hawkish_dictionary = polarity_dictionary[polarity_dictionary.polarity_score >= intensity_threshold]\n",
    "hawkish_dictionary = hawkish_dictionary.index\n",
    "\n",
    "dovish_dictionary = polarity_dictionary[polarity_dictionary.polarity_score <= 1/intensity_threshold]\n",
    "dovish_dictionary = dovish_dictionary.index"
   ]
  },
  {
   "cell_type": "code",
   "execution_count": 30,
   "metadata": {},
   "outputs": [
    {
     "name": "stdout",
     "output_type": "stream",
     "text": [
      "hawkish dictionary 크기:  1743\n",
      "dovish dictionary 크기:  1990\n"
     ]
    }
   ],
   "source": [
    "print(\"hawkish dictionary 크기: \", len(hawkish_dictionary))\n",
    "print(\"dovish dictionary 크기: \", len(dovish_dictionary))"
   ]
  },
  {
   "cell_type": "markdown",
   "metadata": {},
   "source": [
    "뉴스 ngram 추출을 하지 않아 사전크기가 너무 작으므로, 김현진T에게 받은 뉴스데이터의 ngram까지 추가된 hawkish/dovish dictionary를 받아 결과를 확인해보겠다. "
   ]
  },
  {
   "cell_type": "code",
   "execution_count": 15,
   "metadata": {},
   "outputs": [
    {
     "data": {
      "text/plain": [
       "Index(['인상/NNG', '종합/NNG', '배포/NNG', '전재/NNG', '기사/NNG', '뉴스/NNG', '무단/NNG',\n",
       "       '긴축/NNG', '금지/NNG', '이용/NNG',\n",
       "       ...\n",
       "       '예상/NNG;분위기/NNG;강하/VA', '경기순환/NNG;회복/NNG', '꼬인다/VV',\n",
       "       '강력/NNG;경제/NNG;회복/NNG', '산업활동/NNG;둔화/NNG',\n",
       "       'ecb/NNG;국채/NNG;매입/NNG;확대/NNG', '가격/NNG;하락/NNG;오르/VV',\n",
       "       '인상/NNG;불확실성/NNG;해소/NNG', '심리/NNG;위축/NNG;하락/NNG', '면세품/NNG'],\n",
       "      dtype='object', name='Unnamed: 0', length=11863)"
      ]
     },
     "execution_count": 15,
     "metadata": {},
     "output_type": "execute_result"
    }
   ],
   "source": [
    "alter_hawkish_dictionary = pd.read_csv('./data_files/results/close_hawkish_dic.csv')\n",
    "alter_hawkish_dictionary.set_index('Unnamed: 0', inplace=True)\n",
    "alter_hawkish_dictionary = alter_hawkish_dictionary.index\n",
    "alter_hawkish_dictionary"
   ]
  },
  {
   "cell_type": "code",
   "execution_count": 16,
   "metadata": {},
   "outputs": [
    {
     "data": {
      "text/plain": [
       "Index(['인하/NNG', '양적완화/NNG', '대책/NNG', '금융위기/NNG', '부양/NNG', '부양책/NNG',\n",
       "       '저작권자/NNG', '실물/NNG', '마이너스/NNG', '금리/NNG;인하/NNG',\n",
       "       ...\n",
       "       '경기/NNG;둔화/NNG;피하/VV', '경기민감물가/NNG', '까맣/VA',\n",
       "       '범위/NNG국채/NNG;수익률/NNG;상승/NNG', '림프종/NNG', '인플레이션/NNG;지표/NNG;악화/NNG',\n",
       "       'gdp/NNG;악화/NNG', '금리/NNG;인하/NNG;무산/NNG', '전망/NNG;상향/NNG;전망/NNG;하향/NNG',\n",
       "       '국채입찰/NNG;견조/NNG'],\n",
       "      dtype='object', name='Unnamed: 0', length=13171)"
      ]
     },
     "execution_count": 16,
     "metadata": {},
     "output_type": "execute_result"
    }
   ],
   "source": [
    "alter_dovish_dictionary = pd.read_csv('./data_files/results/close_dovish_dic.csv')\n",
    "alter_dovish_dictionary.set_index('Unnamed: 0', inplace=True)\n",
    "alter_dovish_dictionary = alter_dovish_dictionary.index\n",
    "alter_dovish_dictionary"
   ]
  },
  {
   "cell_type": "code",
   "execution_count": 17,
   "metadata": {},
   "outputs": [
    {
     "data": {
      "text/plain": [
       "True"
      ]
     },
     "execution_count": 17,
     "metadata": {},
     "output_type": "execute_result"
    }
   ],
   "source": [
    "'인상/NNG' in alter_hawkish_dictionary"
   ]
  },
  {
   "cell_type": "markdown",
   "metadata": {},
   "source": [
    "## 각 문장의 tone을 구한다. "
   ]
  },
  {
   "cell_type": "code",
   "execution_count": 46,
   "metadata": {},
   "outputs": [],
   "source": [
    "def sentence_tone(sentence_ngram_list):\n",
    "    hawkish_count = 0\n",
    "    dovish_count = 0\n",
    "    \n",
    "    for ngram in sentence_ngram_list:\n",
    "        if ngram in alter_hawkish_dictionary:\n",
    "            hawkish_count += 1\n",
    "        elif ngram in alter_dovish_dictionary:\n",
    "            dovish_count += 1\n",
    "        else:\n",
    "            continue\n",
    "    \n",
    "    if (hawkish_count + dovish_count) == 0:\n",
    "        return np.nan\n",
    "    \n",
    "    sentence_tone = (hawkish_count - dovish_count) / (hawkish_count + dovish_count)\n",
    "    \n",
    "    return sentence_tone"
   ]
  },
  {
   "cell_type": "code",
   "execution_count": 48,
   "metadata": {},
   "outputs": [
    {
     "data": {
      "text/plain": [
       "42661"
      ]
     },
     "execution_count": 48,
     "metadata": {},
     "output_type": "execute_result"
    }
   ],
   "source": [
    "sentence_tone_list = [sentence_tone(ngram_list) for ngram_list in minutes_sentences_ngrams]\n",
    "len(sentence_tone_list)"
   ]
  },
  {
   "cell_type": "code",
   "execution_count": 55,
   "metadata": {},
   "outputs": [],
   "source": [
    "sentence_tone_df = pd.DataFrame(sentence_tone_list, columns=['sentence_tone'])\n",
    "minutes_df_tone = pd.concat([minutes_df, sentence_tone_df], axis=1)"
   ]
  },
  {
   "cell_type": "code",
   "execution_count": 57,
   "metadata": {},
   "outputs": [
    {
     "data": {
      "text/html": [
       "<div>\n",
       "<style scoped>\n",
       "    .dataframe tbody tr th:only-of-type {\n",
       "        vertical-align: middle;\n",
       "    }\n",
       "\n",
       "    .dataframe tbody tr th {\n",
       "        vertical-align: top;\n",
       "    }\n",
       "\n",
       "    .dataframe thead th {\n",
       "        text-align: right;\n",
       "    }\n",
       "</style>\n",
       "<table border=\"1\" class=\"dataframe\">\n",
       "  <thead>\n",
       "    <tr style=\"text-align: right;\">\n",
       "      <th></th>\n",
       "      <th>date</th>\n",
       "      <th>minutes</th>\n",
       "      <th>sentences</th>\n",
       "      <th>sentence_tone</th>\n",
       "    </tr>\n",
       "  </thead>\n",
       "  <tbody>\n",
       "    <tr>\n",
       "      <th>0</th>\n",
       "      <td>2005-06-09</td>\n",
       "      <td>\\n\\n\\n\\n\\n\\n\\n\\n\\n\\n\\n\\n\\n\\n\\n\\n\\n\\n\\n\\n\\n\\n\\n...</td>\n",
       "      <td>130.1...</td>\n",
       "      <td>0.000000</td>\n",
       "    </tr>\n",
       "    <tr>\n",
       "      <th>1</th>\n",
       "      <td>2005-06-09</td>\n",
       "      <td>\\n\\n\\n\\n\\n\\n\\n\\n\\n\\n\\n\\n\\n\\n\\n\\n\\n\\n\\n\\n\\n\\n\\n...</td>\n",
       "      <td>5. 참 여 자     이 상 용  감사                 정 규 영  ...</td>\n",
       "      <td>1.000000</td>\n",
       "    </tr>\n",
       "    <tr>\n",
       "      <th>2</th>\n",
       "      <td>2005-06-09</td>\n",
       "      <td>\\n\\n\\n\\n\\n\\n\\n\\n\\n\\n\\n\\n\\n\\n\\n\\n\\n\\n\\n\\n\\n\\n\\n...</td>\n",
       "      <td>(３) 위원 토의내용     ｢국내외 경제동향｣과 관련하여, 일부 위원은 최근 소비...</td>\n",
       "      <td>1.000000</td>\n",
       "    </tr>\n",
       "    <tr>\n",
       "      <th>4</th>\n",
       "      <td>2005-06-09</td>\n",
       "      <td>\\n\\n\\n\\n\\n\\n\\n\\n\\n\\n\\n\\n\\n\\n\\n\\n\\n\\n\\n\\n\\n\\n\\n...</td>\n",
       "      <td>또한 동 위원은 정부가 여러 차례에 걸쳐 부동산시장 안정대책을 내놓았음.</td>\n",
       "      <td>-1.000000</td>\n",
       "    </tr>\n",
       "    <tr>\n",
       "      <th>5</th>\n",
       "      <td>2005-06-09</td>\n",
       "      <td>\\n\\n\\n\\n\\n\\n\\n\\n\\n\\n\\n\\n\\n\\n\\n\\n\\n\\n\\n\\n\\n\\n\\n...</td>\n",
       "      <td>에도 불구하고 오히려 정책의 대상이 되는 지역을 중심으로 가격상승이 지속되고   있...</td>\n",
       "      <td>-1.000000</td>\n",
       "    </tr>\n",
       "    <tr>\n",
       "      <th>...</th>\n",
       "      <td>...</td>\n",
       "      <td>...</td>\n",
       "      <td>...</td>\n",
       "      <td>...</td>\n",
       "    </tr>\n",
       "    <tr>\n",
       "      <th>42651</th>\n",
       "      <td>2020-01-17</td>\n",
       "      <td>\\n\\n\\n\\n\\n\\n\\n\\n\\n\\n\\n\\n\\n\\n\\n\\n\\n\\n\\n\\n\\n\\n\\n...</td>\n",
       "      <td>- 35 -  (별첨2)  2020년도 한국은행의 대정부 일시대출금 한도 및 대출조...</td>\n",
       "      <td>-1.000000</td>\n",
       "    </tr>\n",
       "    <tr>\n",
       "      <th>42652</th>\n",
       "      <td>2020-01-17</td>\n",
       "      <td>\\n\\n\\n\\n\\n\\n\\n\\n\\n\\n\\n\\n\\n\\n\\n\\n\\n\\n\\n\\n\\n\\n\\n...</td>\n",
       "      <td>가. 대출금 한도 및 상환기한  대출  구분 회 계 별  대출금 한도  (억원) 상...</td>\n",
       "      <td>-0.333333</td>\n",
       "    </tr>\n",
       "    <tr>\n",
       "      <th>42654</th>\n",
       "      <td>2020-01-17</td>\n",
       "      <td>\\n\\n\\n\\n\\n\\n\\n\\n\\n\\n\\n\\n\\n\\n\\n\\n\\n\\n\\n\\n\\n\\n\\n...</td>\n",
       "      <td>대출형식은 금융통화위원회가 정한 대출금 한도와 대출취급기한 내에서 정  부의 일시차...</td>\n",
       "      <td>-1.000000</td>\n",
       "    </tr>\n",
       "    <tr>\n",
       "      <th>42655</th>\n",
       "      <td>2020-01-17</td>\n",
       "      <td>\\n\\n\\n\\n\\n\\n\\n\\n\\n\\n\\n\\n\\n\\n\\n\\n\\n\\n\\n\\n\\n\\n\\n...</td>\n",
       "      <td>- 36 -  2. 부대조건  가. 정부는 일시적인 부족자금을 ｢국고금 관리법｣에 ...</td>\n",
       "      <td>0.000000</td>\n",
       "    </tr>\n",
       "    <tr>\n",
       "      <th>42660</th>\n",
       "      <td>2020-01-17</td>\n",
       "      <td>\\n\\n\\n\\n\\n\\n\\n\\n\\n\\n\\n\\n\\n\\n\\n\\n\\n\\n\\n\\n\\n\\n\\n...</td>\n",
       "      <td>3. 위임사항 : 건별 대출의 실행은 한국은행 총재에게 위임한다.</td>\n",
       "      <td>-1.000000</td>\n",
       "    </tr>\n",
       "  </tbody>\n",
       "</table>\n",
       "<p>28269 rows × 4 columns</p>\n",
       "</div>"
      ],
      "text/plain": [
       "            date                                            minutes  \\\n",
       "0     2005-06-09  \\n\\n\\n\\n\\n\\n\\n\\n\\n\\n\\n\\n\\n\\n\\n\\n\\n\\n\\n\\n\\n\\n\\n...   \n",
       "1     2005-06-09  \\n\\n\\n\\n\\n\\n\\n\\n\\n\\n\\n\\n\\n\\n\\n\\n\\n\\n\\n\\n\\n\\n\\n...   \n",
       "2     2005-06-09  \\n\\n\\n\\n\\n\\n\\n\\n\\n\\n\\n\\n\\n\\n\\n\\n\\n\\n\\n\\n\\n\\n\\n...   \n",
       "4     2005-06-09  \\n\\n\\n\\n\\n\\n\\n\\n\\n\\n\\n\\n\\n\\n\\n\\n\\n\\n\\n\\n\\n\\n\\n...   \n",
       "5     2005-06-09  \\n\\n\\n\\n\\n\\n\\n\\n\\n\\n\\n\\n\\n\\n\\n\\n\\n\\n\\n\\n\\n\\n\\n...   \n",
       "...          ...                                                ...   \n",
       "42651 2020-01-17  \\n\\n\\n\\n\\n\\n\\n\\n\\n\\n\\n\\n\\n\\n\\n\\n\\n\\n\\n\\n\\n\\n\\n...   \n",
       "42652 2020-01-17  \\n\\n\\n\\n\\n\\n\\n\\n\\n\\n\\n\\n\\n\\n\\n\\n\\n\\n\\n\\n\\n\\n\\n...   \n",
       "42654 2020-01-17  \\n\\n\\n\\n\\n\\n\\n\\n\\n\\n\\n\\n\\n\\n\\n\\n\\n\\n\\n\\n\\n\\n\\n...   \n",
       "42655 2020-01-17  \\n\\n\\n\\n\\n\\n\\n\\n\\n\\n\\n\\n\\n\\n\\n\\n\\n\\n\\n\\n\\n\\n\\n...   \n",
       "42660 2020-01-17  \\n\\n\\n\\n\\n\\n\\n\\n\\n\\n\\n\\n\\n\\n\\n\\n\\n\\n\\n\\n\\n\\n\\n...   \n",
       "\n",
       "                                               sentences  sentence_tone  \n",
       "0                                               130.1...       0.000000  \n",
       "1      5. 참 여 자     이 상 용  감사                 정 규 영  ...       1.000000  \n",
       "2      (３) 위원 토의내용     ｢국내외 경제동향｣과 관련하여, 일부 위원은 최근 소비...       1.000000  \n",
       "4               또한 동 위원은 정부가 여러 차례에 걸쳐 부동산시장 안정대책을 내놓았음.      -1.000000  \n",
       "5      에도 불구하고 오히려 정책의 대상이 되는 지역을 중심으로 가격상승이 지속되고   있...      -1.000000  \n",
       "...                                                  ...            ...  \n",
       "42651  - 35 -  (별첨2)  2020년도 한국은행의 대정부 일시대출금 한도 및 대출조...      -1.000000  \n",
       "42652  가. 대출금 한도 및 상환기한  대출  구분 회 계 별  대출금 한도  (억원) 상...      -0.333333  \n",
       "42654  대출형식은 금융통화위원회가 정한 대출금 한도와 대출취급기한 내에서 정  부의 일시차...      -1.000000  \n",
       "42655  - 36 -  2. 부대조건  가. 정부는 일시적인 부족자금을 ｢국고금 관리법｣에 ...       0.000000  \n",
       "42660               3. 위임사항 : 건별 대출의 실행은 한국은행 총재에게 위임한다.      -1.000000  \n",
       "\n",
       "[28269 rows x 4 columns]"
      ]
     },
     "execution_count": 57,
     "metadata": {},
     "output_type": "execute_result"
    }
   ],
   "source": [
    "minutes_df_tone.dropna(inplace=True)\n",
    "minutes_df_tone"
   ]
  },
  {
   "cell_type": "code",
   "execution_count": 198,
   "metadata": {},
   "outputs": [],
   "source": [
    "minutes_df_tone.to_pickle('./data_files/results/alter_minutes_df_sentence_tone.pkl')"
   ]
  },
  {
   "cell_type": "markdown",
   "metadata": {},
   "source": [
    "## 문서의 tone을 구한다. \n",
    "\n",
    "`.groupby('date')`를 했다. 한 날짜에 의사록이 하나 올라온다 가정. "
   ]
  },
  {
   "cell_type": "code",
   "execution_count": 147,
   "metadata": {},
   "outputs": [],
   "source": [
    "def doc_tone(sentence_tone_series):\n",
    "    hawkish_count = 0\n",
    "    dovish_count = 0\n",
    "    \n",
    "    hawkish_count = sentence_tone_series[sentence_tone_series > 0].count()\n",
    "    dovish_count = sentence_tone_series[sentence_tone_series < 0].count()\n",
    "    \n",
    "    if (hawkish_count + dovish_count) == 0:\n",
    "        return np.nan\n",
    "    \n",
    "    doc_tone = (hawkish_count - dovish_count) / (hawkish_count + dovish_count)\n",
    "    \n",
    "    return doc_tone"
   ]
  },
  {
   "cell_type": "code",
   "execution_count": 155,
   "metadata": {},
   "outputs": [
    {
     "data": {
      "text/html": [
       "<div>\n",
       "<style scoped>\n",
       "    .dataframe tbody tr th:only-of-type {\n",
       "        vertical-align: middle;\n",
       "    }\n",
       "\n",
       "    .dataframe tbody tr th {\n",
       "        vertical-align: top;\n",
       "    }\n",
       "\n",
       "    .dataframe thead th {\n",
       "        text-align: right;\n",
       "    }\n",
       "</style>\n",
       "<table border=\"1\" class=\"dataframe\">\n",
       "  <thead>\n",
       "    <tr style=\"text-align: right;\">\n",
       "      <th></th>\n",
       "      <th>doc_tone</th>\n",
       "    </tr>\n",
       "    <tr>\n",
       "      <th>date</th>\n",
       "      <th></th>\n",
       "    </tr>\n",
       "  </thead>\n",
       "  <tbody>\n",
       "    <tr>\n",
       "      <th>2019-10-16</th>\n",
       "      <td>-0.514851</td>\n",
       "    </tr>\n",
       "    <tr>\n",
       "      <th>2019-11-29</th>\n",
       "      <td>-0.484979</td>\n",
       "    </tr>\n",
       "    <tr>\n",
       "      <th>2019-12-12</th>\n",
       "      <td>0.428571</td>\n",
       "    </tr>\n",
       "    <tr>\n",
       "      <th>2019-12-26</th>\n",
       "      <td>-0.200000</td>\n",
       "    </tr>\n",
       "    <tr>\n",
       "      <th>2020-01-17</th>\n",
       "      <td>-0.451613</td>\n",
       "    </tr>\n",
       "  </tbody>\n",
       "</table>\n",
       "</div>"
      ],
      "text/plain": [
       "            doc_tone\n",
       "date                \n",
       "2019-10-16 -0.514851\n",
       "2019-11-29 -0.484979\n",
       "2019-12-12  0.428571\n",
       "2019-12-26 -0.200000\n",
       "2020-01-17 -0.451613"
      ]
     },
     "execution_count": 155,
     "metadata": {},
     "output_type": "execute_result"
    }
   ],
   "source": [
    "minutes_df_tone_by_date = minutes_df_tone.groupby('date')['sentence_tone'].apply(doc_tone)\n",
    "minutes_df_tone_by_date = pd.DataFrame({'doc_tone': minutes_df_tone_by_date.values}, index=minutes_df_tone_by_date.index)\n",
    "minutes_df_tone_by_date.dropna(inplace=True)\n",
    "minutes_df_tone_by_date.tail()"
   ]
  },
  {
   "cell_type": "code",
   "execution_count": 164,
   "metadata": {},
   "outputs": [
    {
     "data": {
      "text/plain": [
       "269"
      ]
     },
     "execution_count": 164,
     "metadata": {},
     "output_type": "execute_result"
    }
   ],
   "source": [
    "minutes_df_tone_by_date = minutes_df_tone_by_date[(minutes_df_tone_by_date.doc_tone != 1) & (minutes_df_tone_by_date.doc_tone != -1)]\n",
    "len(minutes_df_tone_by_date)"
   ]
  },
  {
   "cell_type": "code",
   "execution_count": 201,
   "metadata": {},
   "outputs": [],
   "source": [
    "minutes_df_tone_by_date.to_pickle('./data_files/results/alter_minutes_df_document_tone.pkl')"
   ]
  },
  {
   "cell_type": "markdown",
   "metadata": {},
   "source": [
    "## 한국은행 기준금리 데이터를 불러와 합친다. "
   ]
  },
  {
   "cell_type": "code",
   "execution_count": 149,
   "metadata": {},
   "outputs": [
    {
     "data": {
      "text/html": [
       "<div>\n",
       "<style scoped>\n",
       "    .dataframe tbody tr th:only-of-type {\n",
       "        vertical-align: middle;\n",
       "    }\n",
       "\n",
       "    .dataframe tbody tr th {\n",
       "        vertical-align: top;\n",
       "    }\n",
       "\n",
       "    .dataframe thead th {\n",
       "        text-align: right;\n",
       "    }\n",
       "</style>\n",
       "<table border=\"1\" class=\"dataframe\">\n",
       "  <thead>\n",
       "    <tr style=\"text-align: right;\">\n",
       "      <th></th>\n",
       "      <th>doc_tone</th>\n",
       "    </tr>\n",
       "    <tr>\n",
       "      <th>date</th>\n",
       "      <th></th>\n",
       "    </tr>\n",
       "  </thead>\n",
       "  <tbody>\n",
       "    <tr>\n",
       "      <th>2005-06-09</th>\n",
       "      <td>0.321429</td>\n",
       "    </tr>\n",
       "    <tr>\n",
       "      <th>2005-06-23</th>\n",
       "      <td>-1.000000</td>\n",
       "    </tr>\n",
       "    <tr>\n",
       "      <th>2005-07-07</th>\n",
       "      <td>0.264957</td>\n",
       "    </tr>\n",
       "    <tr>\n",
       "      <th>2005-08-11</th>\n",
       "      <td>0.449541</td>\n",
       "    </tr>\n",
       "    <tr>\n",
       "      <th>2005-09-08</th>\n",
       "      <td>0.314286</td>\n",
       "    </tr>\n",
       "  </tbody>\n",
       "</table>\n",
       "</div>"
      ],
      "text/plain": [
       "            doc_tone\n",
       "date                \n",
       "2005-06-09  0.321429\n",
       "2005-06-23 -1.000000\n",
       "2005-07-07  0.264957\n",
       "2005-08-11  0.449541\n",
       "2005-09-08  0.314286"
      ]
     },
     "execution_count": 149,
     "metadata": {},
     "output_type": "execute_result"
    }
   ],
   "source": [
    "minutes_df_tone_by_date = pd.read_pickle('./data_files/results/alter_minutes_df_document_tone.pkl')\n",
    "minutes_df_tone_by_date.head()"
   ]
  },
  {
   "cell_type": "code",
   "execution_count": 150,
   "metadata": {},
   "outputs": [
    {
     "data": {
      "text/html": [
       "<div>\n",
       "<style scoped>\n",
       "    .dataframe tbody tr th:only-of-type {\n",
       "        vertical-align: middle;\n",
       "    }\n",
       "\n",
       "    .dataframe tbody tr th {\n",
       "        vertical-align: top;\n",
       "    }\n",
       "\n",
       "    .dataframe thead th {\n",
       "        text-align: right;\n",
       "    }\n",
       "</style>\n",
       "<table border=\"1\" class=\"dataframe\">\n",
       "  <thead>\n",
       "    <tr style=\"text-align: right;\">\n",
       "      <th></th>\n",
       "      <th>base_rate</th>\n",
       "    </tr>\n",
       "    <tr>\n",
       "      <th>date</th>\n",
       "      <th></th>\n",
       "    </tr>\n",
       "  </thead>\n",
       "  <tbody>\n",
       "    <tr>\n",
       "      <th>2004-01-01</th>\n",
       "      <td>3.75</td>\n",
       "    </tr>\n",
       "    <tr>\n",
       "      <th>2004-01-02</th>\n",
       "      <td>3.75</td>\n",
       "    </tr>\n",
       "    <tr>\n",
       "      <th>2004-01-03</th>\n",
       "      <td>3.75</td>\n",
       "    </tr>\n",
       "    <tr>\n",
       "      <th>2004-01-04</th>\n",
       "      <td>3.75</td>\n",
       "    </tr>\n",
       "    <tr>\n",
       "      <th>2004-01-05</th>\n",
       "      <td>3.75</td>\n",
       "    </tr>\n",
       "  </tbody>\n",
       "</table>\n",
       "</div>"
      ],
      "text/plain": [
       "            base_rate\n",
       "date                 \n",
       "2004-01-01       3.75\n",
       "2004-01-02       3.75\n",
       "2004-01-03       3.75\n",
       "2004-01-04       3.75\n",
       "2004-01-05       3.75"
      ]
     },
     "execution_count": 150,
     "metadata": {},
     "output_type": "execute_result"
    }
   ],
   "source": [
    "bok_policy_rate = pd.read_csv('./data_files/BOK_2.6._base_rate.csv')\n",
    "bok_policy_rate.date = pd.to_datetime(bok_policy_rate.date)\n",
    "bok_policy_rate.set_index('date', inplace=True)\n",
    "bok_policy_rate.head()"
   ]
  },
  {
   "cell_type": "code",
   "execution_count": 167,
   "metadata": {},
   "outputs": [
    {
     "data": {
      "text/html": [
       "<div>\n",
       "<style scoped>\n",
       "    .dataframe tbody tr th:only-of-type {\n",
       "        vertical-align: middle;\n",
       "    }\n",
       "\n",
       "    .dataframe tbody tr th {\n",
       "        vertical-align: top;\n",
       "    }\n",
       "\n",
       "    .dataframe thead th {\n",
       "        text-align: right;\n",
       "    }\n",
       "</style>\n",
       "<table border=\"1\" class=\"dataframe\">\n",
       "  <thead>\n",
       "    <tr style=\"text-align: right;\">\n",
       "      <th></th>\n",
       "      <th>doc_tone</th>\n",
       "      <th>base_rate</th>\n",
       "    </tr>\n",
       "    <tr>\n",
       "      <th>date</th>\n",
       "      <th></th>\n",
       "      <th></th>\n",
       "    </tr>\n",
       "  </thead>\n",
       "  <tbody>\n",
       "    <tr>\n",
       "      <th>2005-06-09</th>\n",
       "      <td>0.321429</td>\n",
       "      <td>3.25</td>\n",
       "    </tr>\n",
       "    <tr>\n",
       "      <th>2005-07-07</th>\n",
       "      <td>0.264957</td>\n",
       "      <td>3.25</td>\n",
       "    </tr>\n",
       "    <tr>\n",
       "      <th>2005-08-11</th>\n",
       "      <td>0.449541</td>\n",
       "      <td>3.25</td>\n",
       "    </tr>\n",
       "    <tr>\n",
       "      <th>2005-09-08</th>\n",
       "      <td>0.314286</td>\n",
       "      <td>3.25</td>\n",
       "    </tr>\n",
       "    <tr>\n",
       "      <th>2005-09-22</th>\n",
       "      <td>-0.800000</td>\n",
       "      <td>3.25</td>\n",
       "    </tr>\n",
       "  </tbody>\n",
       "</table>\n",
       "</div>"
      ],
      "text/plain": [
       "            doc_tone  base_rate\n",
       "date                           \n",
       "2005-06-09  0.321429       3.25\n",
       "2005-07-07  0.264957       3.25\n",
       "2005-08-11  0.449541       3.25\n",
       "2005-09-08  0.314286       3.25\n",
       "2005-09-22 -0.800000       3.25"
      ]
     },
     "execution_count": 167,
     "metadata": {},
     "output_type": "execute_result"
    }
   ],
   "source": [
    "tone_and_policy_rate_df = minutes_df_tone_by_date.merge(bok_policy_rate, how='left', left_index=True, right_index=True)\n",
    "tone_and_policy_rate_df.head()"
   ]
  },
  {
   "cell_type": "code",
   "execution_count": 152,
   "metadata": {},
   "outputs": [],
   "source": [
    "tone_and_policy_rate_df.to_pickle('./data_files/results/alter_tone_and_policy_rate_df.pkl')"
   ]
  },
  {
   "cell_type": "markdown",
   "metadata": {},
   "source": [
    "## 상관관계 계산 및 그래프 plot"
   ]
  },
  {
   "cell_type": "code",
   "execution_count": 165,
   "metadata": {},
   "outputs": [
    {
     "data": {
      "text/html": [
       "<div>\n",
       "<style scoped>\n",
       "    .dataframe tbody tr th:only-of-type {\n",
       "        vertical-align: middle;\n",
       "    }\n",
       "\n",
       "    .dataframe tbody tr th {\n",
       "        vertical-align: top;\n",
       "    }\n",
       "\n",
       "    .dataframe thead th {\n",
       "        text-align: right;\n",
       "    }\n",
       "</style>\n",
       "<table border=\"1\" class=\"dataframe\">\n",
       "  <thead>\n",
       "    <tr style=\"text-align: right;\">\n",
       "      <th></th>\n",
       "      <th>doc_tone</th>\n",
       "      <th>base_rate</th>\n",
       "    </tr>\n",
       "  </thead>\n",
       "  <tbody>\n",
       "    <tr>\n",
       "      <th>doc_tone</th>\n",
       "      <td>1.00000</td>\n",
       "      <td>0.42309</td>\n",
       "    </tr>\n",
       "    <tr>\n",
       "      <th>base_rate</th>\n",
       "      <td>0.42309</td>\n",
       "      <td>1.00000</td>\n",
       "    </tr>\n",
       "  </tbody>\n",
       "</table>\n",
       "</div>"
      ],
      "text/plain": [
       "           doc_tone  base_rate\n",
       "doc_tone    1.00000    0.42309\n",
       "base_rate   0.42309    1.00000"
      ]
     },
     "execution_count": 165,
     "metadata": {},
     "output_type": "execute_result"
    }
   ],
   "source": [
    "tone_and_policy_rate_df.corr(method='pearson')"
   ]
  },
  {
   "cell_type": "code",
   "execution_count": 168,
   "metadata": {},
   "outputs": [
    {
     "data": {
      "image/png": "[encoded data removed]",
      "text/plain": [
       "<Figure size 1080x720 with 2 Axes>"
      ]
     },
     "metadata": {
      "needs_background": "light"
     },
     "output_type": "display_data"
    }
   ],
   "source": [
    "plt.figure(figsize=(15,10))\n",
    "\n",
    "ax1 = tone_and_policy_rate_df.doc_tone.plot(color='blue', grid=True, label='금통위 의사록 어조')\n",
    "ax2 = tone_and_policy_rate_df.base_rate.plot(color='red', grid=True, secondary_y=True, label='기준금리')\n",
    "\n",
    "plt.show()"
   ]
  },
  {
   "cell_type": "code",
   "execution_count": null,
   "metadata": {},
   "outputs": [],
   "source": []
  },
  {
   "cell_type": "code",
   "execution_count": null,
   "metadata": {},
   "outputs": [],
   "source": []
  }
 ],
 "metadata": {
  "kernelspec": {
   "display_name": "Python 3",
   "language": "python",
   "name": "python3"
  },
  "language_info": {
   "codemirror_mode": {
    "name": "ipython",
    "version": 3
   },
   "file_extension": ".py",
   "mimetype": "text/x-python",
   "name": "python",
   "nbconvert_exporter": "python",
   "pygments_lexer": "ipython3",
   "version": "3.7.6"
  }
 },
 "nbformat": 4,
 "nbformat_minor": 4
}

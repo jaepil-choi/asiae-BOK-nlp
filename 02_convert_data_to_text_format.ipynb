{
 "cells": [
  {
   "cell_type": "code",
   "execution_count": 162,
   "metadata": {},
   "outputs": [],
   "source": [
    "# -*- coding: utf-8 -*-\n",
    "\n",
    "import pandas as pd\n",
    "from tika import parser\n",
    "import shutil\n",
    "import os, sys, subprocess\n",
    "import re "
   ]
  },
  {
   "cell_type": "markdown",
   "metadata": {},
   "source": [
    "# hwp to txt 변환\n",
    "\n",
    "pyhwp가 설치되어 있어야 한다. "
   ]
  },
  {
   "cell_type": "code",
   "execution_count": 200,
   "metadata": {},
   "outputs": [
    {
     "data": {
      "text/plain": [
       "'C:\\\\Users\\\\chlje\\\\VSCodeProjects\\\\asiae-BOK-nlp\\\\data_files\\\\BOK_minutes\\\\hwp'"
      ]
     },
     "execution_count": 200,
     "metadata": {},
     "output_type": "execute_result"
    }
   ],
   "source": [
    "hwp_path = r'.\\data_files\\BOK_minutes\\hwp'\n",
    "hwp_path = os.path.abspath(hwp_path)\n",
    "hwp_path"
   ]
  },
  {
   "cell_type": "code",
   "execution_count": 201,
   "metadata": {},
   "outputs": [
    {
     "data": {
      "text/plain": [
       "'C:\\\\Users\\\\chlje\\\\VSCodeProjects\\\\asiae-BOK-nlp\\\\data_files\\\\BOK_minutes\\\\hwp\\\\tmp'"
      ]
     },
     "execution_count": 201,
     "metadata": {},
     "output_type": "execute_result"
    }
   ],
   "source": [
    "hwp_tmp_path = r'.\\data_files\\BOK_minutes\\hwp\\tmp'\n",
    "hwp_tmp_path = os.path.abspath(hwp_tmp_path)\n",
    "hwp_tmp_path"
   ]
  },
  {
   "cell_type": "code",
   "execution_count": 202,
   "metadata": {},
   "outputs": [
    {
     "data": {
      "text/plain": [
       "'C:\\\\Users\\\\chlje\\\\VSCodeProjects\\\\asiae-BOK-nlp\\\\data_files\\\\BOK_minutes\\\\hwp2txt'"
      ]
     },
     "execution_count": 202,
     "metadata": {},
     "output_type": "execute_result"
    }
   ],
   "source": [
    "hwp2txt_path = r'.\\data_files\\BOK_minutes\\hwp2txt'\n",
    "hwp2txt_path = os.path.abspath(hwp2txt_path)\n",
    "hwp2txt_path"
   ]
  },
  {
   "cell_type": "markdown",
   "metadata": {},
   "source": [
    "<font style='color:red;'>pyhwp를 쓰며 매우 이상했던 부분이다. </font>\n",
    "\n",
    "- Terminal에서 실행할 경우:\n",
    "    - hwp5txt 한글이포함된파일경로: 실행되지 않는다. 한글 부분이 ???로 들어가며 오류난다. \n",
    "    - hwp5txt 한글이포함되지않은파일경로: 실행된다. \n",
    "    - hwp5txt-script.py 한글이포함된파일경로: 실행된다. 한글 부분이 잘 들어간다. \n",
    "    - hwp5txt-script.py 한글이포함되지않은파일경로: 실행된다. \n",
    "- Script에서 os.system() 또는 subprocess.run()을 통해 실행한 경우:\n",
    "    - hwp5txt 한글이포함된파일경로: 실행되지 않는다. 한글 부분이 ???로 들어가며 오류난다. \n",
    "    - hwp5txt 한글이포함되지않는파일경로: 실행된다. \n",
    "    - hwp5txt-script.py 한글이포함된파일경로: 실행되지 않는다. 파일경로에 한글이 포함된 것과 관계 없이 windows popup 오류가 뜨며 shell command 자체가 동작하지 않는다. \n",
    "    - hwp5txt-script.py 한글이포함되지않은파일경로: 마찬가지로 동작하지 않는다. \n",
    "    \n",
    "실행환경:\n",
    "- Windows 10 Pro 64bit\n",
    "- VSCode, Git Bash for Windows terminal\n",
    "- Python 3.7.6 64bit, on Poetry virtualenv. "
   ]
  },
  {
   "cell_type": "code",
   "execution_count": 203,
   "metadata": {},
   "outputs": [],
   "source": [
    "# exefile = 'hwp5txt-script.py' # Works on terminal, not on Jupyter. \n",
    "exefile = 'hwp5txt'"
   ]
  },
  {
   "cell_type": "code",
   "execution_count": 204,
   "metadata": {},
   "outputs": [],
   "source": [
    "files_list = []\n",
    "\n",
    "for _, _, files in os.walk(hwp_path):\n",
    "    for file in files:\n",
    "        files_list.append(file)"
   ]
  },
  {
   "cell_type": "code",
   "execution_count": 205,
   "metadata": {},
   "outputs": [],
   "source": [
    "only_files = [f for f in os.listdir(hwp_path) if os.path.isfile(os.path.join(hwp_path, f))]"
   ]
  },
  {
   "cell_type": "code",
   "execution_count": 134,
   "metadata": {},
   "outputs": [],
   "source": [
    "for file in only_files:\n",
    "    old_file = os.path.join(hwp_path, file)\n",
    "    new_file = os.path.join(hwp_tmp_path, (\"bok_mpb_\"+file[:10]+\".hwp\"))\n",
    "    shutil.copy(old_file, new_file)"
   ]
  },
  {
   "cell_type": "code",
   "execution_count": 206,
   "metadata": {},
   "outputs": [],
   "source": [
    "tmp_only_files = [f for f in os.listdir(hwp_tmp_path) if os.path.isfile(os.path.join(hwp_tmp_path, f))]"
   ]
  },
  {
   "cell_type": "markdown",
   "metadata": {},
   "source": [
    "<font style='color:red;'>매우 중요하다. \" \" 안에 인자가 들어가야한다. ' '에 들어가면 실행되지 않는다.</font> "
   ]
  },
  {
   "cell_type": "code",
   "execution_count": 194,
   "metadata": {},
   "outputs": [],
   "source": [
    "def quotation_result(filepath, filename):\n",
    "    result = filepath + \"\\\\\" + filename\n",
    "    return '\"{}\"'.format(result)"
   ]
  },
  {
   "cell_type": "code",
   "execution_count": 207,
   "metadata": {},
   "outputs": [],
   "source": [
    "for file in tmp_only_files:\n",
    "    command = [\n",
    "        exefile, \n",
    "        quotation_result(hwp_tmp_path, file), \n",
    "        '>', \n",
    "        quotation_result(hwp2txt_path, file[:-4]+\".txt\"),\n",
    "          ]\n",
    "    command = \" \".join(command)\n",
    "    \n",
    "    subprocess.run(command, shell=True)"
   ]
  }
 ],
 "metadata": {
  "kernelspec": {
   "display_name": "Python 3",
   "language": "python",
   "name": "python3"
  },
  "language_info": {
   "codemirror_mode": {
    "name": "ipython",
    "version": 3
   },
   "file_extension": ".py",
   "mimetype": "text/x-python",
   "name": "python",
   "nbconvert_exporter": "python",
   "pygments_lexer": "ipython3",
   "version": "3.7.6"
  }
 },
 "nbformat": 4,
 "nbformat_minor": 4
}

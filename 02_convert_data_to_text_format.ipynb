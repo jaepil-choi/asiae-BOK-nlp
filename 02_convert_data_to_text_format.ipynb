{
 "cells": [
  {
   "cell_type": "code",
   "execution_count": 1,
   "metadata": {},
   "outputs": [],
   "source": [
    "# -*- coding: utf-8 -*-\n",
    "\n",
    "import pandas as pd\n",
    "from tika import parser\n",
    "import shutil\n",
    "import os, sys, subprocess\n",
    "import re "
   ]
  },
  {
   "cell_type": "markdown",
   "metadata": {},
   "source": [
    "# hwp to txt 변환\n",
    "\n",
    "pyhwp가 설치되어 있어야 한다. \n",
    "\n",
    "## BOK - MPB minutes"
   ]
  },
  {
   "cell_type": "code",
   "execution_count": 200,
   "metadata": {},
   "outputs": [
    {
     "data": {
      "text/plain": [
       "'C:\\\\Users\\\\chlje\\\\VSCodeProjects\\\\asiae-BOK-nlp\\\\data_files\\\\BOK_minutes\\\\hwp'"
      ]
     },
     "execution_count": 200,
     "metadata": {},
     "output_type": "execute_result"
    }
   ],
   "source": [
    "hwp_path = r'.\\data_files\\BOK_minutes\\hwp'\n",
    "hwp_path = os.path.abspath(hwp_path)\n",
    "hwp_path"
   ]
  },
  {
   "cell_type": "code",
   "execution_count": 201,
   "metadata": {},
   "outputs": [
    {
     "data": {
      "text/plain": [
       "'C:\\\\Users\\\\chlje\\\\VSCodeProjects\\\\asiae-BOK-nlp\\\\data_files\\\\BOK_minutes\\\\hwp\\\\tmp'"
      ]
     },
     "execution_count": 201,
     "metadata": {},
     "output_type": "execute_result"
    }
   ],
   "source": [
    "hwp_tmp_path = r'.\\data_files\\BOK_minutes\\hwp\\tmp'\n",
    "hwp_tmp_path = os.path.abspath(hwp_tmp_path)\n",
    "hwp_tmp_path"
   ]
  },
  {
   "cell_type": "code",
   "execution_count": 202,
   "metadata": {},
   "outputs": [
    {
     "data": {
      "text/plain": [
       "'C:\\\\Users\\\\chlje\\\\VSCodeProjects\\\\asiae-BOK-nlp\\\\data_files\\\\BOK_minutes\\\\hwp2txt'"
      ]
     },
     "execution_count": 202,
     "metadata": {},
     "output_type": "execute_result"
    }
   ],
   "source": [
    "hwp2txt_path = r'.\\data_files\\BOK_minutes\\hwp2txt'\n",
    "hwp2txt_path = os.path.abspath(hwp2txt_path)\n",
    "hwp2txt_path"
   ]
  },
  {
   "cell_type": "markdown",
   "metadata": {},
   "source": [
    "<font style='color:red;'>pyhwp를 쓰며 매우 이상했던 부분이다. </font>\n",
    "\n",
    "- Terminal에서 실행할 경우:\n",
    "    - hwp5txt 한글이포함된파일경로: 실행되지 않는다. 한글 부분이 ???로 들어가며 오류난다. \n",
    "    - hwp5txt 한글이포함되지않은파일경로: 실행된다. \n",
    "    - hwp5txt-script.py 한글이포함된파일경로: 실행된다. 한글 부분이 잘 들어간다. \n",
    "    - hwp5txt-script.py 한글이포함되지않은파일경로: 실행된다. \n",
    "- Script에서 os.system() 또는 subprocess.run()을 통해 실행한 경우:\n",
    "    - hwp5txt 한글이포함된파일경로: 실행되지 않는다. 한글 부분이 ???로 들어가며 오류난다. \n",
    "    - hwp5txt 한글이포함되지않는파일경로: 실행된다. \n",
    "    - hwp5txt-script.py 한글이포함된파일경로: 실행되지 않는다. 파일경로에 한글이 포함된 것과 관계 없이 windows popup 오류가 뜨며 shell command 자체가 동작하지 않는다. \n",
    "    - hwp5txt-script.py 한글이포함되지않은파일경로: 마찬가지로 동작하지 않는다. \n",
    "    \n",
    "실행환경:\n",
    "- Windows 10 Pro 64bit\n",
    "- VSCode, Git Bash for Windows terminal\n",
    "- Python 3.7.6 64bit, on Poetry virtualenv. "
   ]
  },
  {
   "cell_type": "code",
   "execution_count": 203,
   "metadata": {},
   "outputs": [],
   "source": [
    "# exefile = 'hwp5txt-script.py' # Works on terminal, not on Jupyter. \n",
    "exefile = 'hwp5txt'"
   ]
  },
  {
   "cell_type": "code",
   "execution_count": 204,
   "metadata": {},
   "outputs": [],
   "source": [
    "files_list = []\n",
    "\n",
    "for _, _, files in os.walk(hwp_path):\n",
    "    for file in files:\n",
    "        files_list.append(file)"
   ]
  },
  {
   "cell_type": "code",
   "execution_count": 205,
   "metadata": {},
   "outputs": [],
   "source": [
    "only_files = [f for f in os.listdir(hwp_path) if os.path.isfile(os.path.join(hwp_path, f))]"
   ]
  },
  {
   "cell_type": "code",
   "execution_count": 134,
   "metadata": {},
   "outputs": [],
   "source": [
    "for file in only_files:\n",
    "    old_file = os.path.join(hwp_path, file)\n",
    "    new_file = os.path.join(hwp_tmp_path, (\"bok_mpb_\"+file[:10]+\".hwp\"))\n",
    "    shutil.copy(old_file, new_file)"
   ]
  },
  {
   "cell_type": "code",
   "execution_count": 206,
   "metadata": {},
   "outputs": [],
   "source": [
    "tmp_only_files = [f for f in os.listdir(hwp_tmp_path) if os.path.isfile(os.path.join(hwp_tmp_path, f))]"
   ]
  },
  {
   "cell_type": "markdown",
   "metadata": {},
   "source": [
    "<font style='color:red;'>매우 중요하다. \" \" 안에 인자가 들어가야한다. ' '에 들어가면 실행되지 않는다.</font> "
   ]
  },
  {
   "cell_type": "code",
   "execution_count": 194,
   "metadata": {},
   "outputs": [],
   "source": [
    "def quotation_result(filepath, filename):\n",
    "    result = filepath + \"\\\\\" + filename\n",
    "    return '\"{}\"'.format(result)"
   ]
  },
  {
   "cell_type": "code",
   "execution_count": 207,
   "metadata": {},
   "outputs": [],
   "source": [
    "for file in tmp_only_files:\n",
    "    command = [\n",
    "        exefile, \n",
    "        quotation_result(hwp_tmp_path, file), \n",
    "        '>', \n",
    "        quotation_result(hwp2txt_path, file[:-4]+\".txt\"),\n",
    "          ]\n",
    "    command = \" \".join(command)\n",
    "    \n",
    "    subprocess.run(command, shell=True)"
   ]
  },
  {
   "cell_type": "markdown",
   "metadata": {},
   "source": [
    "# pdf to txt 변환 \n",
    "\n",
    "Code Attribution: 김현진T, Fininsight\n",
    "\n",
    "Requirement: tika=1.23.0 as of 2020.02.25 (os.setid doesn't work on Windows)"
   ]
  },
  {
   "cell_type": "markdown",
   "metadata": {},
   "source": [
    "## 1. BOK - MPB minutes "
   ]
  },
  {
   "cell_type": "code",
   "execution_count": 2,
   "metadata": {},
   "outputs": [],
   "source": [
    "source_folder=\"./data_files/BOK_minutes/pdf/\""
   ]
  },
  {
   "cell_type": "code",
   "execution_count": 3,
   "metadata": {},
   "outputs": [],
   "source": [
    "pdf_files = [f for f in os.listdir(source_folder) if os.path.isfile(os.path.join(source_folder, f))]"
   ]
  },
  {
   "cell_type": "code",
   "execution_count": 4,
   "metadata": {},
   "outputs": [],
   "source": [
    "def pdf2txt(source_folder=\"./data_files/BOK_minutes/pdf/\", output_folder=\"./data_files/BOK_minutes/pdf2txt/\"):\n",
    "    \n",
    "    # 지정 폴더 내 파일 목록 조회 (파일만)\n",
    "    pdf_files = [f for f in os.listdir(source_folder) if os.path.isfile(os.path.join(source_folder, f))]\n",
    "    #print(pdf_files)\n",
    "\n",
    "    for pdf in pdf_files:\n",
    "        try:\n",
    "            pdf_filepath = source_folder + pdf\n",
    "            pdf_tmp_filepath = output_folder + 'tmp.pdf'\n",
    "\n",
    "            # pdf 파일을 text로 변환\n",
    "            shutil.copyfile(pdf_filepath, pdf_tmp_filepath)\n",
    "            parsedPDF = parser.from_file(pdf_tmp_filepath)[\"content\"]\n",
    "            #print(parsedPDF)\n",
    "\n",
    "            #enter 삭제 \n",
    "    #             parsedPDF = re.sub('\\n', '', parser.from_file(pdf_tmp_filepath)[\"content\"])\n",
    "\n",
    "            output_filepath = (output_folder + pdf).replace('.pdf', '.txt')\n",
    "            #print(output_filepath)\n",
    "            with open(output_filepath, 'w',-1,'utf-8') as f:\n",
    "                print(output_filepath)\n",
    "                f.write(parsedPDF)\n",
    "                f.close()\n",
    "        except:\n",
    "            print('Error Occurred at {}:'.format(pdf))\n",
    "            print(\"Error:\", sys.exc_info()[0])\n",
    "            pass"
   ]
  },
  {
   "cell_type": "code",
   "execution_count": 5,
   "metadata": {},
   "outputs": [
    {
     "name": "stdout",
     "output_type": "stream",
     "text": [
      "./data_files/BOK_minutes/pdf2txt/2005-06-09_-_금융통화위원회 의사록(2005년도 제12차).txt\n",
      "./data_files/BOK_minutes/pdf2txt/2005-06-23_-_금융통화위원회 의사록(2005년도 제13차).txt\n",
      "./data_files/BOK_minutes/pdf2txt/2005-07-07_-_금융통화위원회 의사록(2005년도 제14차).txt\n",
      "./data_files/BOK_minutes/pdf2txt/2005-08-11_-_금융통화위원회 의사록(2005년도 제17차).txt\n",
      "./data_files/BOK_minutes/pdf2txt/2005-09-08_-_금융통화위원회 의사록(2005년도 제19차).txt\n",
      "./data_files/BOK_minutes/pdf2txt/2005-09-22_-_금융통화위원회 의사록(2005년도 제20차).txt\n",
      "./data_files/BOK_minutes/pdf2txt/2005-10-11_-_금융통화위원회 의사록(2005년도 제21차).txt\n",
      "./data_files/BOK_minutes/pdf2txt/2005-11-10_-_금융통화위원회 의사록(2005년도 제24차).txt\n",
      "./data_files/BOK_minutes/pdf2txt/2005-12-08_-_금융통화위원회 의사록(2005년도 제26차).txt\n",
      "./data_files/BOK_minutes/pdf2txt/2005-12-22_-_금융통화위원회 의사록(2005년도 제27차).txt\n",
      "./data_files/BOK_minutes/pdf2txt/2006-01-05_-_금융통화위원회 의사록(2006년도 제1차).txt\n",
      "./data_files/BOK_minutes/pdf2txt/2006-01-12_-_금융통화위원회 의사록(2006년도 제2차).txt\n",
      "./data_files/BOK_minutes/pdf2txt/2006-01-26_-_금융통화위원회 의사록(2006년도 제3차).txt\n",
      "./data_files/BOK_minutes/pdf2txt/2006-02-09_-_금융통화위원회 의사록(2006년도 제4차).txt\n",
      "./data_files/BOK_minutes/pdf2txt/2006-03-09_-_금융통화위원회 의사록(2006년도 제6차).txt\n",
      "./data_files/BOK_minutes/pdf2txt/2006-03-23_-_금융통화위원회 의사록(2006년도 제7차).txt\n",
      "./data_files/BOK_minutes/pdf2txt/2006-04-07_-_금융통화위원회 의사록(2006년도 제8차).txt\n",
      "./data_files/BOK_minutes/pdf2txt/2006-05-11_-_금융통화위원회 의사록(2006년도 제10차).txt\n",
      "./data_files/BOK_minutes/pdf2txt/2006-05-25_-_금융통화위원회 의사록(2006년도 제11차).txt\n",
      "./data_files/BOK_minutes/pdf2txt/2006-06-08_-_금융통화위원회 의사록(2006년도 제12차).txt\n",
      "./data_files/BOK_minutes/pdf2txt/2006-06-22_-_금융통화위원회 의사록(2006년도 제13차).txt\n",
      "./data_files/BOK_minutes/pdf2txt/2006-07-07_-_금융통화위원회 의사록(2006년도 제14차).txt\n",
      "./data_files/BOK_minutes/pdf2txt/2006-08-10_-_금융통화위원회 의사록(2006년도 제16차).txt\n",
      "./data_files/BOK_minutes/pdf2txt/2006-08-17_-_금융통화위원회 의사록(2006년도 제17차).txt\n",
      "./data_files/BOK_minutes/pdf2txt/2006-08-24_-_금융통화위원회 의사록(2006년도 제18차).txt\n",
      "./data_files/BOK_minutes/pdf2txt/2006-09-07_-_금융통화위원회 의사록(2006년도 제19차).txt\n",
      "./data_files/BOK_minutes/pdf2txt/2006-09-21_-_금융통화위원회 의사록(2006년도 제20차).txt\n",
      "./data_files/BOK_minutes/pdf2txt/2006-10-12_-_금융통화위원회 의사록(2006년도 제21차).txt\n",
      "./data_files/BOK_minutes/pdf2txt/2006-10-26_-_금융통화위원회 의사록(2006년도 제22차).txt\n",
      "./data_files/BOK_minutes/pdf2txt/2006-11-09_-_금융통화위원회 의사록(2006년도 제23차).txt\n",
      "./data_files/BOK_minutes/pdf2txt/2006-11-23_-_금융통화위원회 의사록(2006년도 제24차).txt\n",
      "./data_files/BOK_minutes/pdf2txt/2006-12-07_-_금융통화위원회 의사록(2006년도 제25차).txt\n",
      "./data_files/BOK_minutes/pdf2txt/2006-12-21_-_금융통화위원회 의사록(2006년도 제26차).txt\n",
      "./data_files/BOK_minutes/pdf2txt/2007-01-05_-_금융통화위원회 의사록(2007년도 제1차).txt\n",
      "./data_files/BOK_minutes/pdf2txt/2007-01-11_-_금융통화위원회 의사록(2007년도 제2차).txt\n",
      "./data_files/BOK_minutes/pdf2txt/2007-01-25_-_금융통화위원회 의사록(2007년도 제3차).txt\n",
      "./data_files/BOK_minutes/pdf2txt/2007-02-08_-_금융통화위원회 의사록(2007년도 제4차).txt\n",
      "./data_files/BOK_minutes/pdf2txt/2007-03-08_-_금융통화위원회 의사록(2007년도 제7차).txt\n",
      "./data_files/BOK_minutes/pdf2txt/2007-03-22_-_금융통화위원회 의사록(2007년도 제8차).txt\n",
      "./data_files/BOK_minutes/pdf2txt/2007-04-12_-_금융통화위원회 의사록(2007년도 제9차).txt\n",
      "./data_files/BOK_minutes/pdf2txt/2007-05-10_-_금융통화위원회 의사록(2007년도 제11차).txt\n",
      "./data_files/BOK_minutes/pdf2txt/2007-06-08_-_금융통화위원회 의사록(2007년도 제13차).txt\n",
      "./data_files/BOK_minutes/pdf2txt/2007-06-21_-_금융통화위원회 의사록(2007년도 제14차).txt\n",
      "./data_files/BOK_minutes/pdf2txt/2007-07-12_-_금융통화위원회 의사록(2007년도 제15차).txt\n",
      "./data_files/BOK_minutes/pdf2txt/2007-07-26_-_금융통화위원회 의사록(2007년도 제16차).txt\n",
      "./data_files/BOK_minutes/pdf2txt/2007-08-09_-_금융통화위원회 의사록(2007년도 제17차).txt\n",
      "./data_files/BOK_minutes/pdf2txt/2007-09-07_-_금융통화위원회 의사록(2007년도 제19차).txt\n",
      "./data_files/BOK_minutes/pdf2txt/2007-09-20_-_금융통화위원회 의사록(2007년도 제20차).txt\n",
      "./data_files/BOK_minutes/pdf2txt/2007-10-11_-_금융통화위원회 의사록(2007년도 제21차).txt\n",
      "./data_files/BOK_minutes/pdf2txt/2007-11-08_-_금융통화위원회 의사록(2007년도 제23차).txt\n",
      "./data_files/BOK_minutes/pdf2txt/2007-11-22_-_금융통화위원회 의사록(2007년도 제24차).txt\n",
      "./data_files/BOK_minutes/pdf2txt/2007-12-07_-_금융통화위원회 의사록(2007년도 제25차).txt\n",
      "./data_files/BOK_minutes/pdf2txt/2007-12-20_-_금융통화위원회 의사록(2007년도 제26차).txt\n",
      "./data_files/BOK_minutes/pdf2txt/2008-01-04_-_금융통화위원회 의사록(2008년도 제1차).txt\n",
      "./data_files/BOK_minutes/pdf2txt/2008-01-10_-_금융통화위원회 의사록(2008년도 제2차).txt\n",
      "./data_files/BOK_minutes/pdf2txt/2008-01-24_-_금융통화위원회 의사록(2008년도 제3차).txt\n",
      "./data_files/BOK_minutes/pdf2txt/2008-02-13_-_금융통화위원회 의사록(2008년도 제4차).txt\n",
      "./data_files/BOK_minutes/pdf2txt/2008-03-07_-_금융통화위원회 의사록(2008년도 제6차).txt\n",
      "./data_files/BOK_minutes/pdf2txt/2008-03-20_-_금융통화위원회 의사록(2008년도 제7차).txt\n",
      "./data_files/BOK_minutes/pdf2txt/2008-04-10_-_금융통화위원회 의사록(2008년도 제8차).txt\n",
      "./data_files/BOK_minutes/pdf2txt/2008-05-08_-_금융통화위원회 의사록(2008년도 제10차).txt\n",
      "./data_files/BOK_minutes/pdf2txt/2008-05-22_-_금융통화위원회 의사록(2008년도 제11차).txt\n",
      "./data_files/BOK_minutes/pdf2txt/2008-06-12_-_금융통화위원회 의사록(2008년도 제12차).txt\n",
      "./data_files/BOK_minutes/pdf2txt/2008-06-26_-_금융통화위원회 의사록(2008년도 제13차).txt\n",
      "./data_files/BOK_minutes/pdf2txt/2008-07-10_-_금융통화위원회 의사록(2008년도 제14차).txt\n",
      "./data_files/BOK_minutes/pdf2txt/2008-07-24_-_금융통화위원회 의사록(2008년도 제15차).txt\n",
      "./data_files/BOK_minutes/pdf2txt/2008-08-07_-_금융통화위원회 의사록(2008년도 제16차).txt\n",
      "./data_files/BOK_minutes/pdf2txt/2008-09-11_-_금융통화위원회 의사록(2008년도 제18차).txt\n",
      "./data_files/BOK_minutes/pdf2txt/2008-09-25_-_금융통화위원회 의사록(2008년도 제19차).txt\n",
      "./data_files/BOK_minutes/pdf2txt/2008-10-09_-_금융통화위원회 의사록(2008년도 제20차).txt\n",
      "./data_files/BOK_minutes/pdf2txt/2008-10-23_-_금융통화위원회 의사록(2008년도 제21차).txt\n",
      "./data_files/BOK_minutes/pdf2txt/2008-10-27_-_금융통화위원회 의사록(2008년도 제22차).txt\n",
      "./data_files/BOK_minutes/pdf2txt/2008-11-07_-_금융통화위원회 의사록(2008년도 제23차).txt\n",
      "./data_files/BOK_minutes/pdf2txt/2008-12-03_-_금융통화위원회 의사록(2008년도 제25차).txt\n",
      "./data_files/BOK_minutes/pdf2txt/2008-12-11_-_금융통화위원회 의사록(2008년도 제26차).txt\n",
      "./data_files/BOK_minutes/pdf2txt/2008-12-24_-_금융통화위원회 의사록(2008년도 제27차).txt\n",
      "./data_files/BOK_minutes/pdf2txt/2009-01-02_-_금융통화위원회 의사록(2009년도 제1차).txt\n",
      "./data_files/BOK_minutes/pdf2txt/2009-01-09_-_금융통화위원회 의사록(2009년도 제2차).txt\n",
      "./data_files/BOK_minutes/pdf2txt/2009-01-22_-_금융통화위원회 의사록(2009년도 제3차).txt\n",
      "./data_files/BOK_minutes/pdf2txt/2009-02-12_-_금융통화위원회 의사록(2009년도 제4차).txt\n",
      "./data_files/BOK_minutes/pdf2txt/2009-02-25_-_금융통화위원회 의사록(2009년도 제5차).txt\n",
      "./data_files/BOK_minutes/pdf2txt/2009-03-12_-_금융통화위원회 의사록(2009년도 제7차).txt\n",
      "./data_files/BOK_minutes/pdf2txt/2009-03-26_-_금융통화위원회 의사록(2009년도 제8차).txt\n",
      "./data_files/BOK_minutes/pdf2txt/2009-04-09_-_금융통화위원회 의사록(2009년도 제9차).txt\n",
      "./data_files/BOK_minutes/pdf2txt/2009-04-23_-_금융통화위원회 의사록(2009년도 제10차).txt\n",
      "./data_files/BOK_minutes/pdf2txt/2009-04-30_-_금융통화위원회 의사록(2009년도 제11차).txt\n",
      "./data_files/BOK_minutes/pdf2txt/2009-05-12_-_금융통화위원회 의사록(2009년도 제12차).txt\n",
      "./data_files/BOK_minutes/pdf2txt/2009-05-21_-_금융통화위원회 의사록(2009년도 제13차).txt\n",
      "./data_files/BOK_minutes/pdf2txt/2009-06-11_-_금융통화위원회 의사록(2009년도 제14차).txt\n",
      "./data_files/BOK_minutes/pdf2txt/2009-06-25_-_금융통화위원회 의사록(2009년도 제15차).txt\n",
      "./data_files/BOK_minutes/pdf2txt/2009-07-09_-_금융통화위원회 의사록(2009년도 제16차).txt\n",
      "./data_files/BOK_minutes/pdf2txt/2009-07-23_-_금융통화위원회 의사록(2009년도 제17차).txt\n",
      "./data_files/BOK_minutes/pdf2txt/2009-08-11_-_금융통화위원회 의사록(2009년도 제18차).txt\n",
      "./data_files/BOK_minutes/pdf2txt/2009-09-10_-_금융통화위원회 의사록(2009년도 제20차).txt\n",
      "./data_files/BOK_minutes/pdf2txt/2009-09-24_-_금융통화위원회 의사록(2009년도 제21차).txt\n",
      "./data_files/BOK_minutes/pdf2txt/2009-10-09_-_금융통화위원회 의사록(2009년도 제22차).txt\n",
      "./data_files/BOK_minutes/pdf2txt/2009-11-12_-_금융통화위원회 의사록(2009년도 제24차).txt\n",
      "./data_files/BOK_minutes/pdf2txt/2009-11-26_-_금융통화위원회 의사록(2009년도 제25차).txt\n",
      "./data_files/BOK_minutes/pdf2txt/2009-12-10_-_금융통화위원회 의사록(2009년도 제26차).txt\n",
      "./data_files/BOK_minutes/pdf2txt/2009-12-24_-_금융통화위원회 의사록(2009년도 제27차).txt\n",
      "./data_files/BOK_minutes/pdf2txt/2010-01-07_-_금융통화위원회 의사록(2010년도 제1차).txt\n",
      "./data_files/BOK_minutes/pdf2txt/2010-01-08_-_금융통화위원회 의사록(2010년도 제2차).txt\n",
      "./data_files/BOK_minutes/pdf2txt/2010-01-21_-_금융통화위원회 의사록(2010년도 제3차).txt\n",
      "./data_files/BOK_minutes/pdf2txt/2010-02-11_-_금융통화위원회 의사록(2010년도 제4차).txt\n",
      "./data_files/BOK_minutes/pdf2txt/2010-03-11_-_금융통화위원회 의사록(2010년도 제6차).txt\n",
      "./data_files/BOK_minutes/pdf2txt/2010-03-25_-_금융통화위원회 의사록(2010년도 제7차).txt\n",
      "./data_files/BOK_minutes/pdf2txt/2010-04-09_-_금융통화위원회 의사록(2010년도 제8차).txt\n",
      "./data_files/BOK_minutes/pdf2txt/2010-04-22_-_금융통화위원회 의사록(2010년도 제9차).txt\n",
      "./data_files/BOK_minutes/pdf2txt/2010-05-12_-_금융통화위원회 의사록(2010년도 제10차).txt\n",
      "./data_files/BOK_minutes/pdf2txt/2010-06-10_-_금융통화위원회 의사록(2010년도 제12차).txt\n",
      "./data_files/BOK_minutes/pdf2txt/2010-06-24_-_금융통화위원회 의사록(2010년도 제13차).txt\n",
      "./data_files/BOK_minutes/pdf2txt/2010-07-09_-_금융통화위원회 의사록(2010년도 제14차).txt\n",
      "./data_files/BOK_minutes/pdf2txt/2010-07-29_-_금융통화위원회 의사록(2010년도 제15차).txt\n",
      "./data_files/BOK_minutes/pdf2txt/2010-08-12_-_금융통화위원회 의사록(2010년도 제16차).txt\n",
      "./data_files/BOK_minutes/pdf2txt/2010-08-31_-_금융통화위원회 의사록(2010년도 제17차).txt\n",
      "./data_files/BOK_minutes/pdf2txt/2010-09-09_-_금융통화위원회 의사록(2010년도 제18차).txt\n",
      "./data_files/BOK_minutes/pdf2txt/2010-09-24_-_금융통화위원회 의사록(2010년도 제19차).txt\n",
      "./data_files/BOK_minutes/pdf2txt/2010-10-14_-_금융통화위원회 의사록(2010년도 제20차).txt\n",
      "./data_files/BOK_minutes/pdf2txt/2010-11-16_-_금융통화위원회 의사록(2010년도 제22차).txt\n",
      "./data_files/BOK_minutes/pdf2txt/2010-12-09_-_금융통화위원회 의사록(2010년도 제24차).txt\n",
      "./data_files/BOK_minutes/pdf2txt/2010-12-23_-_금융통화위원회 의사록(2010년도 제25차).txt\n",
      "./data_files/BOK_minutes/pdf2txt/2011-01-06_-_금융통화위원회 의사록(2011년도 제1차).txt\n",
      "./data_files/BOK_minutes/pdf2txt/2011-01-13_-_금융통화위원회 의사록(2011년도 제2차).txt\n",
      "./data_files/BOK_minutes/pdf2txt/2011-01-20_-_금융통화위원회 의사록(2011년도 제3차).txt\n",
      "./data_files/BOK_minutes/pdf2txt/2011-02-11_-_금융통화위원회 의사록(2011년도 제5차).txt\n",
      "./data_files/BOK_minutes/pdf2txt/2011-02-24_-_금융통화위원회 의사록(2011년도 제6차).txt\n",
      "./data_files/BOK_minutes/pdf2txt/2011-03-10_-_금융통화위원회 의사록(2011년도 제7차).txt\n",
      "./data_files/BOK_minutes/pdf2txt/2011-03-24_-_금융통화위원회 의사록(2011년도 제8차).txt\n",
      "./data_files/BOK_minutes/pdf2txt/2011-04-12_-_금융통화위원회 의사록(2011년도 제9차).txt\n",
      "./data_files/BOK_minutes/pdf2txt/2011-05-13_-_금융통화위원회 의사록(2011년도 제13차).txt\n",
      "./data_files/BOK_minutes/pdf2txt/2011-06-10_-_금융통화위원회 의사록(2011년도 제15차).txt\n",
      "./data_files/BOK_minutes/pdf2txt/2011-06-23_-_금융통화위원회 의사록(2011년도 제16차).txt\n",
      "./data_files/BOK_minutes/pdf2txt/2011-07-14_-_금융통화위원회 의사록(2011년도 제17차).txt\n",
      "./data_files/BOK_minutes/pdf2txt/2011-07-21_-_금융통화위원회 의사록(2011년도 제18차).txt\n",
      "./data_files/BOK_minutes/pdf2txt/2011-08-11_-_금융통화위원회 의사록(2011년도 제19차).txt\n",
      "./data_files/BOK_minutes/pdf2txt/2011-09-08_-_금융통화위원회 의사록(2011년도 제21차).txt\n",
      "./data_files/BOK_minutes/pdf2txt/2011-09-22_-_금융통화위원회 의사록(2011년도 제22차).txt\n",
      "./data_files/BOK_minutes/pdf2txt/2011-10-13_-_금융통화위원회 의사록(2011년도 제23차).txt\n",
      "./data_files/BOK_minutes/pdf2txt/2011-11-11_-_금융통화위원회 의사록(2011년도 제25차).txt\n",
      "./data_files/BOK_minutes/pdf2txt/2011-11-24_-_금융통화위원회 의사록(2011년도 제26차).txt\n",
      "./data_files/BOK_minutes/pdf2txt/2011-12-08_-_금융통화위원회 의사록(2011년도 제27차).txt\n",
      "./data_files/BOK_minutes/pdf2txt/2011-12-16_-_금융통화위원회 의사록(2011년도 제28차).txt\n",
      "./data_files/BOK_minutes/pdf2txt/2011-12-22_-_금융통화위원회 의사록(2011년도 제29차).txt\n",
      "./data_files/BOK_minutes/pdf2txt/2011-12-29_-_금융통화위원회 의사록(2011년도 제30차).txt\n",
      "./data_files/BOK_minutes/pdf2txt/2012-01-13_-_금융통화위원회 의사록(2012년도 제1차).txt\n",
      "./data_files/BOK_minutes/pdf2txt/2012-01-26_-_금융통화위원회 의사록(2012년도 제2차).txt\n",
      "./data_files/BOK_minutes/pdf2txt/2012-02-09_-_금융통화위원회 의사록(2012년도 제3차).txt\n",
      "./data_files/BOK_minutes/pdf2txt/2012-03-08_-_금융통화위원회 의사록(2012년도 제5차).txt\n",
      "./data_files/BOK_minutes/pdf2txt/2012-03-22_-_금융통화위원회 의사록(2012년도 제6차).txt\n",
      "./data_files/BOK_minutes/pdf2txt/2012-04-13_-_금융통화위원회 의사록(2012년도 제7차).txt\n",
      "./data_files/BOK_minutes/pdf2txt/2012-05-10_-_금융통화위원회 의사록(2012년도 제9차).txt\n",
      "./data_files/BOK_minutes/pdf2txt/2012-06-08_-_금융통화위원회 의사록(2012년도 제11차).txt\n",
      "./data_files/BOK_minutes/pdf2txt/2012-06-21_-_금융통화위원회 의사록(2012년도 제12차).txt\n",
      "./data_files/BOK_minutes/pdf2txt/2012-07-12_-_금융통화위원회 의사록(2012년도 제13차).txt\n",
      "./data_files/BOK_minutes/pdf2txt/2012-07-26_-_금융통화위원회 의사록(2012년도 제14차).txt\n",
      "./data_files/BOK_minutes/pdf2txt/2012-08-09_-_금융통화위원회 의사록(2012년도 제15차).txt\n",
      "./data_files/BOK_minutes/pdf2txt/2012-09-13_-_금융통화위원회 의사록(2012년도 제17차).txt\n",
      "./data_files/BOK_minutes/pdf2txt/2012-09-27_-_금융통화위원회 의사록(2012년도 제18차).txt\n",
      "./data_files/BOK_minutes/pdf2txt/2012-10-11_-_금융통화위원회 의사록(2012년도 제19차).txt\n",
      "./data_files/BOK_minutes/pdf2txt/2012-10-25_-_금융통화위원회 의사록(2012년도 제20차).txt\n",
      "./data_files/BOK_minutes/pdf2txt/2012-11-09_-_금융통화위원회 의사록(2012년도 제21차).txt\n",
      "./data_files/BOK_minutes/pdf2txt/2012-12-13_-_금융통화위원회 의사록(2012년도 제23차).txt\n",
      "./data_files/BOK_minutes/pdf2txt/2012-12-27_-_금융통화위원회 의사록(2012년도 제25차).txt\n",
      "./data_files/BOK_minutes/pdf2txt/2013-01-11_-_금융통화위원회 의사록(2013년도 제1차).txt\n",
      "./data_files/BOK_minutes/pdf2txt/2013-02-14_-_금융통화위원회 의사록(2013년도 제3차).txt\n",
      "./data_files/BOK_minutes/pdf2txt/2013-02-28_-_금융통화위원회 의사록(2013년도 제4차).txt\n",
      "./data_files/BOK_minutes/pdf2txt/2013-03-14_-_금융통화위원회 의사록(2013년도 제5차).txt\n",
      "./data_files/BOK_minutes/pdf2txt/2013-03-28_-_금융통화위원회 의사록(2013년도 제6차).txt\n",
      "./data_files/BOK_minutes/pdf2txt/2013-04-11_-_금융통화위원회 의사록(2013년도 제7차).txt\n",
      "./data_files/BOK_minutes/pdf2txt/2013-04-25_-_금융통화위원회 의사록(2013년도 제8차).txt\n",
      "./data_files/BOK_minutes/pdf2txt/2013-05-09_-_금융통화위원회 의사록(2013년도 제9차).txt\n",
      "./data_files/BOK_minutes/pdf2txt/2013-06-13_-_금융통화위원회 의사록(2013년도 제11차).txt\n",
      "./data_files/BOK_minutes/pdf2txt/2013-06-27_-_금융통화위원회 의사록(2013년도 제12차).txt\n",
      "./data_files/BOK_minutes/pdf2txt/2013-07-11_-_금융통화위원회 의사록(2013년도 제13차).txt\n",
      "./data_files/BOK_minutes/pdf2txt/2013-07-25_-_금융통화위원회 의사록(2013년도 제14차).txt\n",
      "./data_files/BOK_minutes/pdf2txt/2013-08-08_-_금융통화위원회 의사록(2013년도 제15차).txt\n",
      "./data_files/BOK_minutes/pdf2txt/2013-09-12_-_금융통화위원회 의사록(2013년도 제17차).txt\n",
      "./data_files/BOK_minutes/pdf2txt/2013-09-26_-_금융통화위원회 의사록(2013년도 제18차).txt\n",
      "./data_files/BOK_minutes/pdf2txt/2013-10-10_-_금융통화위원회 의사록(2013년도 제19차).txt\n",
      "./data_files/BOK_minutes/pdf2txt/2013-10-24_-_금융통화위원회 의사록(2013년도 제20차).txt\n",
      "./data_files/BOK_minutes/pdf2txt/2013-11-14_-_금융통화위원회 의사록(2013년도 제21차).txt\n",
      "./data_files/BOK_minutes/pdf2txt/2013-12-12_-_금융통화위원회 의사록(2013년도 제23차).txt\n",
      "./data_files/BOK_minutes/pdf2txt/2013-12-26_-_금융통화위원회 의사록(2013년도 제24차).txt\n",
      "./data_files/BOK_minutes/pdf2txt/2014-01-09_-_금융통화위원회 의사록(2014년도 제1차).txt\n",
      "./data_files/BOK_minutes/pdf2txt/2014-02-13_-_금융통화위원회 의사록(2014년도 제3차).txt\n",
      "./data_files/BOK_minutes/pdf2txt/2014-03-13_-_금융통화위원회 의사록(2014년도 제5차).txt\n",
      "./data_files/BOK_minutes/pdf2txt/2014-03-27_-_금융통화위원회 의사록(2014년도 제6차).txt\n",
      "./data_files/BOK_minutes/pdf2txt/2014-04-10_-_금융통화위원회 의사록(2014년도 제7차).txt\n",
      "./data_files/BOK_minutes/pdf2txt/2014-04-24_-_금융통화위원회 의사록(2014년도 제8차).txt\n",
      "./data_files/BOK_minutes/pdf2txt/2014-05-09_-_금융통화위원회 의사록(2014년도 제9차).txt\n",
      "./data_files/BOK_minutes/pdf2txt/2014-06-12_-_금융통화위원회 의사록(2014년도 제11차).txt\n",
      "./data_files/BOK_minutes/pdf2txt/2014-07-10_-_금융통화위원회 의사록(2014년도 제13차).txt\n",
      "./data_files/BOK_minutes/pdf2txt/2014-07-24_-_금융통화위원회 의사록(2014년도 제14차).txt\n",
      "./data_files/BOK_minutes/pdf2txt/2014-08-14_-_금융통화위원회 의사록(2014년도 제15차).txt\n",
      "./data_files/BOK_minutes/pdf2txt/2014-09-12_-_금융통화위원회 의사록(2014년도 제17차).txt\n",
      "./data_files/BOK_minutes/pdf2txt/2014-09-25_-_금융통화위원회 의사록(2014년도 제18차).txt\n",
      "./data_files/BOK_minutes/pdf2txt/2014-10-15_-_금융통화위원회 의사록(2014년도 제19차).txt\n",
      "./data_files/BOK_minutes/pdf2txt/2014-10-23_-_금융통화위원회 의사록(2014년도 제20차).txt\n",
      "./data_files/BOK_minutes/pdf2txt/2014-11-13_-_금융통화위원회 의사록(2014년도 제21차).txt\n",
      "./data_files/BOK_minutes/pdf2txt/2014-12-11_-_금융통화위원회 의사록(2014년도 제23차).txt\n",
      "./data_files/BOK_minutes/pdf2txt/2014-12-24_-_금융통화위원회 의사록(2014년도 제24차).txt\n",
      "./data_files/BOK_minutes/pdf2txt/2015-01-15_-_금융통화위원회 의사록(2015년도 제1차).txt\n",
      "./data_files/BOK_minutes/pdf2txt/2015-01-29_-_금융통화위원회 의사록(2015년도 제2차).txt\n",
      "./data_files/BOK_minutes/pdf2txt/2015-02-17_-_금융통화위원회 의사록(2015년도 제3차).txt\n",
      "./data_files/BOK_minutes/pdf2txt/2015-03-12_-_금융통화위원회 의사록(2015년도 제5차).txt\n",
      "./data_files/BOK_minutes/pdf2txt/2015-03-26_-_금융통화위원회 의사록(2015년도 제6차).txt\n",
      "./data_files/BOK_minutes/pdf2txt/2015-04-09_-_금융통화위원회 의사록(2015년도 제7차).txt\n",
      "./data_files/BOK_minutes/pdf2txt/2015-04-23_-_금융통화위원회 의사록(2015년도 제8차).txt\n",
      "./data_files/BOK_minutes/pdf2txt/2015-05-15_-_금융통화위원회 의사록(2015년도 제9차).txt\n",
      "./data_files/BOK_minutes/pdf2txt/2015-06-11_-_금융통화위원회 의사록(2015년도 제11차).txt\n",
      "./data_files/BOK_minutes/pdf2txt/2015-06-25_-_금융통화위원회 의사록(2015년도 제12차).txt\n",
      "./data_files/BOK_minutes/pdf2txt/2015-07-09_-_금융통화위원회 의사록(2015년도 제13차).txt\n",
      "./data_files/BOK_minutes/pdf2txt/2015-07-23_-_금융통화위원회 의사록(2015년도 제14차).txt\n",
      "./data_files/BOK_minutes/pdf2txt/2015-08-13_-_금융통화위원회 의사록(2015년도 제15차).txt\n",
      "./data_files/BOK_minutes/pdf2txt/2015-08-27_-_금융통화위원회 의사록(2015년도 제16차).txt\n",
      "./data_files/BOK_minutes/pdf2txt/2015-09-11_-_금융통화위원회 의사록(2015년도 제17차).txt\n",
      "./data_files/BOK_minutes/pdf2txt/2015-09-24_-_금융통화위원회 의사록(2015년도 제18차).txt\n",
      "./data_files/BOK_minutes/pdf2txt/2015-10-15_-_금융통화위원회 의사록(2015년도 제19차).txt\n",
      "./data_files/BOK_minutes/pdf2txt/2015-10-29_-_금융통화위원회 의사록(2015년도 제20차).txt\n",
      "./data_files/BOK_minutes/pdf2txt/2015-11-12_-_금융통화위원회 의사록(2015년도 제21차).txt\n",
      "./data_files/BOK_minutes/pdf2txt/2015-11-26_-_금융통화위원회 의사록(2015년도 제22차).txt\n",
      "./data_files/BOK_minutes/pdf2txt/2015-12-10_-_금융통화위원회 의사록(2015년도 제23차).txt\n",
      "./data_files/BOK_minutes/pdf2txt/2015-12-16_-_금융통화위원회 의사록(2015년도 제24차).txt\n",
      "./data_files/BOK_minutes/pdf2txt/2015-12-24_-_금융통화위원회 의사록(2015년도 제25차).txt\n",
      "./data_files/BOK_minutes/pdf2txt/2016-01-14_-_금융통화위원회 의사록(2016년도 제1차).txt\n",
      "./data_files/BOK_minutes/pdf2txt/2016-01-28_-_금융통화위원회 의사록(2016년도 제2차).txt\n",
      "./data_files/BOK_minutes/pdf2txt/2016-02-16_-_금융통화위원회 의사록(2016년도 제3차).txt\n",
      "./data_files/BOK_minutes/pdf2txt/2016-02-25_-_금융통화위원회 의사록(2016년도 제4차).txt\n",
      "./data_files/BOK_minutes/pdf2txt/2016-03-10_-_금융통화위원회 의사록(2016년도 제5차).txt\n",
      "./data_files/BOK_minutes/pdf2txt/2016-03-24_-_금융통화위원회 의사록(2016년도 제6차).txt\n",
      "./data_files/BOK_minutes/pdf2txt/2016-04-19_-_금융통화위원회 의사록(2016년도 제7차).txt\n",
      "./data_files/BOK_minutes/pdf2txt/2016-05-13_-_금융통화위원회 의사록(2016년도 제9차).txt\n",
      "./data_files/BOK_minutes/pdf2txt/2016-06-09_-_금융통화위원회 의사록(2016년도 제11차).txt\n",
      "./data_files/BOK_minutes/pdf2txt/2016-06-23_-_금융통화위원회 의사록(2016년도 제12차).txt\n",
      "./data_files/BOK_minutes/pdf2txt/2016-07-01_-_금융통화위원회 의사록(2016년도 제13차).txt\n",
      "./data_files/BOK_minutes/pdf2txt/2016-07-14_-_금융통화위원회 의사록(2016년도 제14차).txt\n",
      "./data_files/BOK_minutes/pdf2txt/2016-08-11_-_금융통화위원회 의사록(2016년도 제16차).txt\n",
      "./data_files/BOK_minutes/pdf2txt/2016-09-09_-_금융통화위원회 의사록(2016년도 제18차).txt\n",
      "./data_files/BOK_minutes/pdf2txt/2016-09-22_-_금융통화위원회 의사록(2016년도 제19차).txt\n",
      "./data_files/BOK_minutes/pdf2txt/2016-10-13_-_금융통화위원회 의사록(2016년도 제20차).txt\n",
      "./data_files/BOK_minutes/pdf2txt/2016-10-27_-_금융통화위원회 의사록(2016년도 제21차).txt\n",
      "./data_files/BOK_minutes/pdf2txt/2016-11-11_-_금융통화위원회 의사록(2016년도 제22차).txt\n",
      "./data_files/BOK_minutes/pdf2txt/2016-11-24_-_금융통화위원회 의사록(2016년도 제23차).txt\n",
      "./data_files/BOK_minutes/pdf2txt/2016-12-15_-_금융통화위원회 의사록(2016년도 제24차).txt\n",
      "./data_files/BOK_minutes/pdf2txt/2016-12-21_-_금융통화위원회 의사록(2016년도 제25차).txt\n",
      "./data_files/BOK_minutes/pdf2txt/2016-12-29_-_금융통화위원회 의사록(2016년도 제26차).txt\n",
      "./data_files/BOK_minutes/pdf2txt/2017-01-13_-_금융통화위원회 의사록(2017년도 제1차).txt\n",
      "./data_files/BOK_minutes/pdf2txt/2017-01-26_-_금융통화위원회 의사록(2017년도 제2차).txt\n",
      "./data_files/BOK_minutes/pdf2txt/2017-02-23_-_금융통화위원회 의사록(2017년도 제4차).txt\n",
      "./data_files/BOK_minutes/pdf2txt/2017-03-23_-_금융통화위원회 의사록(2017년도 제6차).txt\n",
      "./data_files/BOK_minutes/pdf2txt/2017-04-13_-_금융통화위원회 의사록(2017년도 제7차).txt\n",
      "./data_files/BOK_minutes/pdf2txt/2017-04-27_-_금융통화위원회 의사록(2017년도 제8차).txt\n",
      "./data_files/BOK_minutes/pdf2txt/2017-05-25_-_금융통화위원회 의사록(2017년도 제10차).txt\n",
      "./data_files/BOK_minutes/pdf2txt/2017-06-22_-_금융통화위원회 의사록(2017년도 제12차).txt\n",
      "./data_files/BOK_minutes/pdf2txt/2017-07-13_-_금융통화위원회 의사록(2017년도 제13차).txt\n",
      "./data_files/BOK_minutes/pdf2txt/2017-08-10_-_금융통화위원회 의사록(2017년도 제15차).txt\n",
      "./data_files/BOK_minutes/pdf2txt/2017-08-31_-_금융통화위원회 의사록(2017년도 제16차).txt\n",
      "./data_files/BOK_minutes/pdf2txt/2017-09-21_-_금융통화위원회 의사록(2017년도 제18차).txt\n",
      "./data_files/BOK_minutes/pdf2txt/2017-10-19_-_금융통화위원회 의사록(2017년도 제19차).txt\n",
      "./data_files/BOK_minutes/pdf2txt/2017-11-09_-_금융통화위원회 의사록(2017년도 제21차).txt\n",
      "./data_files/BOK_minutes/pdf2txt/2017-11-30_-_금융통화위원회 의사록(2017년도 제22차).txt\n",
      "./data_files/BOK_minutes/pdf2txt/2017-12-07_-_금융통화위원회 의사록(2017년도 제23차).txt\n",
      "./data_files/BOK_minutes/pdf2txt/2017-12-14_-_금융통화위원회 의사록(2017년도 제24차).txt\n",
      "./data_files/BOK_minutes/pdf2txt/2017-12-28_-_금융통화위원회 의사록(2017년도 제25차).txt\n",
      "./data_files/BOK_minutes/pdf2txt/2018-01-18_-_금융통화위원회 의사록(2018년도 제1차).txt\n",
      "./data_files/BOK_minutes/pdf2txt/2018-02-08_-_금융통화위원회 의사록(2018년도 제3차).txt\n",
      "./data_files/BOK_minutes/pdf2txt/2018-02-27_-_금융통화위원회 의사록(2018년도 제4차).txt\n",
      "./data_files/BOK_minutes/pdf2txt/2018-03-08_-_금융통화위원회 의사록(2018년도 제5차).txt\n",
      "./data_files/BOK_minutes/pdf2txt/2018-03-29_-_금융통화위원회 의사록(2018년도 제6차).txt\n",
      "./data_files/BOK_minutes/pdf2txt/2018-04-12_-_금융통화위원회 의사록(2018년도 제7차).txt\n",
      "./data_files/BOK_minutes/pdf2txt/2018-04-26_-_금융통화위원회 의사록(2018년도 제8차).txt\n",
      "./data_files/BOK_minutes/pdf2txt/2018-05-24_-_금융통화위원회 의사록(2018년도 제10차).txt\n",
      "./data_files/BOK_minutes/pdf2txt/2018-06-20_-_금융통화위원회 의사록(2018년도 제12차).txt\n",
      "./data_files/BOK_minutes/pdf2txt/2018-07-12_-_금융통화위원회 의사록(2018년도 제13차).txt\n",
      "./data_files/BOK_minutes/pdf2txt/2018-07-26_-_금융통화위원회 의사록(2018년도 제14차).txt\n",
      "./data_files/BOK_minutes/pdf2txt/2018-08-31_-_금융통화위원회 의사록(2018년도 제16차).txt\n",
      "./data_files/BOK_minutes/pdf2txt/2018-09-20_-_금융통화위원회 의사록(2018년도 제18차).txt\n",
      "./data_files/BOK_minutes/pdf2txt/2018-10-18_-_금융통화위원회 의사록(2018년도 제19차).txt\n",
      "./data_files/BOK_minutes/pdf2txt/2018-11-08_-_금융통화위원회 의사록(2018년도 제21차).txt\n",
      "./data_files/BOK_minutes/pdf2txt/2018-11-30_-_금융통화위원회 의사록(2018년도 제22차).txt\n",
      "./data_files/BOK_minutes/pdf2txt/2018-12-06_-_금융통화위원회 의사록(2018년도 제23차).txt\n",
      "./data_files/BOK_minutes/pdf2txt/2018-12-20_-_금융통화위원회 의사록(2018년도 제24차).txt\n",
      "./data_files/BOK_minutes/pdf2txt/2018-12-26_-_금융통화위원회 의사록(2018년도 제25차).txt\n",
      "./data_files/BOK_minutes/pdf2txt/2019-01-17_-_금융통화위원회 의사록(2019년도 제1차).txt\n",
      "./data_files/BOK_minutes/pdf2txt/2019-01-24_-_금융통화위원회 의사록(2019년도 제2차).txt\n",
      "./data_files/BOK_minutes/pdf2txt/2019-02-14_-_금융통화위원회 의사록(2019년도 제3차).txt\n",
      "./data_files/BOK_minutes/pdf2txt/2019-02-28_-_금융통화위원회 의사록(2019년도 제4차).txt\n",
      "./data_files/BOK_minutes/pdf2txt/2019-03-28_-_금융통화위원회 의사록(2019년도 제6차).txt\n",
      "./data_files/BOK_minutes/pdf2txt/2019-04-18_-_금융통화위원회 의사록(2019년도 제7차).txt\n",
      "./data_files/BOK_minutes/pdf2txt/2019-05-09_-_금융통화위원회 의사록(2019년도 제9차).txt\n",
      "./data_files/BOK_minutes/pdf2txt/2019-05-31_-_금융통화위원회 의사록(2019년도 제10차).txt\n",
      "./data_files/BOK_minutes/pdf2txt/2019-06-20_-_금융통화위원회 의사록(2019년도 제12차).txt\n",
      "./data_files/BOK_minutes/pdf2txt/2019-07-18_-_금융통화위원회 의사록(2019년도 제13차).txt\n",
      "./data_files/BOK_minutes/pdf2txt/2019-08-08_-_금융통화위원회 의사록(2019년도 제15차).txt\n",
      "./data_files/BOK_minutes/pdf2txt/2019-08-30_-_금융통화위원회 의사록(2019년도 제16차).txt\n",
      "./data_files/BOK_minutes/pdf2txt/2019-09-26_-_금융통화위원회 의사록(2019년도 제18차).txt\n",
      "./data_files/BOK_minutes/pdf2txt/2019-10-16_-_금융통화위원회 의사록(2019년도 제19차).txt\n",
      "./data_files/BOK_minutes/pdf2txt/2019-11-29_-_금융통화위원회 의사록(2019년도 제22차).txt\n",
      "./data_files/BOK_minutes/pdf2txt/2019-12-12_-_금융통화위원회 의사록(2019년도 제23차).txt\n",
      "./data_files/BOK_minutes/pdf2txt/2019-12-26_-_금융통화위원회 의사록(2019년도 제24차).txt\n",
      "./data_files/BOK_minutes/pdf2txt/2020-01-17_-_금융통화위원회 의사록(2020년도 제1차).txt\n"
     ]
    }
   ],
   "source": [
    "pdf2txt()"
   ]
  },
  {
   "cell_type": "code",
   "execution_count": null,
   "metadata": {},
   "outputs": [],
   "source": []
  }
 ],
 "metadata": {
  "kernelspec": {
   "display_name": "Python 3",
   "language": "python",
   "name": "python3"
  },
  "language_info": {
   "codemirror_mode": {
    "name": "ipython",
    "version": 3
   },
   "file_extension": ".py",
   "mimetype": "text/x-python",
   "name": "python",
   "nbconvert_exporter": "python",
   "pygments_lexer": "ipython3",
   "version": "3.7.6"
  }
 },
 "nbformat": 4,
 "nbformat_minor": 4
}

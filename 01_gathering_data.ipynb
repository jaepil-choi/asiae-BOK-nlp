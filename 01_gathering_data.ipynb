{
 "cells": [
  {
   "cell_type": "markdown",
   "metadata": {},
   "source": [
    "# Gathering data\n",
    "\n",
    "1. 한국은행 금융통화위원회 의사록\n",
    "2. '금리'를 포함한 연합인포맥스, 연합뉴스, 이데일리\n",
    "3. 네이버 금융 각 증권사의 채권분석리포트 \n",
    "4. 일별 콜금리\n",
    "5. 한국은행 기준금리"
   ]
  },
  {
   "cell_type": "code",
   "execution_count": 169,
   "metadata": {},
   "outputs": [],
   "source": [
    "# -*- coding: utf-8 -*-\n",
    "\n",
    "from bs4 import BeautifulSoup as bs\n",
    "from urllib.request import Request\n",
    "from urllib.request import urlopen\n",
    "from urllib.request import urlretrieve\n",
    "\n",
    "import olefile\n",
    "import re\n",
    "import datetime"
   ]
  },
  {
   "cell_type": "markdown",
   "metadata": {},
   "source": [
    "## 1. 한국은행 금융통화위원회 의사록"
   ]
  },
  {
   "cell_type": "code",
   "execution_count": 307,
   "metadata": {},
   "outputs": [],
   "source": [
    "bok_mpb_url = \"https://www.bok.or.kr/portal/bbs/B0000245/list.do?menuNo=200761\""
   ]
  },
  {
   "cell_type": "code",
   "execution_count": 309,
   "metadata": {},
   "outputs": [],
   "source": [
    "def get_date_and_title(page_bs):\n",
    "    result = []\n",
    "    title_bs_list = page_bs.find_all('span', {'class':'titlesub'})\n",
    "    \n",
    "    for item in title_bs_list:\n",
    "        item = item.text\n",
    "        date_regex = re.compile(r'\\d{4}\\.\\d+\\.\\d+')\n",
    "        date = date_regex.search(item).group()\n",
    "        date = datetime.datetime.strptime(date, \"%Y.%m.%d\").date()\n",
    "\n",
    "        title_regex = re.compile(r'.*\\)\\(')\n",
    "        title = title_regex.search(item).group()[:-1]\n",
    "        \n",
    "        date_and_title = {}\n",
    "        date_and_title['date'] = date # 의사록은 하루에 2개 이상 올라오지 않는다고 가정. \n",
    "        date_and_title['title'] = title\n",
    "        \n",
    "        result.append(date_and_title)\n",
    "        \n",
    "    return result"
   ]
  },
  {
   "cell_type": "code",
   "execution_count": 311,
   "metadata": {},
   "outputs": [],
   "source": [
    "def find_download_link_ancestor_from_elem(elem):\n",
    "    file_regex = re.compile(r'fileDown')\n",
    "    if elem.find('a', {'href':file_regex}):\n",
    "        return elem\n",
    "    else:\n",
    "        return find_download_link_ancestor_from_elem(elem.parent)"
   ]
  },
  {
   "cell_type": "code",
   "execution_count": 319,
   "metadata": {},
   "outputs": [],
   "source": [
    "def download_mpb_minute(title_bs, title, date_string):\n",
    "    download_link_ancestor = find_download_link_ancestor_from_elem(title_bs)\n",
    "    \n",
    "    file_regex = re.compile(r'fileDown')\n",
    "    aTag_list = download_link_ancestor.find_all(attrs={'href': file_regex})\n",
    "    href_list = [x.attrs['href'] for x in aTag_list]\n",
    "    \n",
    "    file_type_regex = re.compile(r'hwp|pdf')\n",
    "    file_type_list = download_link_ancestor.find_all(attrs={'title': file_type_regex})\n",
    "    file_type_list = [file_type_regex.search(x.text).group() for x in file_type_list]\n",
    "    \n",
    "    href2file_type = {}\n",
    "    if file_type_list == []:\n",
    "        for href in href_list:\n",
    "            href2file_type[href] = 'hwp'\n",
    "    else:\n",
    "        for idx, href in enumerate(href_list):\n",
    "            href2file_type[href] = file_type_list[idx]\n",
    "    \n",
    "    for href in href_list:\n",
    "        download_link = 'https://www.bok.or.kr' + href\n",
    "        urlretrieve(download_link, './data_files/BOK_minutes/' + href2file_type[href] + '/' + date_string + '_-_' + title + '.' + href2file_type[href])"
   ]
  },
  {
   "cell_type": "code",
   "execution_count": 315,
   "metadata": {},
   "outputs": [],
   "source": [
    "def get_mpb_minutes_files(page):\n",
    "    print(\"Downloading MPB documents on page {}...\".format(page))\n",
    "    \n",
    "    page_url = bok_mpb_url + \"&pageIndex=\" + str(page)\n",
    "    page_req = urlopen(page_url)\n",
    "    page_bs = bs(page_req, 'html.parser')\n",
    "\n",
    "    title_bs_list = page_bs.find_all('span', {'class':'titlesub'}) ##\n",
    "    date_and_titles = get_date_and_title(page_bs)\n",
    "    \n",
    "#     last_date_string = str(date_and_titles[-1]['date'])\n",
    "    for idx, dict_elem in enumerate(date_and_titles):\n",
    "        date = dict_elem['date']\n",
    "        date_string = str(date)\n",
    "        \n",
    "        title = dict_elem['title']\n",
    "        \n",
    "        download_mpb_minute(title_bs_list[idx], title, date_string)\n",
    "    return 1"
   ]
  },
  {
   "cell_type": "code",
   "execution_count": 320,
   "metadata": {},
   "outputs": [
    {
     "name": "stdout",
     "output_type": "stream",
     "text": [
      "Downloading MPB documents on page 1...\n",
      "Downloading MPB documents on page 2...\n",
      "Downloading MPB documents on page 3...\n",
      "Downloading MPB documents on page 4...\n",
      "Downloading MPB documents on page 5...\n",
      "Downloading MPB documents on page 6...\n",
      "Downloading MPB documents on page 7...\n",
      "Downloading MPB documents on page 8...\n",
      "Downloading MPB documents on page 9...\n",
      "Downloading MPB documents on page 10...\n",
      "Downloading MPB documents on page 11...\n",
      "Downloading MPB documents on page 12...\n",
      "Downloading MPB documents on page 13...\n",
      "Downloading MPB documents on page 14...\n",
      "Downloading MPB documents on page 15...\n",
      "Downloading MPB documents on page 16...\n",
      "Downloading MPB documents on page 17...\n",
      "Downloading MPB documents on page 18...\n",
      "Downloading MPB documents on page 19...\n",
      "Downloading MPB documents on page 20...\n",
      "Downloading MPB documents on page 21...\n",
      "Downloading MPB documents on page 22...\n",
      "Downloading MPB documents on page 23...\n",
      "Downloading MPB documents on page 24...\n",
      "Downloading MPB documents on page 25...\n",
      "Downloading MPB documents on page 26...\n",
      "Downloading MPB documents on page 27...\n",
      "Downloading MPB documents on page 28...\n",
      "Downloading MPB documents on page 29...\n",
      "Downloading MPB documents on page 30...\n",
      "Downloading MPB documents on page 31...\n"
     ]
    }
   ],
   "source": [
    "for page in range(1, 32):\n",
    "    get_mpb_minutes_files(page)"
   ]
  }
 ],
 "metadata": {
  "kernelspec": {
   "display_name": "Python 3",
   "language": "python",
   "name": "python3"
  },
  "language_info": {
   "codemirror_mode": {
    "name": "ipython",
    "version": 3
   },
   "file_extension": ".py",
   "mimetype": "text/x-python",
   "name": "python",
   "nbconvert_exporter": "python",
   "pygments_lexer": "ipython3",
   "version": "3.7.6"
  }
 },
 "nbformat": 4,
 "nbformat_minor": 4
}

{
 "cells": [
  {
   "cell_type": "code",
   "execution_count": 45,
   "metadata": {},
   "outputs": [],
   "source": [
    "# -*- coding: utf-8 -*-\n",
    "from ekonlpy.sentiment import MPCK\n",
    "\n",
    "import pandas as pd\n",
    "import multiprocessing as mp\n",
    "import pickle\n",
    "\n",
    "import os, sys\n",
    "import re"
   ]
  },
  {
   "cell_type": "code",
   "execution_count": 2,
   "metadata": {},
   "outputs": [
    {
     "name": "stdout",
     "output_type": "stream",
     "text": [
      "UTF-8\n",
      "cp1252\n"
     ]
    }
   ],
   "source": [
    "print(sys.stdout.encoding)\n",
    "print(sys.stdin.encoding)"
   ]
  },
  {
   "cell_type": "markdown",
   "metadata": {},
   "source": [
    "# Tidy BOK minutes text\n",
    "\n",
    "Code Attribution: 김현진T, Fininsight"
   ]
  },
  {
   "cell_type": "code",
   "execution_count": 3,
   "metadata": {},
   "outputs": [],
   "source": [
    "def tidy_sentences(section):\n",
    "    sentence_enders = re.compile(r'((?<=[함음됨임봄짐움])(\\s*\\n|\\.|;)|(?<=다)\\.)\\s*')\n",
    "    splits = list((m.start(), m.end()) for m in re.finditer(sentence_enders, section))\n",
    "    starts = [0] + [i[1] for i in splits]\n",
    "    ends = [i[0] for i in splits]\n",
    "    sentences = [section[start:end] for start, end in zip(starts[:-1], ends)]\n",
    "    for i, s in enumerate(sentences):\n",
    "        sentences[i] = (s.replace('\\n', ' ').replace(' ', ' ')) + '.'\n",
    "\n",
    "    text = '\\n'.join(sentences) if len(sentences) > 0 else ''\n",
    "    return sentences, text"
   ]
  },
  {
   "cell_type": "code",
   "execution_count": 4,
   "metadata": {},
   "outputs": [],
   "source": [
    "def preprocess_minutes(minutes):\n",
    "\n",
    "    pos = re.search('(.?국내외\\s?경제\\s?동향.?과 관련하여,?|\\(가\\).+경제전망.*|\\(가\\) 국내외 경제동향 및 평가)\\n?\\s*일부 위원은', minutes, re.MULTILINE)\n",
    "    s1 = pos.start() if pos else -1\n",
    "    pos = re.search('(.?외환.?국제금융\\s?동향.?과 관련하여.*|\\(나\\) 외환.국제금융\\s?(및 금융시장)?\\s?동향)\\n?\\s*(일부 위원은|대부분의 위원들은)', minutes,re.MULTILINE)\n",
    "    s2 = pos.start() if pos else -1\n",
    "    pos = re.search('(.?금융시장\\s?동향.?과 관련하여,?|\\(다\\) 금융시장\\s?동향)\\n?\\s*일부 위원은', minutes, re.MULTILINE)\n",
    "    s3 = pos.start() if pos else -1\n",
    "    pos = re.search('((\\((다|라)\\) )?.?통화정책\\s?방향.?에 관한 토론,?|이상과 같은 의견\\s?교환을 바탕으로.*통화정책\\s?방향.*에.*토론.*)\\n?', minutes,re.MULTILINE)\n",
    "    s4 = pos.start() if pos else -1\n",
    "    pos = re.search('(\\(4\\) 정부측 열석자 발언.*)\\n?', minutes, re.MULTILINE)\n",
    "    s5 = pos.start() if pos else -1\n",
    "    pos = re.search('(\\(.*\\) 한국은행 기준금리 결정에 관한 위원별 의견\\s?개진|이상과 같은 토론에 이어 .* 관한 위원별 의견개진이 있었음.*)\\n?', minutes,re.MULTILINE)\n",
    "    s6 = pos.start() if pos else -1\n",
    "    positer = re.finditer('(\\(\\s?.*\\s?\\) ()(심의결과|토의결론))\\n?', minutes, re.MULTILINE)\n",
    "    s7 = [pos.start() for pos in positer if pos.start() > s6]\n",
    "    s7 = s7[0] if s7 else -1\n",
    "\n",
    "    # 국내외 경제동향\n",
    "    bos = s1\n",
    "    eos = s2\n",
    "    section = minutes[bos:eos] if bos >= 0 or eos >= 0 else ''\n",
    "    pos = re.search('(일부|대부분의) 위원들?은', section, re.MULTILINE)\n",
    "    bos = pos.start() if pos else -1\n",
    "    section = section[bos:] if bos >= 0 else section\n",
    "    section1, section1_txt = tidy_sentences(section)\n",
    "\n",
    "    # 외환․국제금융 동향\n",
    "    bos = s2\n",
    "    eos = s3 if s3 >= 0 else s4\n",
    "    section = minutes[bos:eos] if bos >= 0 or eos >= 0 else ''\n",
    "    pos = re.search('(일부|대부분의) 위원들?은', section, re.MULTILINE)\n",
    "    bos = pos.start() if pos else -1\n",
    "    section = section[bos:] if bos >= 0 else section\n",
    "    section2, section2_txt = tidy_sentences(section)\n",
    "    #print(section)\n",
    "\n",
    "    # 금융시장 동향\n",
    "    bos = s3\n",
    "    eos = s4\n",
    "    section = minutes[bos:eos] if bos >= 0 or eos >= 0 else ''\n",
    "    pos = re.search('(일부|대부분의) 위원들?은', section, re.MULTILINE)\n",
    "    bos = pos.start() if pos else -1\n",
    "    section = section[bos:] if bos >= 0 else section\n",
    "    section3, section3_txt = tidy_sentences(section)\n",
    "\n",
    "    # 통화정책방향\n",
    "    bos = s4\n",
    "    eos = s5 if s5 >= 0 else s6 if s6 >= 0 else s7\n",
    "    section = minutes[bos:eos] if bos >= 0 or eos >= 0 else ''\n",
    "    pos = re.search('(일부|대부분의) 위원들?은', section, re.MULTILINE)\n",
    "    bos = pos.start() if pos else -1\n",
    "    section = section[bos:] if bos >= 0 else section\n",
    "    section4, section4_txt = tidy_sentences(section)\n",
    "\n",
    "    # 위원별 의견 개진\n",
    "    bos = s6\n",
    "    eos = s7\n",
    "    section = minutes[bos:eos] if bos >= 0 or eos >= 0 else ''\n",
    "    pos = re.search('(일부|대부분의) 위원들?은', section, re.MULTILINE)\n",
    "    bos = pos.start() if pos else -1\n",
    "    section = section[bos:] if bos >= 0 else section\n",
    "    section5, section5_txt = tidy_sentences(section)\n",
    "\n",
    "    # 정부측 열석자 발언\n",
    "    bos = s5\n",
    "    eos = s6\n",
    "    section = minutes[bos:eos] if bos >= 0 or eos >= 0 else ''\n",
    "    pos = re.search('정부측 열석자 발언', section, re.MULTILINE)\n",
    "    bos = pos.end() + 1 if pos else -1\n",
    "    section = section[bos:] if bos >= 0 else section\n",
    "    section6, section6_txt = tidy_sentences(section)\n",
    "\n",
    "    sections = ['Economic Situation', 'Foreign Currency', 'Financial Markets',\n",
    "                'Monetary Policy', 'Participants’ Views', 'Government’s View']\n",
    "    section_texts = (section1, section2, section3, section4, section5, section6)\n",
    "\n",
    "\n",
    "    return sections, section_texts"
   ]
  },
  {
   "cell_type": "markdown",
   "metadata": {},
   "source": [
    "### Korean stop words from here: \n",
    "https://www.ranks.nl/stopwords/korean"
   ]
  },
  {
   "cell_type": "code",
   "execution_count": 5,
   "metadata": {},
   "outputs": [],
   "source": [
    "def getStopwords(data_path) :\n",
    "    f = open(data_path, 'r',-1,'utf-8')\n",
    "    stop_word = []\n",
    "\n",
    "    while True:\n",
    "        line = f.readline()\n",
    "        stop_word.append(line.strip())\n",
    "        if not line: break\n",
    "\n",
    "    return stop_word "
   ]
  },
  {
   "cell_type": "code",
   "execution_count": 6,
   "metadata": {},
   "outputs": [],
   "source": [
    "data_path = './data_files/stop_wd.txt'"
   ]
  },
  {
   "cell_type": "code",
   "execution_count": 7,
   "metadata": {},
   "outputs": [
    {
     "data": {
      "text/plain": [
       "['아', '휴', '아이구', '아이쿠', '아이고', '어', '나', '우리', '저희', '따라']"
      ]
     },
     "execution_count": 7,
     "metadata": {},
     "output_type": "execute_result"
    }
   ],
   "source": [
    "stop_word = getStopwords(data_path)\n",
    "stop_word[:10]"
   ]
  },
  {
   "cell_type": "code",
   "execution_count": 8,
   "metadata": {},
   "outputs": [],
   "source": [
    "def text2ngram(text) :\n",
    "    mpck = MPCK()\n",
    "    \n",
    "    tokens = mpck.tokenize(text)\n",
    "    tokens = [token for token in tokens if len(token.split('/')[0])>1]\n",
    "    tokens = [token for token in tokens if token.split('/')[0] not in stop_word]\n",
    "    \n",
    "    ngrams = mpck.ngramize(tokens)\n",
    "\n",
    "    return tokens+ngrams"
   ]
  },
  {
   "cell_type": "markdown",
   "metadata": {},
   "source": [
    "## Test code: 어떤 식으로 파싱되는지 확인. "
   ]
  },
  {
   "cell_type": "code",
   "execution_count": 9,
   "metadata": {},
   "outputs": [],
   "source": [
    "source_folder=\"./data_files/BOK_minutes/pdf2txt/\"\n",
    "output_file=\"./data_files/BOK_minutes/pkl/\"\n",
    "\n",
    "txt_files = [f for f in os.listdir(source_folder) if os.path.isfile(os.path.join(source_folder, f))]\n",
    "txt_files = [f for f in txt_files if f[-4:] == '.txt']\n",
    "txt_files.sort()"
   ]
  },
  {
   "cell_type": "code",
   "execution_count": 12,
   "metadata": {},
   "outputs": [],
   "source": [
    "df = pd.DataFrame(columns=['date', 'minutes'])\n",
    "df[\"Economic Situation\"] = \"\"\n",
    "df[\"Foreign Currency\"] = \"\"\n",
    "df[\"Financial Markets\"] = \"\"\n",
    "df[\"Monetary Policy\"] = \"\"\n",
    "df[\"Participant Views\"] = \"\"\n",
    "df[\"Government View\"] = \"\"\n",
    "\n",
    "df[\"Economic Situation count\"] = \"\"\n",
    "df[\"Foreign Currency count\"] = \"\"\n",
    "df[\"Financial Markets count\"] = \"\"\n",
    "df[\"Monetary Policy count\"] = \"\"\n",
    "df[\"Participant Views count\"] = \"\"\n",
    "df[\"Government View count\"] = \"\"\n",
    "df['ngrams'] =\"\""
   ]
  },
  {
   "cell_type": "markdown",
   "metadata": {},
   "source": [
    "### 한 문서의 ngram의 갯수가 매우 많다. 이를 모두 각각 하나의 row로 만들면 df의 길이가 매우 커진다. "
   ]
  },
  {
   "cell_type": "markdown",
   "metadata": {},
   "source": [
    "* 0번째 문서의 모든 ngram을 ,(comma)로 separate한 경우 (원본코드의 방법)"
   ]
  },
  {
   "cell_type": "code",
   "execution_count": 46,
   "metadata": {},
   "outputs": [
    {
     "name": "stdout",
     "output_type": "stream",
     "text": [
      "2005-06-09_-_금융통화위원회 의사록(2005년도 제12차).txt\n",
      "Wall time: 46.4 s\n"
     ]
    }
   ],
   "source": [
    "%%time\n",
    "\n",
    "for txt_file in txt_files[:1]:\n",
    "    with open(source_folder + txt_file, 'r',encoding='utf-8') as f :\n",
    "        txt = f.read()\n",
    "        sections, section_texts = preprocess_minutes(txt)\n",
    "\n",
    "        print(txt_file)\n",
    "\n",
    "        ngrams = []\n",
    "        for section_text in section_texts[1:3] :\n",
    "            for sentence in section_text :\n",
    "                ngrams.append(','.join(text2ngram(sentence)))\n",
    "\n",
    "        #print('@@@'.join(ngrams))\n",
    "        #break\n",
    "\n",
    "    df.loc[len(df)] = [txt_file.split('_-_')[0],\n",
    "                       txt,\n",
    "                       '@@@'.join(section_texts[0]),\n",
    "                       '@@@'.join(section_texts[1]),\n",
    "                       '@@@'.join(section_texts[2]),\n",
    "                       '@@@'.join(section_texts[3]),\n",
    "                       '@@@'.join(section_texts[4]),\n",
    "                       '@@@'.join(section_texts[5]),\n",
    "                       len(section_texts[0]),\n",
    "                       len(section_texts[1]),\n",
    "                       len(section_texts[2]),\n",
    "                       len(section_texts[3]),\n",
    "                       len(section_texts[4]),\n",
    "                       len(section_texts[5]),\n",
    "                       '@@@'.join(ngrams)]"
   ]
  },
  {
   "cell_type": "code",
   "execution_count": 47,
   "metadata": {},
   "outputs": [
    {
     "data": {
      "text/plain": [
       "Index                           43248\n",
       "date                           362202\n",
       "minutes                     230598336\n",
       "Economic Situation           44804928\n",
       "Foreign Currency             12055380\n",
       "Financial Markets           166666980\n",
       "Monetary Policy                318954\n",
       "Participant Views              318954\n",
       "Government View                318954\n",
       "Economic Situation count       194616\n",
       "Foreign Currency count         194616\n",
       "Financial Markets count        194616\n",
       "Monetary Policy count          172992\n",
       "Participant Views count        172992\n",
       "Government View count          172992\n",
       "ngrams                         942580\n",
       "dtype: int64"
      ]
     },
     "execution_count": 47,
     "metadata": {},
     "output_type": "execute_result"
    }
   ],
   "source": [
    "df.memory_usage(index=True, deep=True)"
   ]
  },
  {
   "cell_type": "code",
   "execution_count": 48,
   "metadata": {},
   "outputs": [
    {
     "data": {
      "text/plain": [
       "1348030"
      ]
     },
     "execution_count": 48,
     "metadata": {},
     "output_type": "execute_result"
    }
   ],
   "source": [
    "df[['date', 'ngrams']].memory_usage(index=True, deep=True).sum()"
   ]
  },
  {
   "cell_type": "code",
   "execution_count": 49,
   "metadata": {},
   "outputs": [
    {
     "data": {
      "text/html": [
       "<div>\n",
       "<style scoped>\n",
       "    .dataframe tbody tr th:only-of-type {\n",
       "        vertical-align: middle;\n",
       "    }\n",
       "\n",
       "    .dataframe tbody tr th {\n",
       "        vertical-align: top;\n",
       "    }\n",
       "\n",
       "    .dataframe thead th {\n",
       "        text-align: right;\n",
       "    }\n",
       "</style>\n",
       "<table border=\"1\" class=\"dataframe\">\n",
       "  <thead>\n",
       "    <tr style=\"text-align: right;\">\n",
       "      <th></th>\n",
       "      <th>date</th>\n",
       "      <th>minutes</th>\n",
       "      <th>Economic Situation</th>\n",
       "      <th>Foreign Currency</th>\n",
       "      <th>Financial Markets</th>\n",
       "      <th>Monetary Policy</th>\n",
       "      <th>Participant Views</th>\n",
       "      <th>Government View</th>\n",
       "      <th>Economic Situation count</th>\n",
       "      <th>Foreign Currency count</th>\n",
       "      <th>Financial Markets count</th>\n",
       "      <th>Monetary Policy count</th>\n",
       "      <th>Participant Views count</th>\n",
       "      <th>Government View count</th>\n",
       "      <th>ngrams</th>\n",
       "    </tr>\n",
       "  </thead>\n",
       "  <tbody>\n",
       "    <tr>\n",
       "      <th>0</th>\n",
       "      <td>2005-06-09</td>\n",
       "      <td>\\n\\n\\n\\n\\n\\n\\n\\n\\n\\n\\n\\n\\n\\n\\n\\n\\n\\n\\n\\n\\n\\n\\n...</td>\n",
       "      <td>일부 위원은 최근 소비재판매액 증가세가   다소 둔화되고 있으나 GDP 상의 소비와...</td>\n",
       "      <td>일부 위원은 우리나라 경제가 일본경제  에 비해 더 나아질 특별한 요인이 없음에도 ...</td>\n",
       "      <td>일부 위원은 M1이 실물경제와 어느 정도의   시차를 두고 밀접한 연관성을 지니는지...</td>\n",
       "      <td></td>\n",
       "      <td></td>\n",
       "      <td></td>\n",
       "      <td>19</td>\n",
       "      <td>4</td>\n",
       "      <td>160</td>\n",
       "      <td>0</td>\n",
       "      <td>0</td>\n",
       "      <td>0</td>\n",
       "      <td>경제/NNG,경제/NNG,비해/VV,특별/NNG,요인/NNG,불구/NNG,원엔/NN...</td>\n",
       "    </tr>\n",
       "    <tr>\n",
       "      <th>1</th>\n",
       "      <td>2005-06-09</td>\n",
       "      <td>\\n\\n\\n\\n\\n\\n\\n\\n\\n\\n\\n\\n\\n\\n\\n\\n\\n\\n\\n\\n\\n\\n\\n...</td>\n",
       "      <td>일부 위원은 최근 소비재판매액 증가세가   다소 둔화되고 있으나 GDP 상의 소비와...</td>\n",
       "      <td>일부 위원은 우리나라 경제가 일본경제  에 비해 더 나아질 특별한 요인이 없음에도 ...</td>\n",
       "      <td>일부 위원은 M1이 실물경제와 어느 정도의   시차를 두고 밀접한 연관성을 지니는지...</td>\n",
       "      <td></td>\n",
       "      <td></td>\n",
       "      <td></td>\n",
       "      <td>19</td>\n",
       "      <td>4</td>\n",
       "      <td>160</td>\n",
       "      <td>0</td>\n",
       "      <td>0</td>\n",
       "      <td>0</td>\n",
       "      <td>경제/NNG@@@경제/NNG@@@비해/VV@@@특별/NNG@@@요인/NNG@@@불구...</td>\n",
       "    </tr>\n",
       "    <tr>\n",
       "      <th>2</th>\n",
       "      <td>2005-06-09</td>\n",
       "      <td>\\n\\n\\n\\n\\n\\n\\n\\n\\n\\n\\n\\n\\n\\n\\n\\n\\n\\n\\n\\n\\n\\n\\n...</td>\n",
       "      <td>일부 위원은 최근 소비재판매액 증가세가   다소 둔화되고 있으나 GDP 상의 소비와...</td>\n",
       "      <td>일부 위원은 우리나라 경제가 일본경제  에 비해 더 나아질 특별한 요인이 없음에도 ...</td>\n",
       "      <td>일부 위원은 M1이 실물경제와 어느 정도의   시차를 두고 밀접한 연관성을 지니는지...</td>\n",
       "      <td></td>\n",
       "      <td></td>\n",
       "      <td></td>\n",
       "      <td>19</td>\n",
       "      <td>4</td>\n",
       "      <td>160</td>\n",
       "      <td>0</td>\n",
       "      <td>0</td>\n",
       "      <td>0</td>\n",
       "      <td>환율/NNG@@@장기/NNG@@@각국/NNG@@@기초/NNG@@@경제/NNG@@@여...</td>\n",
       "    </tr>\n",
       "    <tr>\n",
       "      <th>3</th>\n",
       "      <td>2005-06-09</td>\n",
       "      <td>\\n\\n\\n\\n\\n\\n\\n\\n\\n\\n\\n\\n\\n\\n\\n\\n\\n\\n\\n\\n\\n\\n\\n...</td>\n",
       "      <td>일부 위원은 최근 소비재판매액 증가세가   다소 둔화되고 있으나 GDP 상의 소비와...</td>\n",
       "      <td>일부 위원은 우리나라 경제가 일본경제  에 비해 더 나아질 특별한 요인이 없음에도 ...</td>\n",
       "      <td>일부 위원은 M1이 실물경제와 어느 정도의   시차를 두고 밀접한 연관성을 지니는지...</td>\n",
       "      <td></td>\n",
       "      <td></td>\n",
       "      <td></td>\n",
       "      <td>19</td>\n",
       "      <td>4</td>\n",
       "      <td>160</td>\n",
       "      <td>0</td>\n",
       "      <td>0</td>\n",
       "      <td>0</td>\n",
       "      <td>유로존/NNG@@@경제/NNG@@@성장/NNG@@@실적/NNG@@@예상/NNG@@@...</td>\n",
       "    </tr>\n",
       "    <tr>\n",
       "      <th>4</th>\n",
       "      <td>2005-06-09</td>\n",
       "      <td>\\n\\n\\n\\n\\n\\n\\n\\n\\n\\n\\n\\n\\n\\n\\n\\n\\n\\n\\n\\n\\n\\n\\n...</td>\n",
       "      <td>일부 위원은 최근 소비재판매액 증가세가   다소 둔화되고 있으나 GDP 상의 소비와...</td>\n",
       "      <td>일부 위원은 우리나라 경제가 일본경제  에 비해 더 나아질 특별한 요인이 없음에도 ...</td>\n",
       "      <td>일부 위원은 M1이 실물경제와 어느 정도의   시차를 두고 밀접한 연관성을 지니는지...</td>\n",
       "      <td></td>\n",
       "      <td></td>\n",
       "      <td></td>\n",
       "      <td>19</td>\n",
       "      <td>4</td>\n",
       "      <td>160</td>\n",
       "      <td>0</td>\n",
       "      <td>0</td>\n",
       "      <td>0</td>\n",
       "      <td>금리/NNG@@@수준/NNG@@@유지/NNG@@@금리/NNG@@@상승/NNG@@@가...</td>\n",
       "    </tr>\n",
       "    <tr>\n",
       "      <th>...</th>\n",
       "      <td>...</td>\n",
       "      <td>...</td>\n",
       "      <td>...</td>\n",
       "      <td>...</td>\n",
       "      <td>...</td>\n",
       "      <td>...</td>\n",
       "      <td>...</td>\n",
       "      <td>...</td>\n",
       "      <td>...</td>\n",
       "      <td>...</td>\n",
       "      <td>...</td>\n",
       "      <td>...</td>\n",
       "      <td>...</td>\n",
       "      <td>...</td>\n",
       "      <td>...</td>\n",
       "    </tr>\n",
       "    <tr>\n",
       "      <th>5401</th>\n",
       "      <td>2005-06-09</td>\n",
       "      <td>\\n\\n\\n\\n\\n\\n\\n\\n\\n\\n\\n\\n\\n\\n\\n\\n\\n\\n\\n\\n\\n\\n\\n...</td>\n",
       "      <td>일부 위원은 최근 소비재판매액 증가세가   다소 둔화되고 있으나 GDP 상의 소비와...</td>\n",
       "      <td>일부 위원은 우리나라 경제가 일본경제  에 비해 더 나아질 특별한 요인이 없음에도 ...</td>\n",
       "      <td>일부 위원은 M1이 실물경제와 어느 정도의   시차를 두고 밀접한 연관성을 지니는지...</td>\n",
       "      <td></td>\n",
       "      <td></td>\n",
       "      <td></td>\n",
       "      <td>19</td>\n",
       "      <td>4</td>\n",
       "      <td>160</td>\n",
       "      <td>0</td>\n",
       "      <td>0</td>\n",
       "      <td>0</td>\n",
       "      <td>프@@@리@@@미@@@엄@@@/@@@N@@@N@@@G</td>\n",
       "    </tr>\n",
       "    <tr>\n",
       "      <th>5402</th>\n",
       "      <td>2005-06-09</td>\n",
       "      <td>\\n\\n\\n\\n\\n\\n\\n\\n\\n\\n\\n\\n\\n\\n\\n\\n\\n\\n\\n\\n\\n\\n\\n...</td>\n",
       "      <td>일부 위원은 최근 소비재판매액 증가세가   다소 둔화되고 있으나 GDP 상의 소비와...</td>\n",
       "      <td>일부 위원은 우리나라 경제가 일본경제  에 비해 더 나아질 특별한 요인이 없음에도 ...</td>\n",
       "      <td>일부 위원은 M1이 실물경제와 어느 정도의   시차를 두고 밀접한 연관성을 지니는지...</td>\n",
       "      <td></td>\n",
       "      <td></td>\n",
       "      <td></td>\n",
       "      <td>19</td>\n",
       "      <td>4</td>\n",
       "      <td>160</td>\n",
       "      <td>0</td>\n",
       "      <td>0</td>\n",
       "      <td>0</td>\n",
       "      <td>수@@@준@@@/@@@N@@@N@@@G</td>\n",
       "    </tr>\n",
       "    <tr>\n",
       "      <th>5403</th>\n",
       "      <td>2005-06-09</td>\n",
       "      <td>\\n\\n\\n\\n\\n\\n\\n\\n\\n\\n\\n\\n\\n\\n\\n\\n\\n\\n\\n\\n\\n\\n\\n...</td>\n",
       "      <td>일부 위원은 최근 소비재판매액 증가세가   다소 둔화되고 있으나 GDP 상의 소비와...</td>\n",
       "      <td>일부 위원은 우리나라 경제가 일본경제  에 비해 더 나아질 특별한 요인이 없음에도 ...</td>\n",
       "      <td>일부 위원은 M1이 실물경제와 어느 정도의   시차를 두고 밀접한 연관성을 지니는지...</td>\n",
       "      <td></td>\n",
       "      <td></td>\n",
       "      <td></td>\n",
       "      <td>19</td>\n",
       "      <td>4</td>\n",
       "      <td>160</td>\n",
       "      <td>0</td>\n",
       "      <td>0</td>\n",
       "      <td>0</td>\n",
       "      <td>유@@@지@@@/@@@N@@@N@@@G</td>\n",
       "    </tr>\n",
       "    <tr>\n",
       "      <th>5404</th>\n",
       "      <td>2005-06-09</td>\n",
       "      <td>\\n\\n\\n\\n\\n\\n\\n\\n\\n\\n\\n\\n\\n\\n\\n\\n\\n\\n\\n\\n\\n\\n\\n...</td>\n",
       "      <td>일부 위원은 최근 소비재판매액 증가세가   다소 둔화되고 있으나 GDP 상의 소비와...</td>\n",
       "      <td>일부 위원은 우리나라 경제가 일본경제  에 비해 더 나아질 특별한 요인이 없음에도 ...</td>\n",
       "      <td>일부 위원은 M1이 실물경제와 어느 정도의   시차를 두고 밀접한 연관성을 지니는지...</td>\n",
       "      <td></td>\n",
       "      <td></td>\n",
       "      <td></td>\n",
       "      <td>19</td>\n",
       "      <td>4</td>\n",
       "      <td>160</td>\n",
       "      <td>0</td>\n",
       "      <td>0</td>\n",
       "      <td>0</td>\n",
       "      <td>양@@@호@@@/@@@N@@@N@@@G</td>\n",
       "    </tr>\n",
       "    <tr>\n",
       "      <th>5405</th>\n",
       "      <td>2005-06-09</td>\n",
       "      <td>\\n\\n\\n\\n\\n\\n\\n\\n\\n\\n\\n\\n\\n\\n\\n\\n\\n\\n\\n\\n\\n\\n\\n...</td>\n",
       "      <td>일부 위원은 최근 소비재판매액 증가세가   다소 둔화되고 있으나 GDP 상의 소비와...</td>\n",
       "      <td>일부 위원은 우리나라 경제가 일본경제  에 비해 더 나아질 특별한 요인이 없음에도 ...</td>\n",
       "      <td>일부 위원은 M1이 실물경제와 어느 정도의   시차를 두고 밀접한 연관성을 지니는지...</td>\n",
       "      <td></td>\n",
       "      <td></td>\n",
       "      <td></td>\n",
       "      <td>19</td>\n",
       "      <td>4</td>\n",
       "      <td>160</td>\n",
       "      <td>0</td>\n",
       "      <td>0</td>\n",
       "      <td>0</td>\n",
       "      <td>경제/NNG,경제/NNG,비해/VV,특별/NNG,요인/NNG,불구/NNG,원엔/NN...</td>\n",
       "    </tr>\n",
       "  </tbody>\n",
       "</table>\n",
       "<p>5406 rows × 15 columns</p>\n",
       "</div>"
      ],
      "text/plain": [
       "            date                                            minutes  \\\n",
       "0     2005-06-09  \\n\\n\\n\\n\\n\\n\\n\\n\\n\\n\\n\\n\\n\\n\\n\\n\\n\\n\\n\\n\\n\\n\\n...   \n",
       "1     2005-06-09  \\n\\n\\n\\n\\n\\n\\n\\n\\n\\n\\n\\n\\n\\n\\n\\n\\n\\n\\n\\n\\n\\n\\n...   \n",
       "2     2005-06-09  \\n\\n\\n\\n\\n\\n\\n\\n\\n\\n\\n\\n\\n\\n\\n\\n\\n\\n\\n\\n\\n\\n\\n...   \n",
       "3     2005-06-09  \\n\\n\\n\\n\\n\\n\\n\\n\\n\\n\\n\\n\\n\\n\\n\\n\\n\\n\\n\\n\\n\\n\\n...   \n",
       "4     2005-06-09  \\n\\n\\n\\n\\n\\n\\n\\n\\n\\n\\n\\n\\n\\n\\n\\n\\n\\n\\n\\n\\n\\n\\n...   \n",
       "...          ...                                                ...   \n",
       "5401  2005-06-09  \\n\\n\\n\\n\\n\\n\\n\\n\\n\\n\\n\\n\\n\\n\\n\\n\\n\\n\\n\\n\\n\\n\\n...   \n",
       "5402  2005-06-09  \\n\\n\\n\\n\\n\\n\\n\\n\\n\\n\\n\\n\\n\\n\\n\\n\\n\\n\\n\\n\\n\\n\\n...   \n",
       "5403  2005-06-09  \\n\\n\\n\\n\\n\\n\\n\\n\\n\\n\\n\\n\\n\\n\\n\\n\\n\\n\\n\\n\\n\\n\\n...   \n",
       "5404  2005-06-09  \\n\\n\\n\\n\\n\\n\\n\\n\\n\\n\\n\\n\\n\\n\\n\\n\\n\\n\\n\\n\\n\\n\\n...   \n",
       "5405  2005-06-09  \\n\\n\\n\\n\\n\\n\\n\\n\\n\\n\\n\\n\\n\\n\\n\\n\\n\\n\\n\\n\\n\\n\\n...   \n",
       "\n",
       "                                     Economic Situation  \\\n",
       "0     일부 위원은 최근 소비재판매액 증가세가   다소 둔화되고 있으나 GDP 상의 소비와...   \n",
       "1     일부 위원은 최근 소비재판매액 증가세가   다소 둔화되고 있으나 GDP 상의 소비와...   \n",
       "2     일부 위원은 최근 소비재판매액 증가세가   다소 둔화되고 있으나 GDP 상의 소비와...   \n",
       "3     일부 위원은 최근 소비재판매액 증가세가   다소 둔화되고 있으나 GDP 상의 소비와...   \n",
       "4     일부 위원은 최근 소비재판매액 증가세가   다소 둔화되고 있으나 GDP 상의 소비와...   \n",
       "...                                                 ...   \n",
       "5401  일부 위원은 최근 소비재판매액 증가세가   다소 둔화되고 있으나 GDP 상의 소비와...   \n",
       "5402  일부 위원은 최근 소비재판매액 증가세가   다소 둔화되고 있으나 GDP 상의 소비와...   \n",
       "5403  일부 위원은 최근 소비재판매액 증가세가   다소 둔화되고 있으나 GDP 상의 소비와...   \n",
       "5404  일부 위원은 최근 소비재판매액 증가세가   다소 둔화되고 있으나 GDP 상의 소비와...   \n",
       "5405  일부 위원은 최근 소비재판매액 증가세가   다소 둔화되고 있으나 GDP 상의 소비와...   \n",
       "\n",
       "                                       Foreign Currency  \\\n",
       "0     일부 위원은 우리나라 경제가 일본경제  에 비해 더 나아질 특별한 요인이 없음에도 ...   \n",
       "1     일부 위원은 우리나라 경제가 일본경제  에 비해 더 나아질 특별한 요인이 없음에도 ...   \n",
       "2     일부 위원은 우리나라 경제가 일본경제  에 비해 더 나아질 특별한 요인이 없음에도 ...   \n",
       "3     일부 위원은 우리나라 경제가 일본경제  에 비해 더 나아질 특별한 요인이 없음에도 ...   \n",
       "4     일부 위원은 우리나라 경제가 일본경제  에 비해 더 나아질 특별한 요인이 없음에도 ...   \n",
       "...                                                 ...   \n",
       "5401  일부 위원은 우리나라 경제가 일본경제  에 비해 더 나아질 특별한 요인이 없음에도 ...   \n",
       "5402  일부 위원은 우리나라 경제가 일본경제  에 비해 더 나아질 특별한 요인이 없음에도 ...   \n",
       "5403  일부 위원은 우리나라 경제가 일본경제  에 비해 더 나아질 특별한 요인이 없음에도 ...   \n",
       "5404  일부 위원은 우리나라 경제가 일본경제  에 비해 더 나아질 특별한 요인이 없음에도 ...   \n",
       "5405  일부 위원은 우리나라 경제가 일본경제  에 비해 더 나아질 특별한 요인이 없음에도 ...   \n",
       "\n",
       "                                      Financial Markets Monetary Policy  \\\n",
       "0     일부 위원은 M1이 실물경제와 어느 정도의   시차를 두고 밀접한 연관성을 지니는지...                   \n",
       "1     일부 위원은 M1이 실물경제와 어느 정도의   시차를 두고 밀접한 연관성을 지니는지...                   \n",
       "2     일부 위원은 M1이 실물경제와 어느 정도의   시차를 두고 밀접한 연관성을 지니는지...                   \n",
       "3     일부 위원은 M1이 실물경제와 어느 정도의   시차를 두고 밀접한 연관성을 지니는지...                   \n",
       "4     일부 위원은 M1이 실물경제와 어느 정도의   시차를 두고 밀접한 연관성을 지니는지...                   \n",
       "...                                                 ...             ...   \n",
       "5401  일부 위원은 M1이 실물경제와 어느 정도의   시차를 두고 밀접한 연관성을 지니는지...                   \n",
       "5402  일부 위원은 M1이 실물경제와 어느 정도의   시차를 두고 밀접한 연관성을 지니는지...                   \n",
       "5403  일부 위원은 M1이 실물경제와 어느 정도의   시차를 두고 밀접한 연관성을 지니는지...                   \n",
       "5404  일부 위원은 M1이 실물경제와 어느 정도의   시차를 두고 밀접한 연관성을 지니는지...                   \n",
       "5405  일부 위원은 M1이 실물경제와 어느 정도의   시차를 두고 밀접한 연관성을 지니는지...                   \n",
       "\n",
       "     Participant Views Government View Economic Situation count  \\\n",
       "0                                                            19   \n",
       "1                                                            19   \n",
       "2                                                            19   \n",
       "3                                                            19   \n",
       "4                                                            19   \n",
       "...                ...             ...                      ...   \n",
       "5401                                                         19   \n",
       "5402                                                         19   \n",
       "5403                                                         19   \n",
       "5404                                                         19   \n",
       "5405                                                         19   \n",
       "\n",
       "     Foreign Currency count Financial Markets count Monetary Policy count  \\\n",
       "0                         4                     160                     0   \n",
       "1                         4                     160                     0   \n",
       "2                         4                     160                     0   \n",
       "3                         4                     160                     0   \n",
       "4                         4                     160                     0   \n",
       "...                     ...                     ...                   ...   \n",
       "5401                      4                     160                     0   \n",
       "5402                      4                     160                     0   \n",
       "5403                      4                     160                     0   \n",
       "5404                      4                     160                     0   \n",
       "5405                      4                     160                     0   \n",
       "\n",
       "     Participant Views count Government View count  \\\n",
       "0                          0                     0   \n",
       "1                          0                     0   \n",
       "2                          0                     0   \n",
       "3                          0                     0   \n",
       "4                          0                     0   \n",
       "...                      ...                   ...   \n",
       "5401                       0                     0   \n",
       "5402                       0                     0   \n",
       "5403                       0                     0   \n",
       "5404                       0                     0   \n",
       "5405                       0                     0   \n",
       "\n",
       "                                                 ngrams  \n",
       "0     경제/NNG,경제/NNG,비해/VV,특별/NNG,요인/NNG,불구/NNG,원엔/NN...  \n",
       "1     경제/NNG@@@경제/NNG@@@비해/VV@@@특별/NNG@@@요인/NNG@@@불구...  \n",
       "2     환율/NNG@@@장기/NNG@@@각국/NNG@@@기초/NNG@@@경제/NNG@@@여...  \n",
       "3     유로존/NNG@@@경제/NNG@@@성장/NNG@@@실적/NNG@@@예상/NNG@@@...  \n",
       "4     금리/NNG@@@수준/NNG@@@유지/NNG@@@금리/NNG@@@상승/NNG@@@가...  \n",
       "...                                                 ...  \n",
       "5401                      프@@@리@@@미@@@엄@@@/@@@N@@@N@@@G  \n",
       "5402                              수@@@준@@@/@@@N@@@N@@@G  \n",
       "5403                              유@@@지@@@/@@@N@@@N@@@G  \n",
       "5404                              양@@@호@@@/@@@N@@@N@@@G  \n",
       "5405  경제/NNG,경제/NNG,비해/VV,특별/NNG,요인/NNG,불구/NNG,원엔/NN...  \n",
       "\n",
       "[5406 rows x 15 columns]"
      ]
     },
     "execution_count": 49,
     "metadata": {},
     "output_type": "execute_result"
    }
   ],
   "source": [
    "df"
   ]
  },
  {
   "cell_type": "code",
   "execution_count": 50,
   "metadata": {},
   "outputs": [
    {
     "name": "stdout",
     "output_type": "stream",
     "text": [
      "21924\n"
     ]
    },
    {
     "data": {
      "text/plain": [
       "'경제/NNG,경제/NNG,비해/VV,특별/NNG,요인/NNG,불구/NNG,원엔/NNG,환율/NNG,지속/NNG,하락/NNG,이유/NNG,대해/VV,위안/NNG,상시/NNG,통화/NNG,절상/NNG,기대/NNG,원화/NNG,달러/NNG,엔달러/NNG,환율/NNG,상승/NNG,추수/NNG,못하/VX,외환/NNG,수급/NNG,공급우위/NNG,상태/NNG,지속/NNG,국제투자은행/NNG,엔달러/NNG,환율/NNG,전망/NNG,상향/NNG,불구/NNG,원달러/NNG,조정/NNG,아직/MAG,이루/VV,기업/NNG,기대/NNG,원화/NNG,절'"
      ]
     },
     "execution_count": 50,
     "metadata": {},
     "output_type": "execute_result"
    }
   ],
   "source": [
    "print(len(df.ngrams[0]))\n",
    "df.ngrams[0][:300]"
   ]
  },
  {
   "cell_type": "markdown",
   "metadata": {},
   "source": [
    "* 0번째 문서의 모든 ngram을 각각 row로 만들어 df에 담았을 경우"
   ]
  },
  {
   "cell_type": "code",
   "execution_count": 51,
   "metadata": {},
   "outputs": [
    {
     "name": "stdout",
     "output_type": "stream",
     "text": [
      "2005-06-09_-_금융통화위원회 의사록(2005년도 제12차).txt\n",
      "Wall time: 1min 31s\n"
     ]
    }
   ],
   "source": [
    "%%time\n",
    "\n",
    "for txt_file in txt_files[:1]:\n",
    "    with open(source_folder + txt_file, 'r',encoding='utf-8') as f :\n",
    "        txt = f.read()\n",
    "        sections, section_texts = preprocess_minutes(txt)\n",
    "\n",
    "        print(txt_file)\n",
    "\n",
    "        ngrams = []\n",
    "        for section_text in section_texts[1:3] :\n",
    "            for sentence in section_text :\n",
    "                ngram= text2ngram(sentence)\n",
    "                for item in ngram:\n",
    "                    df.loc[len(df)] = [txt_file.split('_-_')[0],\n",
    "                               txt,\n",
    "                               '@@@'.join(section_texts[0]),\n",
    "                               '@@@'.join(section_texts[1]),\n",
    "                               '@@@'.join(section_texts[2]),\n",
    "                               '@@@'.join(section_texts[3]),\n",
    "                               '@@@'.join(section_texts[4]),\n",
    "                               '@@@'.join(section_texts[5]),\n",
    "                               len(section_texts[0]),\n",
    "                               len(section_texts[1]),\n",
    "                               len(section_texts[2]),\n",
    "                               len(section_texts[3]),\n",
    "                               len(section_texts[4]),\n",
    "                               len(section_texts[5]),\n",
    "                               '@@@'.join(item)]\n",
    "        "
   ]
  },
  {
   "cell_type": "code",
   "execution_count": 52,
   "metadata": {},
   "outputs": [
    {
     "data": {
      "text/plain": [
       "Index                           64200\n",
       "date                           537675\n",
       "minutes                     342314400\n",
       "Economic Situation           66511200\n",
       "Foreign Currency             17895750\n",
       "Financial Markets           247410750\n",
       "Monetary Policy                473475\n",
       "Participant Views              473475\n",
       "Government View                473475\n",
       "Economic Situation count       288900\n",
       "Foreign Currency count         288900\n",
       "Financial Markets count        288900\n",
       "Monetary Policy count          256800\n",
       "Participant Views count        256800\n",
       "Government View count          256800\n",
       "ngrams                        1292960\n",
       "dtype: int64"
      ]
     },
     "execution_count": 52,
     "metadata": {},
     "output_type": "execute_result"
    }
   ],
   "source": [
    "df.memory_usage(index=True, deep=True)"
   ]
  },
  {
   "cell_type": "code",
   "execution_count": 53,
   "metadata": {},
   "outputs": [
    {
     "data": {
      "text/plain": [
       "1894835"
      ]
     },
     "execution_count": 53,
     "metadata": {},
     "output_type": "execute_result"
    }
   ],
   "source": [
    "df[['date', 'ngrams']].memory_usage(index=True, deep=True).sum()"
   ]
  },
  {
   "cell_type": "code",
   "execution_count": 9,
   "metadata": {},
   "outputs": [],
   "source": [
    "def preprocessing(source_folder=\"./data_files/BOK_minutes/pdf2txt/\", output_file=\"./data_files/BOK_minutes/pkl/\") :\n",
    "    # 지정 폴더 내 파일 목록 조회 (파일만)\n",
    "    txt_files = [f for f in os.listdir(source_folder) if os.path.isfile(os.path.join(source_folder, f))]\n",
    "    txt_files = [f for f in txt_files if f[-4:] == '.txt']\n",
    "    txt_files.sort()\n",
    "    df = pd.DataFrame(columns=['date', 'minutes'])\n",
    "    df[\"Economic Situation\"] = \"\"\n",
    "    df[\"Foreign Currency\"] = \"\"\n",
    "    df[\"Financial Markets\"] = \"\"\n",
    "    df[\"Monetary Policy\"] = \"\"\n",
    "    df[\"Participant Views\"] = \"\"\n",
    "    df[\"Government View\"] = \"\"\n",
    "\n",
    "    df[\"Economic Situation count\"] = \"\"\n",
    "    df[\"Foreign Currency count\"] = \"\"\n",
    "    df[\"Financial Markets count\"] = \"\"\n",
    "    df[\"Monetary Policy count\"] = \"\"\n",
    "    df[\"Participant Views count\"] = \"\"\n",
    "    df[\"Government View count\"] = \"\"\n",
    "    df['ngrams'] =\"\"\n",
    "    \n",
    "\n",
    "    for txt_file in txt_files :\n",
    "        try :\n",
    "            with open(source_folder + txt_file, 'r',encoding='utf-8') as f :\n",
    "                txt = f.read()\n",
    "                sections, section_texts = preprocess_minutes(txt)\n",
    "\n",
    "                print(txt_file)\n",
    "\n",
    "                ngrams = []\n",
    "                for section_text in section_texts[1:3] :\n",
    "                    for sentence in section_text :\n",
    "                        ngrams.append(','.join(text2ngram(sentence)))\n",
    "\n",
    "                #print('@@@'.join(ngrams))\n",
    "                #break\n",
    "\n",
    "                df.loc[len(df)] = [txt_file.split('_-_')[0],\n",
    "                                   txt,\n",
    "                                   '@@@'.join(section_texts[0]),\n",
    "                                   '@@@'.join(section_texts[1]),\n",
    "                                   '@@@'.join(section_texts[2]),\n",
    "                                   '@@@'.join(section_texts[3]),\n",
    "                                   '@@@'.join(section_texts[4]),\n",
    "                                   '@@@'.join(section_texts[5]),\n",
    "                                   len(section_texts[0]),\n",
    "                                   len(section_texts[1]),\n",
    "                                   len(section_texts[2]),\n",
    "                                   len(section_texts[3]),\n",
    "                                   len(section_texts[4]),\n",
    "                                   len(section_texts[5]),\n",
    "                                   '@@@'.join(ngrams)]\n",
    "        except :\n",
    "            print('Error occurred at {}'.format(txt_file))\n",
    "            print('Error: ', sys.exc_info()[0])\n",
    "            pass\n",
    "    \n",
    "    df.to_pickle(output_file)\n",
    "        \n",
    "    print(df.shape)\n",
    "    print(\"---\")\n",
    "    print(df.head())"
   ]
  },
  {
   "cell_type": "code",
   "execution_count": null,
   "metadata": {},
   "outputs": [
    {
     "name": "stdout",
     "output_type": "stream",
     "text": [
      "2005-06-09_-_금융통화위원회 의사록(2005년도 제12차).txt\n"
     ]
    }
   ],
   "source": [
    "preprocessing()"
   ]
  },
  {
   "cell_type": "code",
   "execution_count": null,
   "metadata": {},
   "outputs": [],
   "source": []
  }
 ],
 "metadata": {
  "kernelspec": {
   "display_name": "Python 3",
   "language": "python",
   "name": "python3"
  },
  "language_info": {
   "codemirror_mode": {
    "name": "ipython",
    "version": 3
   },
   "file_extension": ".py",
   "mimetype": "text/x-python",
   "name": "python",
   "nbconvert_exporter": "python",
   "pygments_lexer": "ipython3",
   "version": "3.7.6"
  }
 },
 "nbformat": 4,
 "nbformat_minor": 4
}

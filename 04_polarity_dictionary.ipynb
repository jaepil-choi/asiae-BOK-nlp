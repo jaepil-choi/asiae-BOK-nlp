{
 "cells": [
  {
   "cell_type": "markdown",
   "metadata": {},
   "source": [
    "# Creating Polarity Dictionary\n",
    "\n",
    "극성사전을 만든다. \n",
    "\n",
    "우선 한국은행 의사록, 네이버 금융 증권사 채권보고서, 뉴스 데이터에서 각 일자, 문서별로 ngram 리스트를 뽑아낸 데이터를 불러온다. \n",
    "\n",
    "추가적으로 일일 콜금리 데이터를 불러온다. 이 때, 콜금리 데이터는 30일 전과 비교하여 당일 콜금리가 증가했는지 감소했는지 레이블 되어있다. 이를 토대로 금리가 올랐다면 hawkish, 내렸다면 dovish로 가정한다. \n",
    "\n",
    "의사록, 채권보고서, 뉴스 데이터 모두 date, ngrams 컬럼만 뽑아낸 뒤 일자별로 콜금리 증감 여부를 merge한다. \n",
    "\n",
    "이제 어떤 ngrams (list)가 hawkish하고 dovish한지 레이블 되었기 때문에 일자 상관없이 각 ngram 하나하나의 hawkish 빈도와 dovish 빈도, 그리고 total (= hawkish + dovish) 빈도를 표시한다. \n",
    "\n",
    "이제 Naive Bayes Classifier의 가정 하에 각 ngram의 베이즈확률을 구하고 Polarity Score을 구할 수 있다. "
   ]
  },
  {
   "cell_type": "code",
   "execution_count": 34,
   "metadata": {},
   "outputs": [],
   "source": [
    "import pandas as pd\n",
    "import numpy as np\n",
    "\n",
    "import multiprocessing as mp"
   ]
  },
  {
   "cell_type": "markdown",
   "metadata": {},
   "source": [
    "## Open data and merge them "
   ]
  },
  {
   "cell_type": "code",
   "execution_count": 2,
   "metadata": {},
   "outputs": [
    {
     "data": {
      "text/html": [
       "<div>\n",
       "<style scoped>\n",
       "    .dataframe tbody tr th:only-of-type {\n",
       "        vertical-align: middle;\n",
       "    }\n",
       "\n",
       "    .dataframe tbody tr th {\n",
       "        vertical-align: top;\n",
       "    }\n",
       "\n",
       "    .dataframe thead th {\n",
       "        text-align: right;\n",
       "    }\n",
       "</style>\n",
       "<table border=\"1\" class=\"dataframe\">\n",
       "  <thead>\n",
       "    <tr style=\"text-align: right;\">\n",
       "      <th></th>\n",
       "      <th>date</th>\n",
       "      <th>call_rate</th>\n",
       "      <th>call_rate_30daysago</th>\n",
       "      <th>change</th>\n",
       "    </tr>\n",
       "  </thead>\n",
       "  <tbody>\n",
       "    <tr>\n",
       "      <th>31</th>\n",
       "      <td>2004-02-01</td>\n",
       "      <td>3.78</td>\n",
       "      <td>3.77</td>\n",
       "      <td>1</td>\n",
       "    </tr>\n",
       "    <tr>\n",
       "      <th>32</th>\n",
       "      <td>2004-02-02</td>\n",
       "      <td>3.78</td>\n",
       "      <td>3.77</td>\n",
       "      <td>1</td>\n",
       "    </tr>\n",
       "    <tr>\n",
       "      <th>33</th>\n",
       "      <td>2004-02-03</td>\n",
       "      <td>3.77</td>\n",
       "      <td>3.77</td>\n",
       "      <td>0</td>\n",
       "    </tr>\n",
       "    <tr>\n",
       "      <th>34</th>\n",
       "      <td>2004-02-04</td>\n",
       "      <td>3.78</td>\n",
       "      <td>3.76</td>\n",
       "      <td>1</td>\n",
       "    </tr>\n",
       "    <tr>\n",
       "      <th>35</th>\n",
       "      <td>2004-02-05</td>\n",
       "      <td>3.79</td>\n",
       "      <td>3.74</td>\n",
       "      <td>1</td>\n",
       "    </tr>\n",
       "  </tbody>\n",
       "</table>\n",
       "</div>"
      ],
      "text/plain": [
       "         date  call_rate  call_rate_30daysago  change\n",
       "31 2004-02-01       3.78                 3.77       1\n",
       "32 2004-02-02       3.78                 3.77       1\n",
       "33 2004-02-03       3.77                 3.77       0\n",
       "34 2004-02-04       3.78                 3.76       1\n",
       "35 2004-02-05       3.79                 3.74       1"
      ]
     },
     "execution_count": 2,
     "metadata": {},
     "output_type": "execute_result"
    }
   ],
   "source": [
    "call_rates_df = pd.read_pickle('./data_files/BOK_call_rates.pkl')\n",
    "call_rates_df.head()"
   ]
  },
  {
   "cell_type": "code",
   "execution_count": 3,
   "metadata": {},
   "outputs": [
    {
     "data": {
      "text/html": [
       "<div>\n",
       "<style scoped>\n",
       "    .dataframe tbody tr th:only-of-type {\n",
       "        vertical-align: middle;\n",
       "    }\n",
       "\n",
       "    .dataframe tbody tr th {\n",
       "        vertical-align: top;\n",
       "    }\n",
       "\n",
       "    .dataframe thead th {\n",
       "        text-align: right;\n",
       "    }\n",
       "</style>\n",
       "<table border=\"1\" class=\"dataframe\">\n",
       "  <thead>\n",
       "    <tr style=\"text-align: right;\">\n",
       "      <th></th>\n",
       "      <th>date</th>\n",
       "      <th>minutes</th>\n",
       "      <th>Foreign Currency</th>\n",
       "      <th>Financial Markets</th>\n",
       "      <th>ngrams</th>\n",
       "    </tr>\n",
       "  </thead>\n",
       "  <tbody>\n",
       "    <tr>\n",
       "      <th>0</th>\n",
       "      <td>2005-06-09</td>\n",
       "      <td>\\n\\n\\n\\n\\n\\n\\n\\n\\n\\n\\n\\n\\n\\n\\n\\n\\n\\n\\n\\n\\n\\n\\n...</td>\n",
       "      <td>일부 위원은 우리나라 경제가 일본경제  에 비해 더 나아질 특별한 요인이 없음에도 ...</td>\n",
       "      <td>일부 위원은 M1이 실물경제와 어느 정도의   시차를 두고 밀접한 연관성을 지니는지...</td>\n",
       "      <td>[경제/NNG, 경제/NNG, 비해/VV, 특별/NNG, 요인/NNG, 불구/NNG...</td>\n",
       "    </tr>\n",
       "    <tr>\n",
       "      <th>1</th>\n",
       "      <td>2005-06-23</td>\n",
       "      <td>\\n\\n\\n\\n\\n\\n\\n\\n\\n\\n\\n\\n\\n\\n\\n\\n\\n\\n\\n\\n\\n\\n\\n...</td>\n",
       "      <td></td>\n",
       "      <td></td>\n",
       "      <td>[]</td>\n",
       "    </tr>\n",
       "    <tr>\n",
       "      <th>2</th>\n",
       "      <td>2005-07-07</td>\n",
       "      <td>\\n\\n\\n\\n\\n\\n\\n\\n\\n\\n\\n\\n\\n\\n\\n\\n\\n\\n\\n\\n\\n\\n\\n...</td>\n",
       "      <td>일부 위원은 6월 들어 국제유가가 크게   오르고 원화와 엔화간 동조화 현상이 뚜렷...</td>\n",
       "      <td>일부 위원은 단기적으로 대출이 급격히 증가  한 후에는 반드시 조정이 이어지고 민간...</td>\n",
       "      <td>[국제/NNG, 유가/NNG, 오르/VV, 원화/NNG, 화간/NNG, 동조/NNG...</td>\n",
       "    </tr>\n",
       "    <tr>\n",
       "      <th>3</th>\n",
       "      <td>2005-08-11</td>\n",
       "      <td>\\n\\n\\n\\n\\n\\n\\n\\n\\n\\n\\n\\n\\n\\n\\n\\n\\n\\n\\n\\n\\n\\n\\n...</td>\n",
       "      <td>일부 위원은 위안화 절상 이후 아시아   통화중 우리나라 원화의 절상폭이 가장 컸다...</td>\n",
       "      <td>일부 위원은 최근 장기시장금리 상승에도 불  구하고 기업 자금조달은 오히려 확대되고...</td>\n",
       "      <td>[위안/NNG, 절상/NNG, 원화/NNG, 절상/NNG, 가장/MAG, 추가/NN...</td>\n",
       "    </tr>\n",
       "    <tr>\n",
       "      <th>4</th>\n",
       "      <td>2005-09-08</td>\n",
       "      <td>\\n\\n\\n\\n\\n\\n\\n\\n\\n\\n\\n\\n\\n\\n\\n\\n\\n\\n\\n\\n\\n\\n\\n...</td>\n",
       "      <td>일부 위원은 최근 인도네시아 금융불안   사태가 발생한 가운데 국제 환투기세력이 인...</td>\n",
       "      <td>일부 위원은 시장이 제대로 작동한다면 비우    - 5 -  량등급의 회사채 가산금...</td>\n",
       "      <td>[금융/NNG, 불안사태/NNG, 발생/NNG, 가운데/NNG, 국제/NNG, 환투...</td>\n",
       "    </tr>\n",
       "  </tbody>\n",
       "</table>\n",
       "</div>"
      ],
      "text/plain": [
       "        date                                            minutes  \\\n",
       "0 2005-06-09  \\n\\n\\n\\n\\n\\n\\n\\n\\n\\n\\n\\n\\n\\n\\n\\n\\n\\n\\n\\n\\n\\n\\n...   \n",
       "1 2005-06-23  \\n\\n\\n\\n\\n\\n\\n\\n\\n\\n\\n\\n\\n\\n\\n\\n\\n\\n\\n\\n\\n\\n\\n...   \n",
       "2 2005-07-07  \\n\\n\\n\\n\\n\\n\\n\\n\\n\\n\\n\\n\\n\\n\\n\\n\\n\\n\\n\\n\\n\\n\\n...   \n",
       "3 2005-08-11  \\n\\n\\n\\n\\n\\n\\n\\n\\n\\n\\n\\n\\n\\n\\n\\n\\n\\n\\n\\n\\n\\n\\n...   \n",
       "4 2005-09-08  \\n\\n\\n\\n\\n\\n\\n\\n\\n\\n\\n\\n\\n\\n\\n\\n\\n\\n\\n\\n\\n\\n\\n...   \n",
       "\n",
       "                                    Foreign Currency  \\\n",
       "0  일부 위원은 우리나라 경제가 일본경제  에 비해 더 나아질 특별한 요인이 없음에도 ...   \n",
       "1                                                      \n",
       "2  일부 위원은 6월 들어 국제유가가 크게   오르고 원화와 엔화간 동조화 현상이 뚜렷...   \n",
       "3  일부 위원은 위안화 절상 이후 아시아   통화중 우리나라 원화의 절상폭이 가장 컸다...   \n",
       "4  일부 위원은 최근 인도네시아 금융불안   사태가 발생한 가운데 국제 환투기세력이 인...   \n",
       "\n",
       "                                   Financial Markets  \\\n",
       "0  일부 위원은 M1이 실물경제와 어느 정도의   시차를 두고 밀접한 연관성을 지니는지...   \n",
       "1                                                      \n",
       "2  일부 위원은 단기적으로 대출이 급격히 증가  한 후에는 반드시 조정이 이어지고 민간...   \n",
       "3  일부 위원은 최근 장기시장금리 상승에도 불  구하고 기업 자금조달은 오히려 확대되고...   \n",
       "4  일부 위원은 시장이 제대로 작동한다면 비우    - 5 -  량등급의 회사채 가산금...   \n",
       "\n",
       "                                              ngrams  \n",
       "0  [경제/NNG, 경제/NNG, 비해/VV, 특별/NNG, 요인/NNG, 불구/NNG...  \n",
       "1                                                 []  \n",
       "2  [국제/NNG, 유가/NNG, 오르/VV, 원화/NNG, 화간/NNG, 동조/NNG...  \n",
       "3  [위안/NNG, 절상/NNG, 원화/NNG, 절상/NNG, 가장/MAG, 추가/NN...  \n",
       "4  [금융/NNG, 불안사태/NNG, 발생/NNG, 가운데/NNG, 국제/NNG, 환투...  "
      ]
     },
     "execution_count": 3,
     "metadata": {},
     "output_type": "execute_result"
    }
   ],
   "source": [
    "minutes_df = pd.read_pickle('./data_files/BOK_minutes/pkl/minutes_ngram.pkl')\n",
    "minutes_df.date = pd.to_datetime(minutes_df.date, format='%Y-%m-%d')\n",
    "minutes_df = minutes_df\n",
    "minutes_df.head()"
   ]
  },
  {
   "cell_type": "code",
   "execution_count": 7,
   "metadata": {},
   "outputs": [
    {
     "data": {
      "text/plain": [
       "301"
      ]
     },
     "execution_count": 7,
     "metadata": {},
     "output_type": "execute_result"
    }
   ],
   "source": [
    "len(minutes_df)"
   ]
  },
  {
   "cell_type": "code",
   "execution_count": 4,
   "metadata": {},
   "outputs": [
    {
     "data": {
      "text/html": [
       "<div>\n",
       "<style scoped>\n",
       "    .dataframe tbody tr th:only-of-type {\n",
       "        vertical-align: middle;\n",
       "    }\n",
       "\n",
       "    .dataframe tbody tr th {\n",
       "        vertical-align: top;\n",
       "    }\n",
       "\n",
       "    .dataframe thead th {\n",
       "        text-align: right;\n",
       "    }\n",
       "</style>\n",
       "<table border=\"1\" class=\"dataframe\">\n",
       "  <thead>\n",
       "    <tr style=\"text-align: right;\">\n",
       "      <th></th>\n",
       "      <th>date</th>\n",
       "      <th>title</th>\n",
       "      <th>ngrams</th>\n",
       "    </tr>\n",
       "  </thead>\n",
       "  <tbody>\n",
       "    <tr>\n",
       "      <th>0</th>\n",
       "      <td>2008-04-01</td>\n",
       "      <td>대우증권대우증권 월간 채권투자 (4월).txt</td>\n",
       "      <td>[채권투자/NNG, 채권시장/NNG, 전망/NNG, 금융시장/NNG, 對應/NNG,...</td>\n",
       "    </tr>\n",
       "    <tr>\n",
       "      <th>1</th>\n",
       "      <td>2008-04-07</td>\n",
       "      <td>대우증권돌아온 박스권.txt</td>\n",
       "      <td>[돌아온/VV, 박스권/NNG, 하단/NNG, 상단/NNG, 테스트/NNG, 가능성...</td>\n",
       "    </tr>\n",
       "    <tr>\n",
       "      <th>2</th>\n",
       "      <td>2008-04-07</td>\n",
       "      <td>대우증권시간차 공격.txt</td>\n",
       "      <td>[돌아온/VV, 박스권/NNG, 하단/NNG, 상단/NNG, 테스트/NNG, 가능성...</td>\n",
       "    </tr>\n",
       "    <tr>\n",
       "      <th>3</th>\n",
       "      <td>2008-04-14</td>\n",
       "      <td>대우증권총재의 변신은 무죄다!.txt</td>\n",
       "      <td>[믹스/NNG, 합의/NNG, 반영/NNG, 예상/NNG, 경제/NNG, 성장률/N...</td>\n",
       "    </tr>\n",
       "    <tr>\n",
       "      <th>4</th>\n",
       "      <td>2008-04-21</td>\n",
       "      <td>대우증권항상 열려는 있는 가능성.txt</td>\n",
       "      <td>[경기/NNG, 전망/NNG, 분명/MAG, 인플레이션/NNG, 명분/NNG, 결정...</td>\n",
       "    </tr>\n",
       "  </tbody>\n",
       "</table>\n",
       "</div>"
      ],
      "text/plain": [
       "        date                      title  \\\n",
       "0 2008-04-01  대우증권대우증권 월간 채권투자 (4월).txt   \n",
       "1 2008-04-07            대우증권돌아온 박스권.txt   \n",
       "2 2008-04-07             대우증권시간차 공격.txt   \n",
       "3 2008-04-14       대우증권총재의 변신은 무죄다!.txt   \n",
       "4 2008-04-21      대우증권항상 열려는 있는 가능성.txt   \n",
       "\n",
       "                                              ngrams  \n",
       "0  [채권투자/NNG, 채권시장/NNG, 전망/NNG, 금융시장/NNG, 對應/NNG,...  \n",
       "1  [돌아온/VV, 박스권/NNG, 하단/NNG, 상단/NNG, 테스트/NNG, 가능성...  \n",
       "2  [돌아온/VV, 박스권/NNG, 하단/NNG, 상단/NNG, 테스트/NNG, 가능성...  \n",
       "3  [믹스/NNG, 합의/NNG, 반영/NNG, 예상/NNG, 경제/NNG, 성장률/N...  \n",
       "4  [경기/NNG, 전망/NNG, 분명/MAG, 인플레이션/NNG, 명분/NNG, 결정...  "
      ]
     },
     "execution_count": 4,
     "metadata": {},
     "output_type": "execute_result"
    }
   ],
   "source": [
    "bond_report_df = pd.read_pickle('./data_files/NAVER_bond_reports/pkl/bond_reports_ngram.pkl')\n",
    "bond_report_df.date = pd.to_datetime(bond_report_df.date, format='%Y-%m-%d')\n",
    "bond_report_df.head()"
   ]
  },
  {
   "cell_type": "code",
   "execution_count": 8,
   "metadata": {},
   "outputs": [
    {
     "data": {
      "text/plain": [
       "3604"
      ]
     },
     "execution_count": 8,
     "metadata": {},
     "output_type": "execute_result"
    }
   ],
   "source": [
    "len(bond_report_df)"
   ]
  },
  {
   "cell_type": "code",
   "execution_count": 6,
   "metadata": {},
   "outputs": [
    {
     "data": {
      "text/html": [
       "<div>\n",
       "<style scoped>\n",
       "    .dataframe tbody tr th:only-of-type {\n",
       "        vertical-align: middle;\n",
       "    }\n",
       "\n",
       "    .dataframe tbody tr th {\n",
       "        vertical-align: top;\n",
       "    }\n",
       "\n",
       "    .dataframe thead th {\n",
       "        text-align: right;\n",
       "    }\n",
       "</style>\n",
       "<table border=\"1\" class=\"dataframe\">\n",
       "  <thead>\n",
       "    <tr style=\"text-align: right;\">\n",
       "      <th></th>\n",
       "      <th>date</th>\n",
       "      <th>ngrams</th>\n",
       "    </tr>\n",
       "  </thead>\n",
       "  <tbody>\n",
       "    <tr>\n",
       "      <th>0</th>\n",
       "      <td>2005-06-09</td>\n",
       "      <td>[경제/NNG, 경제/NNG, 비해/VV, 특별/NNG, 요인/NNG, 불구/NNG...</td>\n",
       "    </tr>\n",
       "    <tr>\n",
       "      <th>1</th>\n",
       "      <td>2005-06-23</td>\n",
       "      <td>[]</td>\n",
       "    </tr>\n",
       "    <tr>\n",
       "      <th>2</th>\n",
       "      <td>2005-07-07</td>\n",
       "      <td>[국제/NNG, 유가/NNG, 오르/VV, 원화/NNG, 화간/NNG, 동조/NNG...</td>\n",
       "    </tr>\n",
       "    <tr>\n",
       "      <th>3</th>\n",
       "      <td>2005-08-11</td>\n",
       "      <td>[위안/NNG, 절상/NNG, 원화/NNG, 절상/NNG, 가장/MAG, 추가/NN...</td>\n",
       "    </tr>\n",
       "    <tr>\n",
       "      <th>4</th>\n",
       "      <td>2005-09-08</td>\n",
       "      <td>[금융/NNG, 불안사태/NNG, 발생/NNG, 가운데/NNG, 국제/NNG, 환투...</td>\n",
       "    </tr>\n",
       "  </tbody>\n",
       "</table>\n",
       "</div>"
      ],
      "text/plain": [
       "        date                                             ngrams\n",
       "0 2005-06-09  [경제/NNG, 경제/NNG, 비해/VV, 특별/NNG, 요인/NNG, 불구/NNG...\n",
       "1 2005-06-23                                                 []\n",
       "2 2005-07-07  [국제/NNG, 유가/NNG, 오르/VV, 원화/NNG, 화간/NNG, 동조/NNG...\n",
       "3 2005-08-11  [위안/NNG, 절상/NNG, 원화/NNG, 절상/NNG, 가장/MAG, 추가/NN...\n",
       "4 2005-09-08  [금융/NNG, 불안사태/NNG, 발생/NNG, 가운데/NNG, 국제/NNG, 환투..."
      ]
     },
     "execution_count": 6,
     "metadata": {},
     "output_type": "execute_result"
    }
   ],
   "source": [
    "ngram_freq_df = minutes_df[['date', 'ngrams']]\n",
    "ngram_freq_df = ngram_freq_df.append(bond_report_df[['date', 'ngrams']], ignore_index=True)\n",
    "ngram_freq_df.head()"
   ]
  },
  {
   "cell_type": "code",
   "execution_count": 9,
   "metadata": {},
   "outputs": [
    {
     "data": {
      "text/plain": [
       "3905"
      ]
     },
     "execution_count": 9,
     "metadata": {},
     "output_type": "execute_result"
    }
   ],
   "source": [
    "len(ngram_freq_df)"
   ]
  },
  {
   "cell_type": "code",
   "execution_count": 12,
   "metadata": {},
   "outputs": [
    {
     "name": "stdout",
     "output_type": "stream",
     "text": [
      "3905\n"
     ]
    },
    {
     "data": {
      "text/html": [
       "<div>\n",
       "<style scoped>\n",
       "    .dataframe tbody tr th:only-of-type {\n",
       "        vertical-align: middle;\n",
       "    }\n",
       "\n",
       "    .dataframe tbody tr th {\n",
       "        vertical-align: top;\n",
       "    }\n",
       "\n",
       "    .dataframe thead th {\n",
       "        text-align: right;\n",
       "    }\n",
       "</style>\n",
       "<table border=\"1\" class=\"dataframe\">\n",
       "  <thead>\n",
       "    <tr style=\"text-align: right;\">\n",
       "      <th></th>\n",
       "      <th>date</th>\n",
       "      <th>ngrams</th>\n",
       "      <th>change</th>\n",
       "    </tr>\n",
       "  </thead>\n",
       "  <tbody>\n",
       "    <tr>\n",
       "      <th>0</th>\n",
       "      <td>2005-06-09</td>\n",
       "      <td>[경제/NNG, 경제/NNG, 비해/VV, 특별/NNG, 요인/NNG, 불구/NNG...</td>\n",
       "      <td>-1.0</td>\n",
       "    </tr>\n",
       "    <tr>\n",
       "      <th>1</th>\n",
       "      <td>2005-06-23</td>\n",
       "      <td>[]</td>\n",
       "      <td>-1.0</td>\n",
       "    </tr>\n",
       "    <tr>\n",
       "      <th>2</th>\n",
       "      <td>2005-07-07</td>\n",
       "      <td>[국제/NNG, 유가/NNG, 오르/VV, 원화/NNG, 화간/NNG, 동조/NNG...</td>\n",
       "      <td>-1.0</td>\n",
       "    </tr>\n",
       "    <tr>\n",
       "      <th>3</th>\n",
       "      <td>2005-08-11</td>\n",
       "      <td>[위안/NNG, 절상/NNG, 원화/NNG, 절상/NNG, 가장/MAG, 추가/NN...</td>\n",
       "      <td>1.0</td>\n",
       "    </tr>\n",
       "    <tr>\n",
       "      <th>4</th>\n",
       "      <td>2005-09-08</td>\n",
       "      <td>[금융/NNG, 불안사태/NNG, 발생/NNG, 가운데/NNG, 국제/NNG, 환투...</td>\n",
       "      <td>-1.0</td>\n",
       "    </tr>\n",
       "  </tbody>\n",
       "</table>\n",
       "</div>"
      ],
      "text/plain": [
       "        date                                             ngrams  change\n",
       "0 2005-06-09  [경제/NNG, 경제/NNG, 비해/VV, 특별/NNG, 요인/NNG, 불구/NNG...    -1.0\n",
       "1 2005-06-23                                                 []    -1.0\n",
       "2 2005-07-07  [국제/NNG, 유가/NNG, 오르/VV, 원화/NNG, 화간/NNG, 동조/NNG...    -1.0\n",
       "3 2005-08-11  [위안/NNG, 절상/NNG, 원화/NNG, 절상/NNG, 가장/MAG, 추가/NN...     1.0\n",
       "4 2005-09-08  [금융/NNG, 불안사태/NNG, 발생/NNG, 가운데/NNG, 국제/NNG, 환투...    -1.0"
      ]
     },
     "execution_count": 12,
     "metadata": {},
     "output_type": "execute_result"
    }
   ],
   "source": [
    "ngram_freq_df = ngram_freq_df.merge(call_rates_df[['date', 'change']], how='left', on='date', )\n",
    "print(len(ngram_freq_df))\n",
    "ngram_freq_df.head()"
   ]
  },
  {
   "cell_type": "markdown",
   "metadata": {},
   "source": [
    "## Get unique ngrams"
   ]
  },
  {
   "cell_type": "code",
   "execution_count": 15,
   "metadata": {},
   "outputs": [],
   "source": [
    "all_ngrams = []\n",
    "\n",
    "for li in ngram_freq_df.ngrams:\n",
    "    all_ngrams += li"
   ]
  },
  {
   "cell_type": "code",
   "execution_count": 22,
   "metadata": {},
   "outputs": [],
   "source": [
    "unique_ngrams = set(all_ngrams)"
   ]
  },
  {
   "cell_type": "markdown",
   "metadata": {},
   "source": [
    "## Count unique ngrams' frequency by label (hawkish/dovish)"
   ]
  },
  {
   "cell_type": "code",
   "execution_count": 68,
   "metadata": {},
   "outputs": [],
   "source": [
    "ngram_freq_dovish_df = ngram_freq_df[ngram_freq_df.change == -1]\n",
    "ngram_freq_hawkish_df = ngram_freq_df[ngram_freq_df.change == 1]"
   ]
  },
  {
   "cell_type": "code",
   "execution_count": 84,
   "metadata": {},
   "outputs": [],
   "source": [
    "unique_ngrams_freq_dic = {}\n",
    "\n",
    "for element in unique_ngrams:\n",
    "    unique_ngrams_freq_dic[element] = {'hawkish':0, 'dovish':0}"
   ]
  },
  {
   "cell_type": "code",
   "execution_count": 85,
   "metadata": {},
   "outputs": [],
   "source": [
    "for ngram_list in ngram_freq_dovish_df.ngrams:\n",
    "    for ngram in ngram_list:\n",
    "        unique_ngrams_freq_dic[ngram]['dovish'] += 1\n",
    "    "
   ]
  },
  {
   "cell_type": "code",
   "execution_count": 86,
   "metadata": {},
   "outputs": [],
   "source": [
    "for ngram_list in ngram_freq_hawkish_df.ngrams:\n",
    "    for ngram in ngram_list:\n",
    "        unique_ngrams_freq_dic[ngram]['hawkish'] += 1\n",
    "    "
   ]
  },
  {
   "cell_type": "code",
   "execution_count": 104,
   "metadata": {},
   "outputs": [
    {
     "data": {
      "text/html": [
       "<div>\n",
       "<style scoped>\n",
       "    .dataframe tbody tr th:only-of-type {\n",
       "        vertical-align: middle;\n",
       "    }\n",
       "\n",
       "    .dataframe tbody tr th {\n",
       "        vertical-align: top;\n",
       "    }\n",
       "\n",
       "    .dataframe thead th {\n",
       "        text-align: right;\n",
       "    }\n",
       "</style>\n",
       "<table border=\"1\" class=\"dataframe\">\n",
       "  <thead>\n",
       "    <tr style=\"text-align: right;\">\n",
       "      <th></th>\n",
       "      <th>hawkish</th>\n",
       "      <th>dovish</th>\n",
       "      <th>total</th>\n",
       "    </tr>\n",
       "  </thead>\n",
       "  <tbody>\n",
       "    <tr>\n",
       "      <th>제군/NNG</th>\n",
       "      <td>2</td>\n",
       "      <td>0</td>\n",
       "      <td>2</td>\n",
       "    </tr>\n",
       "    <tr>\n",
       "      <th>이변/NNG</th>\n",
       "      <td>9</td>\n",
       "      <td>7</td>\n",
       "      <td>16</td>\n",
       "    </tr>\n",
       "    <tr>\n",
       "      <th>불확실성/NNG;안전자산/NNG;선호/NNG</th>\n",
       "      <td>2</td>\n",
       "      <td>2</td>\n",
       "      <td>4</td>\n",
       "    </tr>\n",
       "    <tr>\n",
       "      <th>마다/VV</th>\n",
       "      <td>1</td>\n",
       "      <td>0</td>\n",
       "      <td>1</td>\n",
       "    </tr>\n",
       "    <tr>\n",
       "      <th>수요예측/NNG</th>\n",
       "      <td>1769</td>\n",
       "      <td>2290</td>\n",
       "      <td>4059</td>\n",
       "    </tr>\n",
       "  </tbody>\n",
       "</table>\n",
       "</div>"
      ],
      "text/plain": [
       "                          hawkish  dovish  total\n",
       "제군/NNG                          2       0      2\n",
       "이변/NNG                          9       7     16\n",
       "불확실성/NNG;안전자산/NNG;선호/NNG        2       2      4\n",
       "마다/VV                           1       0      1\n",
       "수요예측/NNG                     1769    2290   4059"
      ]
     },
     "execution_count": 104,
     "metadata": {},
     "output_type": "execute_result"
    }
   ],
   "source": [
    "unique_ngrams_freq_df = pd.DataFrame.from_dict(unique_ngrams_freq_dic, orient='index', columns=['hawkish', 'dovish'])\n",
    "unique_ngrams_freq_df['total'] = unique_ngrams_freq_df.hawkish + unique_ngrams_freq_df.dovish\n",
    "unique_ngrams_freq_df.head()"
   ]
  },
  {
   "cell_type": "markdown",
   "metadata": {},
   "source": [
    "### Drop ngram total freq < 15"
   ]
  },
  {
   "cell_type": "code",
   "execution_count": 105,
   "metadata": {},
   "outputs": [],
   "source": [
    "unique_ngrams_freq_df = unique_ngrams_freq_df[unique_ngrams_freq_df.total > 15]"
   ]
  },
  {
   "cell_type": "markdown",
   "metadata": {},
   "source": [
    "## Calculate Bayes probabilities & create polarity dictionary"
   ]
  },
  {
   "cell_type": "code",
   "execution_count": 106,
   "metadata": {},
   "outputs": [],
   "source": [
    "sum_hawkish = unique_ngrams_freq_df.hawkish.sum()\n",
    "sum_dovish = unique_ngrams_freq_df.dovish.sum()\n",
    "sum_total = sum_hawkish + sum_dovish"
   ]
  },
  {
   "cell_type": "code",
   "execution_count": 107,
   "metadata": {},
   "outputs": [],
   "source": [
    "unique_ngrams_freq_df['prob_feature_given_hawkish'] = unique_ngrams_freq_df.hawkish/sum_hawkish\n",
    "unique_ngrams_freq_df['prob_feature_given_dovish'] = unique_ngrams_freq_df.dovish/sum_dovish\n",
    "unique_ngrams_freq_df['polarity_score'] = unique_ngrams_freq_df.prob_feature_given_hawkish/unique_ngrams_freq_df.prob_feature_given_dovish"
   ]
  },
  {
   "cell_type": "code",
   "execution_count": 108,
   "metadata": {},
   "outputs": [],
   "source": [
    "unique_ngrams_freq_df.polarity_score = unique_ngrams_freq_df.polarity_score.replace([np.inf, -np.inf], np.nan)\n",
    "unique_ngrams_freq_df.dropna(inplace=True)"
   ]
  },
  {
   "cell_type": "code",
   "execution_count": 109,
   "metadata": {},
   "outputs": [
    {
     "data": {
      "text/html": [
       "<div>\n",
       "<style scoped>\n",
       "    .dataframe tbody tr th:only-of-type {\n",
       "        vertical-align: middle;\n",
       "    }\n",
       "\n",
       "    .dataframe tbody tr th {\n",
       "        vertical-align: top;\n",
       "    }\n",
       "\n",
       "    .dataframe thead th {\n",
       "        text-align: right;\n",
       "    }\n",
       "</style>\n",
       "<table border=\"1\" class=\"dataframe\">\n",
       "  <thead>\n",
       "    <tr style=\"text-align: right;\">\n",
       "      <th></th>\n",
       "      <th>hawkish</th>\n",
       "      <th>dovish</th>\n",
       "      <th>total</th>\n",
       "      <th>prob_feature_given_hawkish</th>\n",
       "      <th>prob_feature_given_dovish</th>\n",
       "      <th>polarity_score</th>\n",
       "    </tr>\n",
       "  </thead>\n",
       "  <tbody>\n",
       "    <tr>\n",
       "      <th>이변/NNG</th>\n",
       "      <td>9</td>\n",
       "      <td>7</td>\n",
       "      <td>16</td>\n",
       "      <td>0.000008</td>\n",
       "      <td>0.000005</td>\n",
       "      <td>1.556266</td>\n",
       "    </tr>\n",
       "    <tr>\n",
       "      <th>수요예측/NNG</th>\n",
       "      <td>1769</td>\n",
       "      <td>2290</td>\n",
       "      <td>4059</td>\n",
       "      <td>0.001500</td>\n",
       "      <td>0.001604</td>\n",
       "      <td>0.935043</td>\n",
       "    </tr>\n",
       "    <tr>\n",
       "      <th>지신/NNG</th>\n",
       "      <td>12</td>\n",
       "      <td>8</td>\n",
       "      <td>20</td>\n",
       "      <td>0.000010</td>\n",
       "      <td>0.000006</td>\n",
       "      <td>1.815644</td>\n",
       "    </tr>\n",
       "    <tr>\n",
       "      <th>업체/NNG</th>\n",
       "      <td>551</td>\n",
       "      <td>552</td>\n",
       "      <td>1103</td>\n",
       "      <td>0.000467</td>\n",
       "      <td>0.000387</td>\n",
       "      <td>1.208236</td>\n",
       "    </tr>\n",
       "    <tr>\n",
       "      <th>금융기관/NNG</th>\n",
       "      <td>618</td>\n",
       "      <td>837</td>\n",
       "      <td>1455</td>\n",
       "      <td>0.000524</td>\n",
       "      <td>0.000586</td>\n",
       "      <td>0.893722</td>\n",
       "    </tr>\n",
       "  </tbody>\n",
       "</table>\n",
       "</div>"
      ],
      "text/plain": [
       "          hawkish  dovish  total  prob_feature_given_hawkish  \\\n",
       "이변/NNG          9       7     16                    0.000008   \n",
       "수요예측/NNG     1769    2290   4059                    0.001500   \n",
       "지신/NNG         12       8     20                    0.000010   \n",
       "업체/NNG        551     552   1103                    0.000467   \n",
       "금융기관/NNG      618     837   1455                    0.000524   \n",
       "\n",
       "          prob_feature_given_dovish  polarity_score  \n",
       "이변/NNG                     0.000005        1.556266  \n",
       "수요예측/NNG                   0.001604        0.935043  \n",
       "지신/NNG                     0.000006        1.815644  \n",
       "업체/NNG                     0.000387        1.208236  \n",
       "금융기관/NNG                   0.000586        0.893722  "
      ]
     },
     "execution_count": 109,
     "metadata": {},
     "output_type": "execute_result"
    }
   ],
   "source": [
    "unique_ngrams_freq_df.head()"
   ]
  },
  {
   "cell_type": "markdown",
   "metadata": {},
   "source": [
    "### Drop ngrams in the \"grey area\". i.e, neutral ngrams. \n",
    "\n",
    "intensity threshold = 1.3"
   ]
  },
  {
   "cell_type": "code",
   "execution_count": 110,
   "metadata": {},
   "outputs": [],
   "source": [
    "intensity_threshold = 1.3"
   ]
  },
  {
   "cell_type": "code",
   "execution_count": 112,
   "metadata": {},
   "outputs": [],
   "source": [
    "unique_ngrams_freq_df = unique_ngrams_freq_df[(unique_ngrams_freq_df.polarity_score >= intensity_threshold) | (unique_ngrams_freq_df.polarity_score <= 1/intensity_threshold)]"
   ]
  },
  {
   "cell_type": "code",
   "execution_count": 113,
   "metadata": {},
   "outputs": [],
   "source": [
    "unique_ngrams_freq_df.to_pickle('./data_files/results/polarity_dictionary.pkl')"
   ]
  },
  {
   "cell_type": "code",
   "execution_count": null,
   "metadata": {},
   "outputs": [],
   "source": []
  }
 ],
 "metadata": {
  "kernelspec": {
   "display_name": "Python 3",
   "language": "python",
   "name": "python3"
  },
  "language_info": {
   "codemirror_mode": {
    "name": "ipython",
    "version": 3
   },
   "file_extension": ".py",
   "mimetype": "text/x-python",
   "name": "python",
   "nbconvert_exporter": "python",
   "pygments_lexer": "ipython3",
   "version": "3.7.6"
  }
 },
 "nbformat": 4,
 "nbformat_minor": 4
}

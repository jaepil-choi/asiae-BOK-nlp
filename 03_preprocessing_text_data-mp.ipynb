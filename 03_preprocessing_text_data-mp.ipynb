{
 "cells": [
  {
   "cell_type": "code",
   "execution_count": 5,
   "metadata": {},
   "outputs": [],
   "source": [
    "# -*- coding: utf-8 -*-\n",
    "from ekonlpy.sentiment import MPCK\n",
    "\n",
    "import pandas as pd\n",
    "import multiprocessing as mp\n",
    "import pickle\n",
    "\n",
    "import os, sys\n",
    "import re\n",
    "\n",
    "import preprocessing_mp_worker as worker"
   ]
  },
  {
   "cell_type": "markdown",
   "metadata": {},
   "source": [
    "# Tidy BOK minutes text\n",
    "\n",
    "Jupyter Lab에서의 multiprocessing 사용을 위해 main함수인 preprocessing()를 제외한 모든 함수는 preprocessing_mp_worker.py에 옮겨졌다. \n",
    "\n",
    "Code Attribution: 김현진T, Fininsight"
   ]
  },
  {
   "cell_type": "markdown",
   "metadata": {},
   "source": [
    "### Korean stop words from here: \n",
    "https://www.ranks.nl/stopwords/korean"
   ]
  },
  {
   "cell_type": "markdown",
   "metadata": {},
   "source": [
    "## Test code: 어떤 식으로 파싱되는지 확인. "
   ]
  },
  {
   "cell_type": "code",
   "execution_count": 2,
   "metadata": {},
   "outputs": [],
   "source": [
    "source_folder=\"./data_files/BOK_minutes/pdf2txt/\"\n",
    "output_file=\"./data_files/BOK_minutes/pkl/\"\n",
    "\n",
    "txt_files = [f for f in os.listdir(source_folder) if os.path.isfile(os.path.join(source_folder, f))]\n",
    "txt_files = [f for f in txt_files if f[-4:] == '.txt']\n",
    "txt_files.sort()"
   ]
  },
  {
   "cell_type": "code",
   "execution_count": 3,
   "metadata": {},
   "outputs": [],
   "source": [
    "df = pd.DataFrame(columns=['date', 'minutes'])\n",
    "df[\"Economic Situation\"] = \"\"\n",
    "df[\"Foreign Currency\"] = \"\"\n",
    "df[\"Financial Markets\"] = \"\"\n",
    "df[\"Monetary Policy\"] = \"\"\n",
    "df[\"Participant Views\"] = \"\"\n",
    "df[\"Government View\"] = \"\"\n",
    "\n",
    "df[\"Economic Situation count\"] = \"\"\n",
    "df[\"Foreign Currency count\"] = \"\"\n",
    "df[\"Financial Markets count\"] = \"\"\n",
    "df[\"Monetary Policy count\"] = \"\"\n",
    "df[\"Participant Views count\"] = \"\"\n",
    "df[\"Government View count\"] = \"\"\n",
    "df['ngrams'] =\"\""
   ]
  },
  {
   "cell_type": "markdown",
   "metadata": {},
   "source": [
    "### 한 문서의 ngram의 갯수가 매우 많다. 이를 모두 각각 하나의 row로 만들면 df의 길이가 매우 커진다. "
   ]
  },
  {
   "cell_type": "markdown",
   "metadata": {},
   "source": [
    "* 0번째 문서의 모든 ngram을 ,(comma)로 separate한 경우 (원본코드의 방법)"
   ]
  },
  {
   "cell_type": "code",
   "execution_count": 44,
   "metadata": {},
   "outputs": [
    {
     "name": "stdout",
     "output_type": "stream",
     "text": [
      "2005-06-09_-_금융통화위원회 의사록(2005년도 제12차).txt\n",
      "doing #0 iteration...\n",
      "doing #1 iteration...\n",
      "Wall time: 17.8 s\n"
     ]
    }
   ],
   "source": [
    "%%time\n",
    "\n",
    "for txt_file in txt_files[:1]:\n",
    "    with open(source_folder + txt_file, 'r',encoding='utf-8') as f :\n",
    "        txt = f.read()\n",
    "        sections, section_texts = worker.preprocess_minutes(txt)\n",
    "\n",
    "        print(txt_file)\n",
    "\n",
    "        ngrams = []\n",
    "        for i, section_text in enumerate(section_texts[1:3]):\n",
    "            print(\"doing #{} iteration...\".format(i))\n",
    "            with mp.Pool(processes=6) as p:\n",
    "                mp_result = p.map(worker.text2ngram, section_text)\n",
    "            for i in mp_result:\n",
    "                ngrams += i\n",
    "\n",
    "    df.loc[len(df)] = [txt_file.split('_-_')[0],\n",
    "                       txt,\n",
    "                       '@@@'.join(section_texts[0]),\n",
    "                       '@@@'.join(section_texts[1]),\n",
    "                       '@@@'.join(section_texts[2]),\n",
    "                       '@@@'.join(section_texts[3]),\n",
    "                       '@@@'.join(section_texts[4]),\n",
    "                       '@@@'.join(section_texts[5]),\n",
    "                       len(section_texts[0]),\n",
    "                       len(section_texts[1]),\n",
    "                       len(section_texts[2]),\n",
    "                       len(section_texts[3]),\n",
    "                       len(section_texts[4]),\n",
    "                       len(section_texts[5]),\n",
    "                       '@@@'.join(ngrams)]"
   ]
  },
  {
   "cell_type": "code",
   "execution_count": 45,
   "metadata": {},
   "outputs": [
    {
     "data": {
      "text/plain": [
       "Index                           20992\n",
       "date                           175808\n",
       "minutes                     111929344\n",
       "Economic Situation           21747712\n",
       "Foreign Currency              5851520\n",
       "Financial Markets            80897920\n",
       "Monetary Policy                154816\n",
       "Participant Views              154816\n",
       "Government View                154816\n",
       "Economic Situation count        94464\n",
       "Foreign Currency count          94464\n",
       "Financial Markets count         94464\n",
       "Monetary Policy count           83968\n",
       "Participant Views count         83968\n",
       "Government View count           83968\n",
       "ngrams                         448233\n",
       "dtype: int64"
      ]
     },
     "execution_count": 45,
     "metadata": {},
     "output_type": "execute_result"
    }
   ],
   "source": [
    "df.memory_usage(index=True, deep=True)"
   ]
  },
  {
   "cell_type": "code",
   "execution_count": 46,
   "metadata": {},
   "outputs": [
    {
     "data": {
      "text/plain": [
       "645033"
      ]
     },
     "execution_count": 46,
     "metadata": {},
     "output_type": "execute_result"
    }
   ],
   "source": [
    "df[['date', 'ngrams']].memory_usage(index=True, deep=True).sum()"
   ]
  },
  {
   "cell_type": "code",
   "execution_count": 47,
   "metadata": {},
   "outputs": [
    {
     "data": {
      "text/plain": [
       "0       경제/NNG,경제/NNG,비해/VV,특별/NNG,요인/NNG,불구/NNG,원엔/NN...\n",
       "1                                                        \n",
       "2                                                        \n",
       "3                                                        \n",
       "4                                   경@@@제@@@/@@@N@@@N@@@G\n",
       "                              ...                        \n",
       "2619                        프@@@리@@@미@@@엄@@@/@@@N@@@N@@@G\n",
       "2620                                수@@@준@@@/@@@N@@@N@@@G\n",
       "2621                                유@@@지@@@/@@@N@@@N@@@G\n",
       "2622                                양@@@호@@@/@@@N@@@N@@@G\n",
       "2623    경제/NNG@@@경제/NNG@@@비해/VV@@@특별/NNG@@@요인/NNG@@@불구...\n",
       "Name: ngrams, Length: 2624, dtype: object"
      ]
     },
     "execution_count": 47,
     "metadata": {},
     "output_type": "execute_result"
    }
   ],
   "source": [
    "df.ngrams"
   ]
  },
  {
   "cell_type": "code",
   "execution_count": 48,
   "metadata": {},
   "outputs": [
    {
     "name": "stdout",
     "output_type": "stream",
     "text": [
      "21924\n"
     ]
    },
    {
     "data": {
      "text/plain": [
       "'경제/NNG,경제/NNG,비해/VV,특별/NNG,요인/NNG,불구/NNG,원엔/NNG,환율/NNG,지속/NNG,하락/NNG,이유/NNG,대해/VV,위안/NNG,상시/NNG,통화/NNG,절상/NNG,기대/NNG,원화/NNG,달러/NNG,엔달러/NNG,환율/NNG,상승/NNG,추수/NNG,못하/VX,외환/NNG,수급/NNG,공급우위/NNG,상태/NNG,지속/NNG,국제투자은행/NNG,엔달러/NNG,환율/NNG,전망/NNG,상향/NNG,불구/NNG,원달러/NNG,조정/NNG,아직/MAG,이루/VV,기업/NNG,기대/NNG,원화/NNG,절'"
      ]
     },
     "execution_count": 48,
     "metadata": {},
     "output_type": "execute_result"
    }
   ],
   "source": [
    "print(len(df.ngrams[0]))\n",
    "df.ngrams[0][:300]"
   ]
  },
  {
   "cell_type": "markdown",
   "metadata": {},
   "source": [
    "* 0번째 문서의 모든 ngram을 각각 row로 만들어 df에 담았을 경우"
   ]
  },
  {
   "cell_type": "code",
   "execution_count": 49,
   "metadata": {},
   "outputs": [
    {
     "name": "stdout",
     "output_type": "stream",
     "text": [
      "2005-06-09_-_금융통화위원회 의사록(2005년도 제12차).txt\n",
      "doing #0 iteration...\n",
      "doing #1 iteration...\n",
      "Wall time: 57.2 s\n"
     ]
    }
   ],
   "source": [
    "%%time\n",
    "\n",
    "for txt_file in txt_files[:1]:\n",
    "    with open(source_folder + txt_file, 'r',encoding='utf-8') as f :\n",
    "        txt = f.read()\n",
    "        sections, section_texts = worker.preprocess_minutes(txt)\n",
    "\n",
    "        print(txt_file)\n",
    "\n",
    "        ngrams = []\n",
    "        for i, section_text in enumerate(section_texts[1:3]):\n",
    "            print(\"doing #{} iteration...\".format(i))\n",
    "            with mp.Pool(processes=6) as p:\n",
    "                mp_result = p.map(worker.text2ngram, section_text)\n",
    "                for ngram_list in mp_result:\n",
    "                    for item in ngram_list:\n",
    "                        df.loc[len(df)] = [txt_file.split('_-_')[0],\n",
    "                                   txt,\n",
    "                                   '@@@'.join(section_texts[0]),\n",
    "                                   '@@@'.join(section_texts[1]),\n",
    "                                   '@@@'.join(section_texts[2]),\n",
    "                                   '@@@'.join(section_texts[3]),\n",
    "                                   '@@@'.join(section_texts[4]),\n",
    "                                   '@@@'.join(section_texts[5]),\n",
    "                                   len(section_texts[0]),\n",
    "                                   len(section_texts[1]),\n",
    "                                   len(section_texts[2]),\n",
    "                                   len(section_texts[3]),\n",
    "                                   len(section_texts[4]),\n",
    "                                   len(section_texts[5]),\n",
    "                                   '@@@'.join(item)]\n"
   ]
  },
  {
   "cell_type": "code",
   "execution_count": 50,
   "metadata": {},
   "outputs": [
    {
     "data": {
      "text/plain": [
       "Index                           41944\n",
       "date                           351281\n",
       "minutes                     223645408\n",
       "Economic Situation           43453984\n",
       "Foreign Currency             11691890\n",
       "Financial Markets           161641690\n",
       "Monetary Policy                309337\n",
       "Participant Views              309337\n",
       "Government View                309337\n",
       "Economic Situation count       188748\n",
       "Foreign Currency count         188748\n",
       "Financial Markets count        188748\n",
       "Monetary Policy count          167776\n",
       "Participant Views count        167776\n",
       "Government View count          167776\n",
       "ngrams                         798613\n",
       "dtype: int64"
      ]
     },
     "execution_count": 50,
     "metadata": {},
     "output_type": "execute_result"
    }
   ],
   "source": [
    "df.memory_usage(index=True, deep=True)"
   ]
  },
  {
   "cell_type": "code",
   "execution_count": 51,
   "metadata": {},
   "outputs": [
    {
     "data": {
      "text/plain": [
       "1191838"
      ]
     },
     "execution_count": 51,
     "metadata": {},
     "output_type": "execute_result"
    }
   ],
   "source": [
    "df[['date', 'ngrams']].memory_usage(index=True, deep=True).sum()"
   ]
  },
  {
   "cell_type": "code",
   "execution_count": 52,
   "metadata": {},
   "outputs": [
    {
     "data": {
      "text/plain": [
       "0       경제/NNG,경제/NNG,비해/VV,특별/NNG,요인/NNG,불구/NNG,원엔/NN...\n",
       "1                                                        \n",
       "2                                                        \n",
       "3                                                        \n",
       "4                                   경@@@제@@@/@@@N@@@N@@@G\n",
       "                              ...                        \n",
       "5238                            카@@@드@@@채@@@/@@@N@@@N@@@G\n",
       "5239                        프@@@리@@@미@@@엄@@@/@@@N@@@N@@@G\n",
       "5240                                수@@@준@@@/@@@N@@@N@@@G\n",
       "5241                                유@@@지@@@/@@@N@@@N@@@G\n",
       "5242                                양@@@호@@@/@@@N@@@N@@@G\n",
       "Name: ngrams, Length: 5243, dtype: object"
      ]
     },
     "execution_count": 52,
     "metadata": {},
     "output_type": "execute_result"
    }
   ],
   "source": [
    "df.ngrams"
   ]
  },
  {
   "cell_type": "code",
   "execution_count": 9,
   "metadata": {},
   "outputs": [],
   "source": [
    "def preprocessing(source_folder=\"./data_files/BOK_minutes/pdf2txt/\", output_file=\"./data_files/BOK_minutes/pkl/\") :\n",
    "    # 지정 폴더 내 파일 목록 조회 (파일만)\n",
    "    txt_files = [f for f in os.listdir(source_folder) if os.path.isfile(os.path.join(source_folder, f))]\n",
    "    txt_files = [f for f in txt_files if f[-4:] == '.txt']\n",
    "    txt_files.sort()\n",
    "    df = pd.DataFrame(columns=['date', 'minutes'])\n",
    "    df[\"Economic Situation\"] = \"\"\n",
    "    df[\"Foreign Currency\"] = \"\"\n",
    "    df[\"Financial Markets\"] = \"\"\n",
    "    df[\"Monetary Policy\"] = \"\"\n",
    "    df[\"Participant Views\"] = \"\"\n",
    "    df[\"Government View\"] = \"\"\n",
    "\n",
    "    df[\"Economic Situation count\"] = \"\"\n",
    "    df[\"Foreign Currency count\"] = \"\"\n",
    "    df[\"Financial Markets count\"] = \"\"\n",
    "    df[\"Monetary Policy count\"] = \"\"\n",
    "    df[\"Participant Views count\"] = \"\"\n",
    "    df[\"Government View count\"] = \"\"\n",
    "    df['ngrams'] =\"\"\n",
    "    \n",
    "\n",
    "    for txt_file in txt_files :\n",
    "        try :\n",
    "            with open(source_folder + txt_file, 'r',encoding='utf-8') as f :\n",
    "                txt = f.read()\n",
    "                sections, section_texts = preprocess_minutes(txt)\n",
    "\n",
    "                print(txt_file)\n",
    "\n",
    "                ngrams = []\n",
    "                for section_text in section_texts[1:3] :\n",
    "                    for sentence in section_text :\n",
    "                        ngrams.append(','.join(text2ngram(sentence)))\n",
    "\n",
    "                #print('@@@'.join(ngrams))\n",
    "                #break\n",
    "\n",
    "                df.loc[len(df)] = [txt_file.split('_-_')[0],\n",
    "                                   txt,\n",
    "                                   '@@@'.join(section_texts[0]),\n",
    "                                   '@@@'.join(section_texts[1]),\n",
    "                                   '@@@'.join(section_texts[2]),\n",
    "                                   '@@@'.join(section_texts[3]),\n",
    "                                   '@@@'.join(section_texts[4]),\n",
    "                                   '@@@'.join(section_texts[5]),\n",
    "                                   len(section_texts[0]),\n",
    "                                   len(section_texts[1]),\n",
    "                                   len(section_texts[2]),\n",
    "                                   len(section_texts[3]),\n",
    "                                   len(section_texts[4]),\n",
    "                                   len(section_texts[5]),\n",
    "                                   '@@@'.join(ngrams)]\n",
    "        except :\n",
    "            print('Error occurred at {}'.format(txt_file))\n",
    "            print('Error: ', sys.exc_info()[0])\n",
    "            pass\n",
    "    \n",
    "    df.to_pickle(output_file)\n",
    "        \n",
    "    print(df.shape)\n",
    "    print(\"---\")\n",
    "    print(df.head())"
   ]
  },
  {
   "cell_type": "code",
   "execution_count": null,
   "metadata": {},
   "outputs": [
    {
     "name": "stdout",
     "output_type": "stream",
     "text": [
      "2005-06-09_-_금융통화위원회 의사록(2005년도 제12차).txt\n"
     ]
    }
   ],
   "source": [
    "preprocessing()"
   ]
  },
  {
   "cell_type": "code",
   "execution_count": null,
   "metadata": {},
   "outputs": [],
   "source": []
  }
 ],
 "metadata": {
  "kernelspec": {
   "display_name": "Python 3",
   "language": "python",
   "name": "python3"
  },
  "language_info": {
   "codemirror_mode": {
    "name": "ipython",
    "version": 3
   },
   "file_extension": ".py",
   "mimetype": "text/x-python",
   "name": "python",
   "nbconvert_exporter": "python",
   "pygments_lexer": "ipython3",
   "version": "3.7.6"
  }
 },
 "nbformat": 4,
 "nbformat_minor": 4
}
